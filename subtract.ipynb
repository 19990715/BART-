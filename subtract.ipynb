{
  "nbformat": 4,
  "nbformat_minor": 0,
  "metadata": {
    "colab": {
      "name": "subtract.ipynb",
      "provenance": [],
      "collapsed_sections": [],
      "include_colab_link": true
    },
    "kernelspec": {
      "name": "python3",
      "display_name": "Python 3"
    },
    "language_info": {
      "name": "python"
    },
    "widgets": {
      "application/vnd.jupyter.widget-state+json": {
        "31cc723b56d441ea8bb8b30d94b24b60": {
          "model_module": "@jupyter-widgets/controls",
          "model_name": "HBoxModel",
          "model_module_version": "1.5.0",
          "state": {
            "_dom_classes": [],
            "_model_module": "@jupyter-widgets/controls",
            "_model_module_version": "1.5.0",
            "_model_name": "HBoxModel",
            "_view_count": null,
            "_view_module": "@jupyter-widgets/controls",
            "_view_module_version": "1.5.0",
            "_view_name": "HBoxView",
            "box_style": "",
            "children": [
              "IPY_MODEL_ea4c349115d946a0b393c03b69e9f6e8",
              "IPY_MODEL_54cd27fae1e643dc845a42199379f173",
              "IPY_MODEL_8dcc3e44b687446c8809654702631ff3"
            ],
            "layout": "IPY_MODEL_86e38e93429d4f24b4a7953b6def9328"
          }
        },
        "ea4c349115d946a0b393c03b69e9f6e8": {
          "model_module": "@jupyter-widgets/controls",
          "model_name": "HTMLModel",
          "model_module_version": "1.5.0",
          "state": {
            "_dom_classes": [],
            "_model_module": "@jupyter-widgets/controls",
            "_model_module_version": "1.5.0",
            "_model_name": "HTMLModel",
            "_view_count": null,
            "_view_module": "@jupyter-widgets/controls",
            "_view_module_version": "1.5.0",
            "_view_name": "HTMLView",
            "description": "",
            "description_tooltip": null,
            "layout": "IPY_MODEL_a86a0d46dadd4759b09de7e1527b5fbf",
            "placeholder": "​",
            "style": "IPY_MODEL_f5d7fa5b97a04ed39fc665f386516699",
            "value": "Downloading: 100%"
          }
        },
        "54cd27fae1e643dc845a42199379f173": {
          "model_module": "@jupyter-widgets/controls",
          "model_name": "FloatProgressModel",
          "model_module_version": "1.5.0",
          "state": {
            "_dom_classes": [],
            "_model_module": "@jupyter-widgets/controls",
            "_model_module_version": "1.5.0",
            "_model_name": "FloatProgressModel",
            "_view_count": null,
            "_view_module": "@jupyter-widgets/controls",
            "_view_module_version": "1.5.0",
            "_view_name": "ProgressView",
            "bar_style": "success",
            "description": "",
            "description_tooltip": null,
            "layout": "IPY_MODEL_2416f767c89d4bc59b2aa87b1d355590",
            "max": 1536,
            "min": 0,
            "orientation": "horizontal",
            "style": "IPY_MODEL_06b905109b1f4fb18b11e7235e8147db",
            "value": 1536
          }
        },
        "8dcc3e44b687446c8809654702631ff3": {
          "model_module": "@jupyter-widgets/controls",
          "model_name": "HTMLModel",
          "model_module_version": "1.5.0",
          "state": {
            "_dom_classes": [],
            "_model_module": "@jupyter-widgets/controls",
            "_model_module_version": "1.5.0",
            "_model_name": "HTMLModel",
            "_view_count": null,
            "_view_module": "@jupyter-widgets/controls",
            "_view_module_version": "1.5.0",
            "_view_name": "HTMLView",
            "description": "",
            "description_tooltip": null,
            "layout": "IPY_MODEL_a76abea89c6e4a36924a414299a2b67d",
            "placeholder": "​",
            "style": "IPY_MODEL_d7bbb3aef7684b05a61ea5693888c3e7",
            "value": " 1.50k/1.50k [00:00&lt;00:00, 37.0kB/s]"
          }
        },
        "86e38e93429d4f24b4a7953b6def9328": {
          "model_module": "@jupyter-widgets/base",
          "model_name": "LayoutModel",
          "model_module_version": "1.2.0",
          "state": {
            "_model_module": "@jupyter-widgets/base",
            "_model_module_version": "1.2.0",
            "_model_name": "LayoutModel",
            "_view_count": null,
            "_view_module": "@jupyter-widgets/base",
            "_view_module_version": "1.2.0",
            "_view_name": "LayoutView",
            "align_content": null,
            "align_items": null,
            "align_self": null,
            "border": null,
            "bottom": null,
            "display": null,
            "flex": null,
            "flex_flow": null,
            "grid_area": null,
            "grid_auto_columns": null,
            "grid_auto_flow": null,
            "grid_auto_rows": null,
            "grid_column": null,
            "grid_gap": null,
            "grid_row": null,
            "grid_template_areas": null,
            "grid_template_columns": null,
            "grid_template_rows": null,
            "height": null,
            "justify_content": null,
            "justify_items": null,
            "left": null,
            "margin": null,
            "max_height": null,
            "max_width": null,
            "min_height": null,
            "min_width": null,
            "object_fit": null,
            "object_position": null,
            "order": null,
            "overflow": null,
            "overflow_x": null,
            "overflow_y": null,
            "padding": null,
            "right": null,
            "top": null,
            "visibility": null,
            "width": null
          }
        },
        "a86a0d46dadd4759b09de7e1527b5fbf": {
          "model_module": "@jupyter-widgets/base",
          "model_name": "LayoutModel",
          "model_module_version": "1.2.0",
          "state": {
            "_model_module": "@jupyter-widgets/base",
            "_model_module_version": "1.2.0",
            "_model_name": "LayoutModel",
            "_view_count": null,
            "_view_module": "@jupyter-widgets/base",
            "_view_module_version": "1.2.0",
            "_view_name": "LayoutView",
            "align_content": null,
            "align_items": null,
            "align_self": null,
            "border": null,
            "bottom": null,
            "display": null,
            "flex": null,
            "flex_flow": null,
            "grid_area": null,
            "grid_auto_columns": null,
            "grid_auto_flow": null,
            "grid_auto_rows": null,
            "grid_column": null,
            "grid_gap": null,
            "grid_row": null,
            "grid_template_areas": null,
            "grid_template_columns": null,
            "grid_template_rows": null,
            "height": null,
            "justify_content": null,
            "justify_items": null,
            "left": null,
            "margin": null,
            "max_height": null,
            "max_width": null,
            "min_height": null,
            "min_width": null,
            "object_fit": null,
            "object_position": null,
            "order": null,
            "overflow": null,
            "overflow_x": null,
            "overflow_y": null,
            "padding": null,
            "right": null,
            "top": null,
            "visibility": null,
            "width": null
          }
        },
        "f5d7fa5b97a04ed39fc665f386516699": {
          "model_module": "@jupyter-widgets/controls",
          "model_name": "DescriptionStyleModel",
          "model_module_version": "1.5.0",
          "state": {
            "_model_module": "@jupyter-widgets/controls",
            "_model_module_version": "1.5.0",
            "_model_name": "DescriptionStyleModel",
            "_view_count": null,
            "_view_module": "@jupyter-widgets/base",
            "_view_module_version": "1.2.0",
            "_view_name": "StyleView",
            "description_width": ""
          }
        },
        "2416f767c89d4bc59b2aa87b1d355590": {
          "model_module": "@jupyter-widgets/base",
          "model_name": "LayoutModel",
          "model_module_version": "1.2.0",
          "state": {
            "_model_module": "@jupyter-widgets/base",
            "_model_module_version": "1.2.0",
            "_model_name": "LayoutModel",
            "_view_count": null,
            "_view_module": "@jupyter-widgets/base",
            "_view_module_version": "1.2.0",
            "_view_name": "LayoutView",
            "align_content": null,
            "align_items": null,
            "align_self": null,
            "border": null,
            "bottom": null,
            "display": null,
            "flex": null,
            "flex_flow": null,
            "grid_area": null,
            "grid_auto_columns": null,
            "grid_auto_flow": null,
            "grid_auto_rows": null,
            "grid_column": null,
            "grid_gap": null,
            "grid_row": null,
            "grid_template_areas": null,
            "grid_template_columns": null,
            "grid_template_rows": null,
            "height": null,
            "justify_content": null,
            "justify_items": null,
            "left": null,
            "margin": null,
            "max_height": null,
            "max_width": null,
            "min_height": null,
            "min_width": null,
            "object_fit": null,
            "object_position": null,
            "order": null,
            "overflow": null,
            "overflow_x": null,
            "overflow_y": null,
            "padding": null,
            "right": null,
            "top": null,
            "visibility": null,
            "width": null
          }
        },
        "06b905109b1f4fb18b11e7235e8147db": {
          "model_module": "@jupyter-widgets/controls",
          "model_name": "ProgressStyleModel",
          "model_module_version": "1.5.0",
          "state": {
            "_model_module": "@jupyter-widgets/controls",
            "_model_module_version": "1.5.0",
            "_model_name": "ProgressStyleModel",
            "_view_count": null,
            "_view_module": "@jupyter-widgets/base",
            "_view_module_version": "1.2.0",
            "_view_name": "StyleView",
            "bar_color": null,
            "description_width": ""
          }
        },
        "a76abea89c6e4a36924a414299a2b67d": {
          "model_module": "@jupyter-widgets/base",
          "model_name": "LayoutModel",
          "model_module_version": "1.2.0",
          "state": {
            "_model_module": "@jupyter-widgets/base",
            "_model_module_version": "1.2.0",
            "_model_name": "LayoutModel",
            "_view_count": null,
            "_view_module": "@jupyter-widgets/base",
            "_view_module_version": "1.2.0",
            "_view_name": "LayoutView",
            "align_content": null,
            "align_items": null,
            "align_self": null,
            "border": null,
            "bottom": null,
            "display": null,
            "flex": null,
            "flex_flow": null,
            "grid_area": null,
            "grid_auto_columns": null,
            "grid_auto_flow": null,
            "grid_auto_rows": null,
            "grid_column": null,
            "grid_gap": null,
            "grid_row": null,
            "grid_template_areas": null,
            "grid_template_columns": null,
            "grid_template_rows": null,
            "height": null,
            "justify_content": null,
            "justify_items": null,
            "left": null,
            "margin": null,
            "max_height": null,
            "max_width": null,
            "min_height": null,
            "min_width": null,
            "object_fit": null,
            "object_position": null,
            "order": null,
            "overflow": null,
            "overflow_x": null,
            "overflow_y": null,
            "padding": null,
            "right": null,
            "top": null,
            "visibility": null,
            "width": null
          }
        },
        "d7bbb3aef7684b05a61ea5693888c3e7": {
          "model_module": "@jupyter-widgets/controls",
          "model_name": "DescriptionStyleModel",
          "model_module_version": "1.5.0",
          "state": {
            "_model_module": "@jupyter-widgets/controls",
            "_model_module_version": "1.5.0",
            "_model_name": "DescriptionStyleModel",
            "_view_count": null,
            "_view_module": "@jupyter-widgets/base",
            "_view_module_version": "1.2.0",
            "_view_name": "StyleView",
            "description_width": ""
          }
        },
        "b2b29986705f4999807339ff7c365522": {
          "model_module": "@jupyter-widgets/controls",
          "model_name": "HBoxModel",
          "model_module_version": "1.5.0",
          "state": {
            "_dom_classes": [],
            "_model_module": "@jupyter-widgets/controls",
            "_model_module_version": "1.5.0",
            "_model_name": "HBoxModel",
            "_view_count": null,
            "_view_module": "@jupyter-widgets/controls",
            "_view_module_version": "1.5.0",
            "_view_name": "HBoxView",
            "box_style": "",
            "children": [
              "IPY_MODEL_4a6c23b1baf440bd893ffb0b91eb839a",
              "IPY_MODEL_4a404daa437043a5a161656a62269a62",
              "IPY_MODEL_753d89e19f4e4239b9d15a910a326d23"
            ],
            "layout": "IPY_MODEL_7f73f68facb44a92a5aed593bfd01cdf"
          }
        },
        "4a6c23b1baf440bd893ffb0b91eb839a": {
          "model_module": "@jupyter-widgets/controls",
          "model_name": "HTMLModel",
          "model_module_version": "1.5.0",
          "state": {
            "_dom_classes": [],
            "_model_module": "@jupyter-widgets/controls",
            "_model_module_version": "1.5.0",
            "_model_name": "HTMLModel",
            "_view_count": null,
            "_view_module": "@jupyter-widgets/controls",
            "_view_module_version": "1.5.0",
            "_view_name": "HTMLView",
            "description": "",
            "description_tooltip": null,
            "layout": "IPY_MODEL_26c9db9856da40b0b9a086845f249872",
            "placeholder": "​",
            "style": "IPY_MODEL_7360c3618ed34cfb8649e409c747952d",
            "value": "Downloading: 100%"
          }
        },
        "4a404daa437043a5a161656a62269a62": {
          "model_module": "@jupyter-widgets/controls",
          "model_name": "FloatProgressModel",
          "model_module_version": "1.5.0",
          "state": {
            "_dom_classes": [],
            "_model_module": "@jupyter-widgets/controls",
            "_model_module_version": "1.5.0",
            "_model_name": "FloatProgressModel",
            "_view_count": null,
            "_view_module": "@jupyter-widgets/controls",
            "_view_module_version": "1.5.0",
            "_view_name": "ProgressView",
            "bar_style": "success",
            "description": "",
            "description_tooltip": null,
            "layout": "IPY_MODEL_ed84a650e25247a6a0438588fa6d590a",
            "max": 535612887,
            "min": 0,
            "orientation": "horizontal",
            "style": "IPY_MODEL_1e214720ea0743e4b39ea12550ab7add",
            "value": 535612887
          }
        },
        "753d89e19f4e4239b9d15a910a326d23": {
          "model_module": "@jupyter-widgets/controls",
          "model_name": "HTMLModel",
          "model_module_version": "1.5.0",
          "state": {
            "_dom_classes": [],
            "_model_module": "@jupyter-widgets/controls",
            "_model_module_version": "1.5.0",
            "_model_name": "HTMLModel",
            "_view_count": null,
            "_view_module": "@jupyter-widgets/controls",
            "_view_module_version": "1.5.0",
            "_view_name": "HTMLView",
            "description": "",
            "description_tooltip": null,
            "layout": "IPY_MODEL_38c1531de2984eb7a34d48963e231429",
            "placeholder": "​",
            "style": "IPY_MODEL_6fbf6e83a3fb4e2285a266c0dbacf764",
            "value": " 511M/511M [00:12&lt;00:00, 35.5MB/s]"
          }
        },
        "7f73f68facb44a92a5aed593bfd01cdf": {
          "model_module": "@jupyter-widgets/base",
          "model_name": "LayoutModel",
          "model_module_version": "1.2.0",
          "state": {
            "_model_module": "@jupyter-widgets/base",
            "_model_module_version": "1.2.0",
            "_model_name": "LayoutModel",
            "_view_count": null,
            "_view_module": "@jupyter-widgets/base",
            "_view_module_version": "1.2.0",
            "_view_name": "LayoutView",
            "align_content": null,
            "align_items": null,
            "align_self": null,
            "border": null,
            "bottom": null,
            "display": null,
            "flex": null,
            "flex_flow": null,
            "grid_area": null,
            "grid_auto_columns": null,
            "grid_auto_flow": null,
            "grid_auto_rows": null,
            "grid_column": null,
            "grid_gap": null,
            "grid_row": null,
            "grid_template_areas": null,
            "grid_template_columns": null,
            "grid_template_rows": null,
            "height": null,
            "justify_content": null,
            "justify_items": null,
            "left": null,
            "margin": null,
            "max_height": null,
            "max_width": null,
            "min_height": null,
            "min_width": null,
            "object_fit": null,
            "object_position": null,
            "order": null,
            "overflow": null,
            "overflow_x": null,
            "overflow_y": null,
            "padding": null,
            "right": null,
            "top": null,
            "visibility": null,
            "width": null
          }
        },
        "26c9db9856da40b0b9a086845f249872": {
          "model_module": "@jupyter-widgets/base",
          "model_name": "LayoutModel",
          "model_module_version": "1.2.0",
          "state": {
            "_model_module": "@jupyter-widgets/base",
            "_model_module_version": "1.2.0",
            "_model_name": "LayoutModel",
            "_view_count": null,
            "_view_module": "@jupyter-widgets/base",
            "_view_module_version": "1.2.0",
            "_view_name": "LayoutView",
            "align_content": null,
            "align_items": null,
            "align_self": null,
            "border": null,
            "bottom": null,
            "display": null,
            "flex": null,
            "flex_flow": null,
            "grid_area": null,
            "grid_auto_columns": null,
            "grid_auto_flow": null,
            "grid_auto_rows": null,
            "grid_column": null,
            "grid_gap": null,
            "grid_row": null,
            "grid_template_areas": null,
            "grid_template_columns": null,
            "grid_template_rows": null,
            "height": null,
            "justify_content": null,
            "justify_items": null,
            "left": null,
            "margin": null,
            "max_height": null,
            "max_width": null,
            "min_height": null,
            "min_width": null,
            "object_fit": null,
            "object_position": null,
            "order": null,
            "overflow": null,
            "overflow_x": null,
            "overflow_y": null,
            "padding": null,
            "right": null,
            "top": null,
            "visibility": null,
            "width": null
          }
        },
        "7360c3618ed34cfb8649e409c747952d": {
          "model_module": "@jupyter-widgets/controls",
          "model_name": "DescriptionStyleModel",
          "model_module_version": "1.5.0",
          "state": {
            "_model_module": "@jupyter-widgets/controls",
            "_model_module_version": "1.5.0",
            "_model_name": "DescriptionStyleModel",
            "_view_count": null,
            "_view_module": "@jupyter-widgets/base",
            "_view_module_version": "1.2.0",
            "_view_name": "StyleView",
            "description_width": ""
          }
        },
        "ed84a650e25247a6a0438588fa6d590a": {
          "model_module": "@jupyter-widgets/base",
          "model_name": "LayoutModel",
          "model_module_version": "1.2.0",
          "state": {
            "_model_module": "@jupyter-widgets/base",
            "_model_module_version": "1.2.0",
            "_model_name": "LayoutModel",
            "_view_count": null,
            "_view_module": "@jupyter-widgets/base",
            "_view_module_version": "1.2.0",
            "_view_name": "LayoutView",
            "align_content": null,
            "align_items": null,
            "align_self": null,
            "border": null,
            "bottom": null,
            "display": null,
            "flex": null,
            "flex_flow": null,
            "grid_area": null,
            "grid_auto_columns": null,
            "grid_auto_flow": null,
            "grid_auto_rows": null,
            "grid_column": null,
            "grid_gap": null,
            "grid_row": null,
            "grid_template_areas": null,
            "grid_template_columns": null,
            "grid_template_rows": null,
            "height": null,
            "justify_content": null,
            "justify_items": null,
            "left": null,
            "margin": null,
            "max_height": null,
            "max_width": null,
            "min_height": null,
            "min_width": null,
            "object_fit": null,
            "object_position": null,
            "order": null,
            "overflow": null,
            "overflow_x": null,
            "overflow_y": null,
            "padding": null,
            "right": null,
            "top": null,
            "visibility": null,
            "width": null
          }
        },
        "1e214720ea0743e4b39ea12550ab7add": {
          "model_module": "@jupyter-widgets/controls",
          "model_name": "ProgressStyleModel",
          "model_module_version": "1.5.0",
          "state": {
            "_model_module": "@jupyter-widgets/controls",
            "_model_module_version": "1.5.0",
            "_model_name": "ProgressStyleModel",
            "_view_count": null,
            "_view_module": "@jupyter-widgets/base",
            "_view_module_version": "1.2.0",
            "_view_name": "StyleView",
            "bar_color": null,
            "description_width": ""
          }
        },
        "38c1531de2984eb7a34d48963e231429": {
          "model_module": "@jupyter-widgets/base",
          "model_name": "LayoutModel",
          "model_module_version": "1.2.0",
          "state": {
            "_model_module": "@jupyter-widgets/base",
            "_model_module_version": "1.2.0",
            "_model_name": "LayoutModel",
            "_view_count": null,
            "_view_module": "@jupyter-widgets/base",
            "_view_module_version": "1.2.0",
            "_view_name": "LayoutView",
            "align_content": null,
            "align_items": null,
            "align_self": null,
            "border": null,
            "bottom": null,
            "display": null,
            "flex": null,
            "flex_flow": null,
            "grid_area": null,
            "grid_auto_columns": null,
            "grid_auto_flow": null,
            "grid_auto_rows": null,
            "grid_column": null,
            "grid_gap": null,
            "grid_row": null,
            "grid_template_areas": null,
            "grid_template_columns": null,
            "grid_template_rows": null,
            "height": null,
            "justify_content": null,
            "justify_items": null,
            "left": null,
            "margin": null,
            "max_height": null,
            "max_width": null,
            "min_height": null,
            "min_width": null,
            "object_fit": null,
            "object_position": null,
            "order": null,
            "overflow": null,
            "overflow_x": null,
            "overflow_y": null,
            "padding": null,
            "right": null,
            "top": null,
            "visibility": null,
            "width": null
          }
        },
        "6fbf6e83a3fb4e2285a266c0dbacf764": {
          "model_module": "@jupyter-widgets/controls",
          "model_name": "DescriptionStyleModel",
          "model_module_version": "1.5.0",
          "state": {
            "_model_module": "@jupyter-widgets/controls",
            "_model_module_version": "1.5.0",
            "_model_name": "DescriptionStyleModel",
            "_view_count": null,
            "_view_module": "@jupyter-widgets/base",
            "_view_module_version": "1.2.0",
            "_view_name": "StyleView",
            "description_width": ""
          }
        },
        "fd122f040bf142958547a41975e7f2c0": {
          "model_module": "@jupyter-widgets/controls",
          "model_name": "HBoxModel",
          "model_module_version": "1.5.0",
          "state": {
            "_dom_classes": [],
            "_model_module": "@jupyter-widgets/controls",
            "_model_module_version": "1.5.0",
            "_model_name": "HBoxModel",
            "_view_count": null,
            "_view_module": "@jupyter-widgets/controls",
            "_view_module_version": "1.5.0",
            "_view_name": "HBoxView",
            "box_style": "",
            "children": [
              "IPY_MODEL_5a0de0c054bc47f6b86578651aaeeca0",
              "IPY_MODEL_258f4ac637c94cc6aa2a36099b1077e2",
              "IPY_MODEL_a0f1019fefe1497785532645954df59c"
            ],
            "layout": "IPY_MODEL_62a53f0d199b41e585843ce864c6dade"
          }
        },
        "5a0de0c054bc47f6b86578651aaeeca0": {
          "model_module": "@jupyter-widgets/controls",
          "model_name": "HTMLModel",
          "model_module_version": "1.5.0",
          "state": {
            "_dom_classes": [],
            "_model_module": "@jupyter-widgets/controls",
            "_model_module_version": "1.5.0",
            "_model_name": "HTMLModel",
            "_view_count": null,
            "_view_module": "@jupyter-widgets/controls",
            "_view_module_version": "1.5.0",
            "_view_name": "HTMLView",
            "description": "",
            "description_tooltip": null,
            "layout": "IPY_MODEL_d1e1407a6b8f4a069965d1c79466ffcc",
            "placeholder": "​",
            "style": "IPY_MODEL_954480db20ff42ec99bbb7348e743509",
            "value": "Downloading: 100%"
          }
        },
        "258f4ac637c94cc6aa2a36099b1077e2": {
          "model_module": "@jupyter-widgets/controls",
          "model_name": "FloatProgressModel",
          "model_module_version": "1.5.0",
          "state": {
            "_dom_classes": [],
            "_model_module": "@jupyter-widgets/controls",
            "_model_module_version": "1.5.0",
            "_model_name": "FloatProgressModel",
            "_view_count": null,
            "_view_module": "@jupyter-widgets/controls",
            "_view_module_version": "1.5.0",
            "_view_name": "ProgressView",
            "bar_style": "success",
            "description": "",
            "description_tooltip": null,
            "layout": "IPY_MODEL_de6fc5404a604dbeab805722e641ef15",
            "max": 26,
            "min": 0,
            "orientation": "horizontal",
            "style": "IPY_MODEL_59a157a72c4e47af947f9ee87c80814f",
            "value": 26
          }
        },
        "a0f1019fefe1497785532645954df59c": {
          "model_module": "@jupyter-widgets/controls",
          "model_name": "HTMLModel",
          "model_module_version": "1.5.0",
          "state": {
            "_dom_classes": [],
            "_model_module": "@jupyter-widgets/controls",
            "_model_module_version": "1.5.0",
            "_model_name": "HTMLModel",
            "_view_count": null,
            "_view_module": "@jupyter-widgets/controls",
            "_view_module_version": "1.5.0",
            "_view_name": "HTMLView",
            "description": "",
            "description_tooltip": null,
            "layout": "IPY_MODEL_e707fe4184c74a2dab443a604790640e",
            "placeholder": "​",
            "style": "IPY_MODEL_f80edcffa60643eeb009319f05679661",
            "value": " 26.0/26.0 [00:00&lt;00:00, 729B/s]"
          }
        },
        "62a53f0d199b41e585843ce864c6dade": {
          "model_module": "@jupyter-widgets/base",
          "model_name": "LayoutModel",
          "model_module_version": "1.2.0",
          "state": {
            "_model_module": "@jupyter-widgets/base",
            "_model_module_version": "1.2.0",
            "_model_name": "LayoutModel",
            "_view_count": null,
            "_view_module": "@jupyter-widgets/base",
            "_view_module_version": "1.2.0",
            "_view_name": "LayoutView",
            "align_content": null,
            "align_items": null,
            "align_self": null,
            "border": null,
            "bottom": null,
            "display": null,
            "flex": null,
            "flex_flow": null,
            "grid_area": null,
            "grid_auto_columns": null,
            "grid_auto_flow": null,
            "grid_auto_rows": null,
            "grid_column": null,
            "grid_gap": null,
            "grid_row": null,
            "grid_template_areas": null,
            "grid_template_columns": null,
            "grid_template_rows": null,
            "height": null,
            "justify_content": null,
            "justify_items": null,
            "left": null,
            "margin": null,
            "max_height": null,
            "max_width": null,
            "min_height": null,
            "min_width": null,
            "object_fit": null,
            "object_position": null,
            "order": null,
            "overflow": null,
            "overflow_x": null,
            "overflow_y": null,
            "padding": null,
            "right": null,
            "top": null,
            "visibility": null,
            "width": null
          }
        },
        "d1e1407a6b8f4a069965d1c79466ffcc": {
          "model_module": "@jupyter-widgets/base",
          "model_name": "LayoutModel",
          "model_module_version": "1.2.0",
          "state": {
            "_model_module": "@jupyter-widgets/base",
            "_model_module_version": "1.2.0",
            "_model_name": "LayoutModel",
            "_view_count": null,
            "_view_module": "@jupyter-widgets/base",
            "_view_module_version": "1.2.0",
            "_view_name": "LayoutView",
            "align_content": null,
            "align_items": null,
            "align_self": null,
            "border": null,
            "bottom": null,
            "display": null,
            "flex": null,
            "flex_flow": null,
            "grid_area": null,
            "grid_auto_columns": null,
            "grid_auto_flow": null,
            "grid_auto_rows": null,
            "grid_column": null,
            "grid_gap": null,
            "grid_row": null,
            "grid_template_areas": null,
            "grid_template_columns": null,
            "grid_template_rows": null,
            "height": null,
            "justify_content": null,
            "justify_items": null,
            "left": null,
            "margin": null,
            "max_height": null,
            "max_width": null,
            "min_height": null,
            "min_width": null,
            "object_fit": null,
            "object_position": null,
            "order": null,
            "overflow": null,
            "overflow_x": null,
            "overflow_y": null,
            "padding": null,
            "right": null,
            "top": null,
            "visibility": null,
            "width": null
          }
        },
        "954480db20ff42ec99bbb7348e743509": {
          "model_module": "@jupyter-widgets/controls",
          "model_name": "DescriptionStyleModel",
          "model_module_version": "1.5.0",
          "state": {
            "_model_module": "@jupyter-widgets/controls",
            "_model_module_version": "1.5.0",
            "_model_name": "DescriptionStyleModel",
            "_view_count": null,
            "_view_module": "@jupyter-widgets/base",
            "_view_module_version": "1.2.0",
            "_view_name": "StyleView",
            "description_width": ""
          }
        },
        "de6fc5404a604dbeab805722e641ef15": {
          "model_module": "@jupyter-widgets/base",
          "model_name": "LayoutModel",
          "model_module_version": "1.2.0",
          "state": {
            "_model_module": "@jupyter-widgets/base",
            "_model_module_version": "1.2.0",
            "_model_name": "LayoutModel",
            "_view_count": null,
            "_view_module": "@jupyter-widgets/base",
            "_view_module_version": "1.2.0",
            "_view_name": "LayoutView",
            "align_content": null,
            "align_items": null,
            "align_self": null,
            "border": null,
            "bottom": null,
            "display": null,
            "flex": null,
            "flex_flow": null,
            "grid_area": null,
            "grid_auto_columns": null,
            "grid_auto_flow": null,
            "grid_auto_rows": null,
            "grid_column": null,
            "grid_gap": null,
            "grid_row": null,
            "grid_template_areas": null,
            "grid_template_columns": null,
            "grid_template_rows": null,
            "height": null,
            "justify_content": null,
            "justify_items": null,
            "left": null,
            "margin": null,
            "max_height": null,
            "max_width": null,
            "min_height": null,
            "min_width": null,
            "object_fit": null,
            "object_position": null,
            "order": null,
            "overflow": null,
            "overflow_x": null,
            "overflow_y": null,
            "padding": null,
            "right": null,
            "top": null,
            "visibility": null,
            "width": null
          }
        },
        "59a157a72c4e47af947f9ee87c80814f": {
          "model_module": "@jupyter-widgets/controls",
          "model_name": "ProgressStyleModel",
          "model_module_version": "1.5.0",
          "state": {
            "_model_module": "@jupyter-widgets/controls",
            "_model_module_version": "1.5.0",
            "_model_name": "ProgressStyleModel",
            "_view_count": null,
            "_view_module": "@jupyter-widgets/base",
            "_view_module_version": "1.2.0",
            "_view_name": "StyleView",
            "bar_color": null,
            "description_width": ""
          }
        },
        "e707fe4184c74a2dab443a604790640e": {
          "model_module": "@jupyter-widgets/base",
          "model_name": "LayoutModel",
          "model_module_version": "1.2.0",
          "state": {
            "_model_module": "@jupyter-widgets/base",
            "_model_module_version": "1.2.0",
            "_model_name": "LayoutModel",
            "_view_count": null,
            "_view_module": "@jupyter-widgets/base",
            "_view_module_version": "1.2.0",
            "_view_name": "LayoutView",
            "align_content": null,
            "align_items": null,
            "align_self": null,
            "border": null,
            "bottom": null,
            "display": null,
            "flex": null,
            "flex_flow": null,
            "grid_area": null,
            "grid_auto_columns": null,
            "grid_auto_flow": null,
            "grid_auto_rows": null,
            "grid_column": null,
            "grid_gap": null,
            "grid_row": null,
            "grid_template_areas": null,
            "grid_template_columns": null,
            "grid_template_rows": null,
            "height": null,
            "justify_content": null,
            "justify_items": null,
            "left": null,
            "margin": null,
            "max_height": null,
            "max_width": null,
            "min_height": null,
            "min_width": null,
            "object_fit": null,
            "object_position": null,
            "order": null,
            "overflow": null,
            "overflow_x": null,
            "overflow_y": null,
            "padding": null,
            "right": null,
            "top": null,
            "visibility": null,
            "width": null
          }
        },
        "f80edcffa60643eeb009319f05679661": {
          "model_module": "@jupyter-widgets/controls",
          "model_name": "DescriptionStyleModel",
          "model_module_version": "1.5.0",
          "state": {
            "_model_module": "@jupyter-widgets/controls",
            "_model_module_version": "1.5.0",
            "_model_name": "DescriptionStyleModel",
            "_view_count": null,
            "_view_module": "@jupyter-widgets/base",
            "_view_module_version": "1.2.0",
            "_view_name": "StyleView",
            "description_width": ""
          }
        },
        "af74ae696e94413fa75d63474741ad54": {
          "model_module": "@jupyter-widgets/controls",
          "model_name": "HBoxModel",
          "model_module_version": "1.5.0",
          "state": {
            "_dom_classes": [],
            "_model_module": "@jupyter-widgets/controls",
            "_model_module_version": "1.5.0",
            "_model_name": "HBoxModel",
            "_view_count": null,
            "_view_module": "@jupyter-widgets/controls",
            "_view_module_version": "1.5.0",
            "_view_name": "HBoxView",
            "box_style": "",
            "children": [
              "IPY_MODEL_0050f4ac69524096b0e5702d5d7242cf",
              "IPY_MODEL_057d299d0f644117abc3ea2b1a00efbd",
              "IPY_MODEL_2d066ff0abc74f9798f616b3dad6701b"
            ],
            "layout": "IPY_MODEL_b44e2c6a82a74e65a0855c9a66097161"
          }
        },
        "0050f4ac69524096b0e5702d5d7242cf": {
          "model_module": "@jupyter-widgets/controls",
          "model_name": "HTMLModel",
          "model_module_version": "1.5.0",
          "state": {
            "_dom_classes": [],
            "_model_module": "@jupyter-widgets/controls",
            "_model_module_version": "1.5.0",
            "_model_name": "HTMLModel",
            "_view_count": null,
            "_view_module": "@jupyter-widgets/controls",
            "_view_module_version": "1.5.0",
            "_view_name": "HTMLView",
            "description": "",
            "description_tooltip": null,
            "layout": "IPY_MODEL_1134d89e29c9419a9bee437be04c38ed",
            "placeholder": "​",
            "style": "IPY_MODEL_fbec8e81afe045fe8e9a1f14d6438789",
            "value": "Downloading: 100%"
          }
        },
        "057d299d0f644117abc3ea2b1a00efbd": {
          "model_module": "@jupyter-widgets/controls",
          "model_name": "FloatProgressModel",
          "model_module_version": "1.5.0",
          "state": {
            "_dom_classes": [],
            "_model_module": "@jupyter-widgets/controls",
            "_model_module_version": "1.5.0",
            "_model_name": "FloatProgressModel",
            "_view_count": null,
            "_view_module": "@jupyter-widgets/controls",
            "_view_module_version": "1.5.0",
            "_view_name": "ProgressView",
            "bar_style": "success",
            "description": "",
            "description_tooltip": null,
            "layout": "IPY_MODEL_78705f12c4bd474eaf5e13e1d7c615c3",
            "max": 898822,
            "min": 0,
            "orientation": "horizontal",
            "style": "IPY_MODEL_f08c2caff18844b0befba1999a53f01d",
            "value": 898822
          }
        },
        "2d066ff0abc74f9798f616b3dad6701b": {
          "model_module": "@jupyter-widgets/controls",
          "model_name": "HTMLModel",
          "model_module_version": "1.5.0",
          "state": {
            "_dom_classes": [],
            "_model_module": "@jupyter-widgets/controls",
            "_model_module_version": "1.5.0",
            "_model_name": "HTMLModel",
            "_view_count": null,
            "_view_module": "@jupyter-widgets/controls",
            "_view_module_version": "1.5.0",
            "_view_name": "HTMLView",
            "description": "",
            "description_tooltip": null,
            "layout": "IPY_MODEL_88f3d1a6b5504633a2dbda5fe9c9f13b",
            "placeholder": "​",
            "style": "IPY_MODEL_81e8891900324cb1b5f845022180eff7",
            "value": " 878k/878k [00:00&lt;00:00, 1.18MB/s]"
          }
        },
        "b44e2c6a82a74e65a0855c9a66097161": {
          "model_module": "@jupyter-widgets/base",
          "model_name": "LayoutModel",
          "model_module_version": "1.2.0",
          "state": {
            "_model_module": "@jupyter-widgets/base",
            "_model_module_version": "1.2.0",
            "_model_name": "LayoutModel",
            "_view_count": null,
            "_view_module": "@jupyter-widgets/base",
            "_view_module_version": "1.2.0",
            "_view_name": "LayoutView",
            "align_content": null,
            "align_items": null,
            "align_self": null,
            "border": null,
            "bottom": null,
            "display": null,
            "flex": null,
            "flex_flow": null,
            "grid_area": null,
            "grid_auto_columns": null,
            "grid_auto_flow": null,
            "grid_auto_rows": null,
            "grid_column": null,
            "grid_gap": null,
            "grid_row": null,
            "grid_template_areas": null,
            "grid_template_columns": null,
            "grid_template_rows": null,
            "height": null,
            "justify_content": null,
            "justify_items": null,
            "left": null,
            "margin": null,
            "max_height": null,
            "max_width": null,
            "min_height": null,
            "min_width": null,
            "object_fit": null,
            "object_position": null,
            "order": null,
            "overflow": null,
            "overflow_x": null,
            "overflow_y": null,
            "padding": null,
            "right": null,
            "top": null,
            "visibility": null,
            "width": null
          }
        },
        "1134d89e29c9419a9bee437be04c38ed": {
          "model_module": "@jupyter-widgets/base",
          "model_name": "LayoutModel",
          "model_module_version": "1.2.0",
          "state": {
            "_model_module": "@jupyter-widgets/base",
            "_model_module_version": "1.2.0",
            "_model_name": "LayoutModel",
            "_view_count": null,
            "_view_module": "@jupyter-widgets/base",
            "_view_module_version": "1.2.0",
            "_view_name": "LayoutView",
            "align_content": null,
            "align_items": null,
            "align_self": null,
            "border": null,
            "bottom": null,
            "display": null,
            "flex": null,
            "flex_flow": null,
            "grid_area": null,
            "grid_auto_columns": null,
            "grid_auto_flow": null,
            "grid_auto_rows": null,
            "grid_column": null,
            "grid_gap": null,
            "grid_row": null,
            "grid_template_areas": null,
            "grid_template_columns": null,
            "grid_template_rows": null,
            "height": null,
            "justify_content": null,
            "justify_items": null,
            "left": null,
            "margin": null,
            "max_height": null,
            "max_width": null,
            "min_height": null,
            "min_width": null,
            "object_fit": null,
            "object_position": null,
            "order": null,
            "overflow": null,
            "overflow_x": null,
            "overflow_y": null,
            "padding": null,
            "right": null,
            "top": null,
            "visibility": null,
            "width": null
          }
        },
        "fbec8e81afe045fe8e9a1f14d6438789": {
          "model_module": "@jupyter-widgets/controls",
          "model_name": "DescriptionStyleModel",
          "model_module_version": "1.5.0",
          "state": {
            "_model_module": "@jupyter-widgets/controls",
            "_model_module_version": "1.5.0",
            "_model_name": "DescriptionStyleModel",
            "_view_count": null,
            "_view_module": "@jupyter-widgets/base",
            "_view_module_version": "1.2.0",
            "_view_name": "StyleView",
            "description_width": ""
          }
        },
        "78705f12c4bd474eaf5e13e1d7c615c3": {
          "model_module": "@jupyter-widgets/base",
          "model_name": "LayoutModel",
          "model_module_version": "1.2.0",
          "state": {
            "_model_module": "@jupyter-widgets/base",
            "_model_module_version": "1.2.0",
            "_model_name": "LayoutModel",
            "_view_count": null,
            "_view_module": "@jupyter-widgets/base",
            "_view_module_version": "1.2.0",
            "_view_name": "LayoutView",
            "align_content": null,
            "align_items": null,
            "align_self": null,
            "border": null,
            "bottom": null,
            "display": null,
            "flex": null,
            "flex_flow": null,
            "grid_area": null,
            "grid_auto_columns": null,
            "grid_auto_flow": null,
            "grid_auto_rows": null,
            "grid_column": null,
            "grid_gap": null,
            "grid_row": null,
            "grid_template_areas": null,
            "grid_template_columns": null,
            "grid_template_rows": null,
            "height": null,
            "justify_content": null,
            "justify_items": null,
            "left": null,
            "margin": null,
            "max_height": null,
            "max_width": null,
            "min_height": null,
            "min_width": null,
            "object_fit": null,
            "object_position": null,
            "order": null,
            "overflow": null,
            "overflow_x": null,
            "overflow_y": null,
            "padding": null,
            "right": null,
            "top": null,
            "visibility": null,
            "width": null
          }
        },
        "f08c2caff18844b0befba1999a53f01d": {
          "model_module": "@jupyter-widgets/controls",
          "model_name": "ProgressStyleModel",
          "model_module_version": "1.5.0",
          "state": {
            "_model_module": "@jupyter-widgets/controls",
            "_model_module_version": "1.5.0",
            "_model_name": "ProgressStyleModel",
            "_view_count": null,
            "_view_module": "@jupyter-widgets/base",
            "_view_module_version": "1.2.0",
            "_view_name": "StyleView",
            "bar_color": null,
            "description_width": ""
          }
        },
        "88f3d1a6b5504633a2dbda5fe9c9f13b": {
          "model_module": "@jupyter-widgets/base",
          "model_name": "LayoutModel",
          "model_module_version": "1.2.0",
          "state": {
            "_model_module": "@jupyter-widgets/base",
            "_model_module_version": "1.2.0",
            "_model_name": "LayoutModel",
            "_view_count": null,
            "_view_module": "@jupyter-widgets/base",
            "_view_module_version": "1.2.0",
            "_view_name": "LayoutView",
            "align_content": null,
            "align_items": null,
            "align_self": null,
            "border": null,
            "bottom": null,
            "display": null,
            "flex": null,
            "flex_flow": null,
            "grid_area": null,
            "grid_auto_columns": null,
            "grid_auto_flow": null,
            "grid_auto_rows": null,
            "grid_column": null,
            "grid_gap": null,
            "grid_row": null,
            "grid_template_areas": null,
            "grid_template_columns": null,
            "grid_template_rows": null,
            "height": null,
            "justify_content": null,
            "justify_items": null,
            "left": null,
            "margin": null,
            "max_height": null,
            "max_width": null,
            "min_height": null,
            "min_width": null,
            "object_fit": null,
            "object_position": null,
            "order": null,
            "overflow": null,
            "overflow_x": null,
            "overflow_y": null,
            "padding": null,
            "right": null,
            "top": null,
            "visibility": null,
            "width": null
          }
        },
        "81e8891900324cb1b5f845022180eff7": {
          "model_module": "@jupyter-widgets/controls",
          "model_name": "DescriptionStyleModel",
          "model_module_version": "1.5.0",
          "state": {
            "_model_module": "@jupyter-widgets/controls",
            "_model_module_version": "1.5.0",
            "_model_name": "DescriptionStyleModel",
            "_view_count": null,
            "_view_module": "@jupyter-widgets/base",
            "_view_module_version": "1.2.0",
            "_view_name": "StyleView",
            "description_width": ""
          }
        },
        "b3099d408f5d49d88af501423f9938c4": {
          "model_module": "@jupyter-widgets/controls",
          "model_name": "HBoxModel",
          "model_module_version": "1.5.0",
          "state": {
            "_dom_classes": [],
            "_model_module": "@jupyter-widgets/controls",
            "_model_module_version": "1.5.0",
            "_model_name": "HBoxModel",
            "_view_count": null,
            "_view_module": "@jupyter-widgets/controls",
            "_view_module_version": "1.5.0",
            "_view_name": "HBoxView",
            "box_style": "",
            "children": [
              "IPY_MODEL_57dd46322a3541eb91badcf0635216fe",
              "IPY_MODEL_9dac5a76a33c4464826f47d86a2b7271",
              "IPY_MODEL_73e8a715386c49c4a7050b8d608ce2aa"
            ],
            "layout": "IPY_MODEL_29a4ffdf1eda4e789129ac6dcb87be4d"
          }
        },
        "57dd46322a3541eb91badcf0635216fe": {
          "model_module": "@jupyter-widgets/controls",
          "model_name": "HTMLModel",
          "model_module_version": "1.5.0",
          "state": {
            "_dom_classes": [],
            "_model_module": "@jupyter-widgets/controls",
            "_model_module_version": "1.5.0",
            "_model_name": "HTMLModel",
            "_view_count": null,
            "_view_module": "@jupyter-widgets/controls",
            "_view_module_version": "1.5.0",
            "_view_name": "HTMLView",
            "description": "",
            "description_tooltip": null,
            "layout": "IPY_MODEL_4ec3d3c5f7344a7f868dfd4722b2c9b5",
            "placeholder": "​",
            "style": "IPY_MODEL_07a371f58365400fbc7fb6cb551db414",
            "value": "Downloading: 100%"
          }
        },
        "9dac5a76a33c4464826f47d86a2b7271": {
          "model_module": "@jupyter-widgets/controls",
          "model_name": "FloatProgressModel",
          "model_module_version": "1.5.0",
          "state": {
            "_dom_classes": [],
            "_model_module": "@jupyter-widgets/controls",
            "_model_module_version": "1.5.0",
            "_model_name": "FloatProgressModel",
            "_view_count": null,
            "_view_module": "@jupyter-widgets/controls",
            "_view_module_version": "1.5.0",
            "_view_name": "ProgressView",
            "bar_style": "success",
            "description": "",
            "description_tooltip": null,
            "layout": "IPY_MODEL_63e1ee49848543c2adce6243346f725a",
            "max": 456318,
            "min": 0,
            "orientation": "horizontal",
            "style": "IPY_MODEL_572844ec99ed410b8bcbe227d3698bf5",
            "value": 456318
          }
        },
        "73e8a715386c49c4a7050b8d608ce2aa": {
          "model_module": "@jupyter-widgets/controls",
          "model_name": "HTMLModel",
          "model_module_version": "1.5.0",
          "state": {
            "_dom_classes": [],
            "_model_module": "@jupyter-widgets/controls",
            "_model_module_version": "1.5.0",
            "_model_name": "HTMLModel",
            "_view_count": null,
            "_view_module": "@jupyter-widgets/controls",
            "_view_module_version": "1.5.0",
            "_view_name": "HTMLView",
            "description": "",
            "description_tooltip": null,
            "layout": "IPY_MODEL_940b97ab93b047ca85b2f3f0636a8cb3",
            "placeholder": "​",
            "style": "IPY_MODEL_85e87b996f8d4115bf69f49bd3814a2b",
            "value": " 446k/446k [00:00&lt;00:00, 932kB/s]"
          }
        },
        "29a4ffdf1eda4e789129ac6dcb87be4d": {
          "model_module": "@jupyter-widgets/base",
          "model_name": "LayoutModel",
          "model_module_version": "1.2.0",
          "state": {
            "_model_module": "@jupyter-widgets/base",
            "_model_module_version": "1.2.0",
            "_model_name": "LayoutModel",
            "_view_count": null,
            "_view_module": "@jupyter-widgets/base",
            "_view_module_version": "1.2.0",
            "_view_name": "LayoutView",
            "align_content": null,
            "align_items": null,
            "align_self": null,
            "border": null,
            "bottom": null,
            "display": null,
            "flex": null,
            "flex_flow": null,
            "grid_area": null,
            "grid_auto_columns": null,
            "grid_auto_flow": null,
            "grid_auto_rows": null,
            "grid_column": null,
            "grid_gap": null,
            "grid_row": null,
            "grid_template_areas": null,
            "grid_template_columns": null,
            "grid_template_rows": null,
            "height": null,
            "justify_content": null,
            "justify_items": null,
            "left": null,
            "margin": null,
            "max_height": null,
            "max_width": null,
            "min_height": null,
            "min_width": null,
            "object_fit": null,
            "object_position": null,
            "order": null,
            "overflow": null,
            "overflow_x": null,
            "overflow_y": null,
            "padding": null,
            "right": null,
            "top": null,
            "visibility": null,
            "width": null
          }
        },
        "4ec3d3c5f7344a7f868dfd4722b2c9b5": {
          "model_module": "@jupyter-widgets/base",
          "model_name": "LayoutModel",
          "model_module_version": "1.2.0",
          "state": {
            "_model_module": "@jupyter-widgets/base",
            "_model_module_version": "1.2.0",
            "_model_name": "LayoutModel",
            "_view_count": null,
            "_view_module": "@jupyter-widgets/base",
            "_view_module_version": "1.2.0",
            "_view_name": "LayoutView",
            "align_content": null,
            "align_items": null,
            "align_self": null,
            "border": null,
            "bottom": null,
            "display": null,
            "flex": null,
            "flex_flow": null,
            "grid_area": null,
            "grid_auto_columns": null,
            "grid_auto_flow": null,
            "grid_auto_rows": null,
            "grid_column": null,
            "grid_gap": null,
            "grid_row": null,
            "grid_template_areas": null,
            "grid_template_columns": null,
            "grid_template_rows": null,
            "height": null,
            "justify_content": null,
            "justify_items": null,
            "left": null,
            "margin": null,
            "max_height": null,
            "max_width": null,
            "min_height": null,
            "min_width": null,
            "object_fit": null,
            "object_position": null,
            "order": null,
            "overflow": null,
            "overflow_x": null,
            "overflow_y": null,
            "padding": null,
            "right": null,
            "top": null,
            "visibility": null,
            "width": null
          }
        },
        "07a371f58365400fbc7fb6cb551db414": {
          "model_module": "@jupyter-widgets/controls",
          "model_name": "DescriptionStyleModel",
          "model_module_version": "1.5.0",
          "state": {
            "_model_module": "@jupyter-widgets/controls",
            "_model_module_version": "1.5.0",
            "_model_name": "DescriptionStyleModel",
            "_view_count": null,
            "_view_module": "@jupyter-widgets/base",
            "_view_module_version": "1.2.0",
            "_view_name": "StyleView",
            "description_width": ""
          }
        },
        "63e1ee49848543c2adce6243346f725a": {
          "model_module": "@jupyter-widgets/base",
          "model_name": "LayoutModel",
          "model_module_version": "1.2.0",
          "state": {
            "_model_module": "@jupyter-widgets/base",
            "_model_module_version": "1.2.0",
            "_model_name": "LayoutModel",
            "_view_count": null,
            "_view_module": "@jupyter-widgets/base",
            "_view_module_version": "1.2.0",
            "_view_name": "LayoutView",
            "align_content": null,
            "align_items": null,
            "align_self": null,
            "border": null,
            "bottom": null,
            "display": null,
            "flex": null,
            "flex_flow": null,
            "grid_area": null,
            "grid_auto_columns": null,
            "grid_auto_flow": null,
            "grid_auto_rows": null,
            "grid_column": null,
            "grid_gap": null,
            "grid_row": null,
            "grid_template_areas": null,
            "grid_template_columns": null,
            "grid_template_rows": null,
            "height": null,
            "justify_content": null,
            "justify_items": null,
            "left": null,
            "margin": null,
            "max_height": null,
            "max_width": null,
            "min_height": null,
            "min_width": null,
            "object_fit": null,
            "object_position": null,
            "order": null,
            "overflow": null,
            "overflow_x": null,
            "overflow_y": null,
            "padding": null,
            "right": null,
            "top": null,
            "visibility": null,
            "width": null
          }
        },
        "572844ec99ed410b8bcbe227d3698bf5": {
          "model_module": "@jupyter-widgets/controls",
          "model_name": "ProgressStyleModel",
          "model_module_version": "1.5.0",
          "state": {
            "_model_module": "@jupyter-widgets/controls",
            "_model_module_version": "1.5.0",
            "_model_name": "ProgressStyleModel",
            "_view_count": null,
            "_view_module": "@jupyter-widgets/base",
            "_view_module_version": "1.2.0",
            "_view_name": "StyleView",
            "bar_color": null,
            "description_width": ""
          }
        },
        "940b97ab93b047ca85b2f3f0636a8cb3": {
          "model_module": "@jupyter-widgets/base",
          "model_name": "LayoutModel",
          "model_module_version": "1.2.0",
          "state": {
            "_model_module": "@jupyter-widgets/base",
            "_model_module_version": "1.2.0",
            "_model_name": "LayoutModel",
            "_view_count": null,
            "_view_module": "@jupyter-widgets/base",
            "_view_module_version": "1.2.0",
            "_view_name": "LayoutView",
            "align_content": null,
            "align_items": null,
            "align_self": null,
            "border": null,
            "bottom": null,
            "display": null,
            "flex": null,
            "flex_flow": null,
            "grid_area": null,
            "grid_auto_columns": null,
            "grid_auto_flow": null,
            "grid_auto_rows": null,
            "grid_column": null,
            "grid_gap": null,
            "grid_row": null,
            "grid_template_areas": null,
            "grid_template_columns": null,
            "grid_template_rows": null,
            "height": null,
            "justify_content": null,
            "justify_items": null,
            "left": null,
            "margin": null,
            "max_height": null,
            "max_width": null,
            "min_height": null,
            "min_width": null,
            "object_fit": null,
            "object_position": null,
            "order": null,
            "overflow": null,
            "overflow_x": null,
            "overflow_y": null,
            "padding": null,
            "right": null,
            "top": null,
            "visibility": null,
            "width": null
          }
        },
        "85e87b996f8d4115bf69f49bd3814a2b": {
          "model_module": "@jupyter-widgets/controls",
          "model_name": "DescriptionStyleModel",
          "model_module_version": "1.5.0",
          "state": {
            "_model_module": "@jupyter-widgets/controls",
            "_model_module_version": "1.5.0",
            "_model_name": "DescriptionStyleModel",
            "_view_count": null,
            "_view_module": "@jupyter-widgets/base",
            "_view_module_version": "1.2.0",
            "_view_name": "StyleView",
            "description_width": ""
          }
        },
        "c8c21b61cbc34ffba03575bc1e95fe6b": {
          "model_module": "@jupyter-widgets/controls",
          "model_name": "HBoxModel",
          "model_module_version": "1.5.0",
          "state": {
            "_dom_classes": [],
            "_model_module": "@jupyter-widgets/controls",
            "_model_module_version": "1.5.0",
            "_model_name": "HBoxModel",
            "_view_count": null,
            "_view_module": "@jupyter-widgets/controls",
            "_view_module_version": "1.5.0",
            "_view_name": "HBoxView",
            "box_style": "",
            "children": [
              "IPY_MODEL_3c4fff753c094de3952bafcfaa5120e1",
              "IPY_MODEL_0942e44aa37d40c29932c5b598069c19",
              "IPY_MODEL_95bc399eda24486a9aea54e86c81db66"
            ],
            "layout": "IPY_MODEL_9efa7d10aae7434b854ce5340ec3e4ca"
          }
        },
        "3c4fff753c094de3952bafcfaa5120e1": {
          "model_module": "@jupyter-widgets/controls",
          "model_name": "HTMLModel",
          "model_module_version": "1.5.0",
          "state": {
            "_dom_classes": [],
            "_model_module": "@jupyter-widgets/controls",
            "_model_module_version": "1.5.0",
            "_model_name": "HTMLModel",
            "_view_count": null,
            "_view_module": "@jupyter-widgets/controls",
            "_view_module_version": "1.5.0",
            "_view_name": "HTMLView",
            "description": "",
            "description_tooltip": null,
            "layout": "IPY_MODEL_02e033c3dcb44bc297a03d82f803956e",
            "placeholder": "​",
            "style": "IPY_MODEL_e37e38c23d594e73a4f302a770545ffa",
            "value": "100%"
          }
        },
        "0942e44aa37d40c29932c5b598069c19": {
          "model_module": "@jupyter-widgets/controls",
          "model_name": "FloatProgressModel",
          "model_module_version": "1.5.0",
          "state": {
            "_dom_classes": [],
            "_model_module": "@jupyter-widgets/controls",
            "_model_module_version": "1.5.0",
            "_model_name": "FloatProgressModel",
            "_view_count": null,
            "_view_module": "@jupyter-widgets/controls",
            "_view_module_version": "1.5.0",
            "_view_name": "ProgressView",
            "bar_style": "success",
            "description": "",
            "description_tooltip": null,
            "layout": "IPY_MODEL_8005dbb3262c448aa7bd924eeb9ca056",
            "max": 3,
            "min": 0,
            "orientation": "horizontal",
            "style": "IPY_MODEL_1f14f5f1b617458cb23005f9bebd996e",
            "value": 3
          }
        },
        "95bc399eda24486a9aea54e86c81db66": {
          "model_module": "@jupyter-widgets/controls",
          "model_name": "HTMLModel",
          "model_module_version": "1.5.0",
          "state": {
            "_dom_classes": [],
            "_model_module": "@jupyter-widgets/controls",
            "_model_module_version": "1.5.0",
            "_model_name": "HTMLModel",
            "_view_count": null,
            "_view_module": "@jupyter-widgets/controls",
            "_view_module_version": "1.5.0",
            "_view_name": "HTMLView",
            "description": "",
            "description_tooltip": null,
            "layout": "IPY_MODEL_e323ee349bf64757b23965071b6d5512",
            "placeholder": "​",
            "style": "IPY_MODEL_a9a9c53959d645169ae56046c822c954",
            "value": " 3/3 [00:00&lt;00:00, 40.23ex/s]"
          }
        },
        "9efa7d10aae7434b854ce5340ec3e4ca": {
          "model_module": "@jupyter-widgets/base",
          "model_name": "LayoutModel",
          "model_module_version": "1.2.0",
          "state": {
            "_model_module": "@jupyter-widgets/base",
            "_model_module_version": "1.2.0",
            "_model_name": "LayoutModel",
            "_view_count": null,
            "_view_module": "@jupyter-widgets/base",
            "_view_module_version": "1.2.0",
            "_view_name": "LayoutView",
            "align_content": null,
            "align_items": null,
            "align_self": null,
            "border": null,
            "bottom": null,
            "display": null,
            "flex": null,
            "flex_flow": null,
            "grid_area": null,
            "grid_auto_columns": null,
            "grid_auto_flow": null,
            "grid_auto_rows": null,
            "grid_column": null,
            "grid_gap": null,
            "grid_row": null,
            "grid_template_areas": null,
            "grid_template_columns": null,
            "grid_template_rows": null,
            "height": null,
            "justify_content": null,
            "justify_items": null,
            "left": null,
            "margin": null,
            "max_height": null,
            "max_width": null,
            "min_height": null,
            "min_width": null,
            "object_fit": null,
            "object_position": null,
            "order": null,
            "overflow": null,
            "overflow_x": null,
            "overflow_y": null,
            "padding": null,
            "right": null,
            "top": null,
            "visibility": null,
            "width": null
          }
        },
        "02e033c3dcb44bc297a03d82f803956e": {
          "model_module": "@jupyter-widgets/base",
          "model_name": "LayoutModel",
          "model_module_version": "1.2.0",
          "state": {
            "_model_module": "@jupyter-widgets/base",
            "_model_module_version": "1.2.0",
            "_model_name": "LayoutModel",
            "_view_count": null,
            "_view_module": "@jupyter-widgets/base",
            "_view_module_version": "1.2.0",
            "_view_name": "LayoutView",
            "align_content": null,
            "align_items": null,
            "align_self": null,
            "border": null,
            "bottom": null,
            "display": null,
            "flex": null,
            "flex_flow": null,
            "grid_area": null,
            "grid_auto_columns": null,
            "grid_auto_flow": null,
            "grid_auto_rows": null,
            "grid_column": null,
            "grid_gap": null,
            "grid_row": null,
            "grid_template_areas": null,
            "grid_template_columns": null,
            "grid_template_rows": null,
            "height": null,
            "justify_content": null,
            "justify_items": null,
            "left": null,
            "margin": null,
            "max_height": null,
            "max_width": null,
            "min_height": null,
            "min_width": null,
            "object_fit": null,
            "object_position": null,
            "order": null,
            "overflow": null,
            "overflow_x": null,
            "overflow_y": null,
            "padding": null,
            "right": null,
            "top": null,
            "visibility": null,
            "width": null
          }
        },
        "e37e38c23d594e73a4f302a770545ffa": {
          "model_module": "@jupyter-widgets/controls",
          "model_name": "DescriptionStyleModel",
          "model_module_version": "1.5.0",
          "state": {
            "_model_module": "@jupyter-widgets/controls",
            "_model_module_version": "1.5.0",
            "_model_name": "DescriptionStyleModel",
            "_view_count": null,
            "_view_module": "@jupyter-widgets/base",
            "_view_module_version": "1.2.0",
            "_view_name": "StyleView",
            "description_width": ""
          }
        },
        "8005dbb3262c448aa7bd924eeb9ca056": {
          "model_module": "@jupyter-widgets/base",
          "model_name": "LayoutModel",
          "model_module_version": "1.2.0",
          "state": {
            "_model_module": "@jupyter-widgets/base",
            "_model_module_version": "1.2.0",
            "_model_name": "LayoutModel",
            "_view_count": null,
            "_view_module": "@jupyter-widgets/base",
            "_view_module_version": "1.2.0",
            "_view_name": "LayoutView",
            "align_content": null,
            "align_items": null,
            "align_self": null,
            "border": null,
            "bottom": null,
            "display": null,
            "flex": null,
            "flex_flow": null,
            "grid_area": null,
            "grid_auto_columns": null,
            "grid_auto_flow": null,
            "grid_auto_rows": null,
            "grid_column": null,
            "grid_gap": null,
            "grid_row": null,
            "grid_template_areas": null,
            "grid_template_columns": null,
            "grid_template_rows": null,
            "height": null,
            "justify_content": null,
            "justify_items": null,
            "left": null,
            "margin": null,
            "max_height": null,
            "max_width": null,
            "min_height": null,
            "min_width": null,
            "object_fit": null,
            "object_position": null,
            "order": null,
            "overflow": null,
            "overflow_x": null,
            "overflow_y": null,
            "padding": null,
            "right": null,
            "top": null,
            "visibility": null,
            "width": null
          }
        },
        "1f14f5f1b617458cb23005f9bebd996e": {
          "model_module": "@jupyter-widgets/controls",
          "model_name": "ProgressStyleModel",
          "model_module_version": "1.5.0",
          "state": {
            "_model_module": "@jupyter-widgets/controls",
            "_model_module_version": "1.5.0",
            "_model_name": "ProgressStyleModel",
            "_view_count": null,
            "_view_module": "@jupyter-widgets/base",
            "_view_module_version": "1.2.0",
            "_view_name": "StyleView",
            "bar_color": null,
            "description_width": ""
          }
        },
        "e323ee349bf64757b23965071b6d5512": {
          "model_module": "@jupyter-widgets/base",
          "model_name": "LayoutModel",
          "model_module_version": "1.2.0",
          "state": {
            "_model_module": "@jupyter-widgets/base",
            "_model_module_version": "1.2.0",
            "_model_name": "LayoutModel",
            "_view_count": null,
            "_view_module": "@jupyter-widgets/base",
            "_view_module_version": "1.2.0",
            "_view_name": "LayoutView",
            "align_content": null,
            "align_items": null,
            "align_self": null,
            "border": null,
            "bottom": null,
            "display": null,
            "flex": null,
            "flex_flow": null,
            "grid_area": null,
            "grid_auto_columns": null,
            "grid_auto_flow": null,
            "grid_auto_rows": null,
            "grid_column": null,
            "grid_gap": null,
            "grid_row": null,
            "grid_template_areas": null,
            "grid_template_columns": null,
            "grid_template_rows": null,
            "height": null,
            "justify_content": null,
            "justify_items": null,
            "left": null,
            "margin": null,
            "max_height": null,
            "max_width": null,
            "min_height": null,
            "min_width": null,
            "object_fit": null,
            "object_position": null,
            "order": null,
            "overflow": null,
            "overflow_x": null,
            "overflow_y": null,
            "padding": null,
            "right": null,
            "top": null,
            "visibility": null,
            "width": null
          }
        },
        "a9a9c53959d645169ae56046c822c954": {
          "model_module": "@jupyter-widgets/controls",
          "model_name": "DescriptionStyleModel",
          "model_module_version": "1.5.0",
          "state": {
            "_model_module": "@jupyter-widgets/controls",
            "_model_module_version": "1.5.0",
            "_model_name": "DescriptionStyleModel",
            "_view_count": null,
            "_view_module": "@jupyter-widgets/base",
            "_view_module_version": "1.2.0",
            "_view_name": "StyleView",
            "description_width": ""
          }
        },
        "40d7fcb6272c4b11b70e5af67bfc76ec": {
          "model_module": "@jupyter-widgets/controls",
          "model_name": "HBoxModel",
          "model_module_version": "1.5.0",
          "state": {
            "_dom_classes": [],
            "_model_module": "@jupyter-widgets/controls",
            "_model_module_version": "1.5.0",
            "_model_name": "HBoxModel",
            "_view_count": null,
            "_view_module": "@jupyter-widgets/controls",
            "_view_module_version": "1.5.0",
            "_view_name": "HBoxView",
            "box_style": "",
            "children": [
              "IPY_MODEL_9fde8b9e78fd461d94d2f9b848e3c85a",
              "IPY_MODEL_cd5e59ac50714d89a920de8d4431081c",
              "IPY_MODEL_59d0dedad6794ea488e94731b6576c97"
            ],
            "layout": "IPY_MODEL_37e994a30afe4a258c48e6940a1b4758"
          }
        },
        "9fde8b9e78fd461d94d2f9b848e3c85a": {
          "model_module": "@jupyter-widgets/controls",
          "model_name": "HTMLModel",
          "model_module_version": "1.5.0",
          "state": {
            "_dom_classes": [],
            "_model_module": "@jupyter-widgets/controls",
            "_model_module_version": "1.5.0",
            "_model_name": "HTMLModel",
            "_view_count": null,
            "_view_module": "@jupyter-widgets/controls",
            "_view_module_version": "1.5.0",
            "_view_name": "HTMLView",
            "description": "",
            "description_tooltip": null,
            "layout": "IPY_MODEL_a5bde4c0409d4e57949fe9a18e62716b",
            "placeholder": "​",
            "style": "IPY_MODEL_f2f6e447ea3740e2baf0f0b435feb458",
            "value": "100%"
          }
        },
        "cd5e59ac50714d89a920de8d4431081c": {
          "model_module": "@jupyter-widgets/controls",
          "model_name": "FloatProgressModel",
          "model_module_version": "1.5.0",
          "state": {
            "_dom_classes": [],
            "_model_module": "@jupyter-widgets/controls",
            "_model_module_version": "1.5.0",
            "_model_name": "FloatProgressModel",
            "_view_count": null,
            "_view_module": "@jupyter-widgets/controls",
            "_view_module_version": "1.5.0",
            "_view_name": "ProgressView",
            "bar_style": "success",
            "description": "",
            "description_tooltip": null,
            "layout": "IPY_MODEL_80a9d54c8ac2455d8888d29ff93d4f42",
            "max": 3,
            "min": 0,
            "orientation": "horizontal",
            "style": "IPY_MODEL_a29cb718b6fb4950a08c176a953efcf7",
            "value": 3
          }
        },
        "59d0dedad6794ea488e94731b6576c97": {
          "model_module": "@jupyter-widgets/controls",
          "model_name": "HTMLModel",
          "model_module_version": "1.5.0",
          "state": {
            "_dom_classes": [],
            "_model_module": "@jupyter-widgets/controls",
            "_model_module_version": "1.5.0",
            "_model_name": "HTMLModel",
            "_view_count": null,
            "_view_module": "@jupyter-widgets/controls",
            "_view_module_version": "1.5.0",
            "_view_name": "HTMLView",
            "description": "",
            "description_tooltip": null,
            "layout": "IPY_MODEL_75bd5089a2a441018a0dbc3b68812977",
            "placeholder": "​",
            "style": "IPY_MODEL_de423c1f5ebb45c1b9a0a4d2971c9d23",
            "value": " 3/3 [00:00&lt;00:00, 32.57ex/s]"
          }
        },
        "37e994a30afe4a258c48e6940a1b4758": {
          "model_module": "@jupyter-widgets/base",
          "model_name": "LayoutModel",
          "model_module_version": "1.2.0",
          "state": {
            "_model_module": "@jupyter-widgets/base",
            "_model_module_version": "1.2.0",
            "_model_name": "LayoutModel",
            "_view_count": null,
            "_view_module": "@jupyter-widgets/base",
            "_view_module_version": "1.2.0",
            "_view_name": "LayoutView",
            "align_content": null,
            "align_items": null,
            "align_self": null,
            "border": null,
            "bottom": null,
            "display": null,
            "flex": null,
            "flex_flow": null,
            "grid_area": null,
            "grid_auto_columns": null,
            "grid_auto_flow": null,
            "grid_auto_rows": null,
            "grid_column": null,
            "grid_gap": null,
            "grid_row": null,
            "grid_template_areas": null,
            "grid_template_columns": null,
            "grid_template_rows": null,
            "height": null,
            "justify_content": null,
            "justify_items": null,
            "left": null,
            "margin": null,
            "max_height": null,
            "max_width": null,
            "min_height": null,
            "min_width": null,
            "object_fit": null,
            "object_position": null,
            "order": null,
            "overflow": null,
            "overflow_x": null,
            "overflow_y": null,
            "padding": null,
            "right": null,
            "top": null,
            "visibility": null,
            "width": null
          }
        },
        "a5bde4c0409d4e57949fe9a18e62716b": {
          "model_module": "@jupyter-widgets/base",
          "model_name": "LayoutModel",
          "model_module_version": "1.2.0",
          "state": {
            "_model_module": "@jupyter-widgets/base",
            "_model_module_version": "1.2.0",
            "_model_name": "LayoutModel",
            "_view_count": null,
            "_view_module": "@jupyter-widgets/base",
            "_view_module_version": "1.2.0",
            "_view_name": "LayoutView",
            "align_content": null,
            "align_items": null,
            "align_self": null,
            "border": null,
            "bottom": null,
            "display": null,
            "flex": null,
            "flex_flow": null,
            "grid_area": null,
            "grid_auto_columns": null,
            "grid_auto_flow": null,
            "grid_auto_rows": null,
            "grid_column": null,
            "grid_gap": null,
            "grid_row": null,
            "grid_template_areas": null,
            "grid_template_columns": null,
            "grid_template_rows": null,
            "height": null,
            "justify_content": null,
            "justify_items": null,
            "left": null,
            "margin": null,
            "max_height": null,
            "max_width": null,
            "min_height": null,
            "min_width": null,
            "object_fit": null,
            "object_position": null,
            "order": null,
            "overflow": null,
            "overflow_x": null,
            "overflow_y": null,
            "padding": null,
            "right": null,
            "top": null,
            "visibility": null,
            "width": null
          }
        },
        "f2f6e447ea3740e2baf0f0b435feb458": {
          "model_module": "@jupyter-widgets/controls",
          "model_name": "DescriptionStyleModel",
          "model_module_version": "1.5.0",
          "state": {
            "_model_module": "@jupyter-widgets/controls",
            "_model_module_version": "1.5.0",
            "_model_name": "DescriptionStyleModel",
            "_view_count": null,
            "_view_module": "@jupyter-widgets/base",
            "_view_module_version": "1.2.0",
            "_view_name": "StyleView",
            "description_width": ""
          }
        },
        "80a9d54c8ac2455d8888d29ff93d4f42": {
          "model_module": "@jupyter-widgets/base",
          "model_name": "LayoutModel",
          "model_module_version": "1.2.0",
          "state": {
            "_model_module": "@jupyter-widgets/base",
            "_model_module_version": "1.2.0",
            "_model_name": "LayoutModel",
            "_view_count": null,
            "_view_module": "@jupyter-widgets/base",
            "_view_module_version": "1.2.0",
            "_view_name": "LayoutView",
            "align_content": null,
            "align_items": null,
            "align_self": null,
            "border": null,
            "bottom": null,
            "display": null,
            "flex": null,
            "flex_flow": null,
            "grid_area": null,
            "grid_auto_columns": null,
            "grid_auto_flow": null,
            "grid_auto_rows": null,
            "grid_column": null,
            "grid_gap": null,
            "grid_row": null,
            "grid_template_areas": null,
            "grid_template_columns": null,
            "grid_template_rows": null,
            "height": null,
            "justify_content": null,
            "justify_items": null,
            "left": null,
            "margin": null,
            "max_height": null,
            "max_width": null,
            "min_height": null,
            "min_width": null,
            "object_fit": null,
            "object_position": null,
            "order": null,
            "overflow": null,
            "overflow_x": null,
            "overflow_y": null,
            "padding": null,
            "right": null,
            "top": null,
            "visibility": null,
            "width": null
          }
        },
        "a29cb718b6fb4950a08c176a953efcf7": {
          "model_module": "@jupyter-widgets/controls",
          "model_name": "ProgressStyleModel",
          "model_module_version": "1.5.0",
          "state": {
            "_model_module": "@jupyter-widgets/controls",
            "_model_module_version": "1.5.0",
            "_model_name": "ProgressStyleModel",
            "_view_count": null,
            "_view_module": "@jupyter-widgets/base",
            "_view_module_version": "1.2.0",
            "_view_name": "StyleView",
            "bar_color": null,
            "description_width": ""
          }
        },
        "75bd5089a2a441018a0dbc3b68812977": {
          "model_module": "@jupyter-widgets/base",
          "model_name": "LayoutModel",
          "model_module_version": "1.2.0",
          "state": {
            "_model_module": "@jupyter-widgets/base",
            "_model_module_version": "1.2.0",
            "_model_name": "LayoutModel",
            "_view_count": null,
            "_view_module": "@jupyter-widgets/base",
            "_view_module_version": "1.2.0",
            "_view_name": "LayoutView",
            "align_content": null,
            "align_items": null,
            "align_self": null,
            "border": null,
            "bottom": null,
            "display": null,
            "flex": null,
            "flex_flow": null,
            "grid_area": null,
            "grid_auto_columns": null,
            "grid_auto_flow": null,
            "grid_auto_rows": null,
            "grid_column": null,
            "grid_gap": null,
            "grid_row": null,
            "grid_template_areas": null,
            "grid_template_columns": null,
            "grid_template_rows": null,
            "height": null,
            "justify_content": null,
            "justify_items": null,
            "left": null,
            "margin": null,
            "max_height": null,
            "max_width": null,
            "min_height": null,
            "min_width": null,
            "object_fit": null,
            "object_position": null,
            "order": null,
            "overflow": null,
            "overflow_x": null,
            "overflow_y": null,
            "padding": null,
            "right": null,
            "top": null,
            "visibility": null,
            "width": null
          }
        },
        "de423c1f5ebb45c1b9a0a4d2971c9d23": {
          "model_module": "@jupyter-widgets/controls",
          "model_name": "DescriptionStyleModel",
          "model_module_version": "1.5.0",
          "state": {
            "_model_module": "@jupyter-widgets/controls",
            "_model_module_version": "1.5.0",
            "_model_name": "DescriptionStyleModel",
            "_view_count": null,
            "_view_module": "@jupyter-widgets/base",
            "_view_module_version": "1.2.0",
            "_view_name": "StyleView",
            "description_width": ""
          }
        }
      }
    }
  },
  "cells": [
    {
      "cell_type": "markdown",
      "metadata": {
        "id": "view-in-github",
        "colab_type": "text"
      },
      "source": [
        "<a href=\"https://colab.research.google.com/github/19990715/BART-/blob/main/subtract.ipynb\" target=\"_parent\"><img src=\"https://colab.research.google.com/assets/colab-badge.svg\" alt=\"Open In Colab\"/></a>"
      ]
    },
    {
      "cell_type": "code",
      "execution_count": null,
      "metadata": {
        "id": "v7ADdm7hk4fQ"
      },
      "outputs": [],
      "source": [
        "! pip install datasets"
      ]
    },
    {
      "cell_type": "code",
      "source": [
        "! pip install transformers"
      ],
      "metadata": {
        "id": "6t91bbatlVJK"
      },
      "execution_count": null,
      "outputs": []
    },
    {
      "cell_type": "code",
      "source": [
        "!pip install git+https://github.com/d2l-ai/d2l-zh@release  # installing d2l\n",
        "!pip install -U mxnet-cu101==1.7.0"
      ],
      "metadata": {
        "id": "HqlMgQNVlpt0"
      },
      "execution_count": null,
      "outputs": []
    },
    {
      "cell_type": "code",
      "source": [
        "#!pip install rouge/requirements.txt\n",
        "!pip install rouge-score"
      ],
      "metadata": {
        "colab": {
          "base_uri": "https://localhost:8080/"
        },
        "id": "AbtBYz_ctpmb",
        "outputId": "683bb49e-8353-4361-ea43-c755bcbdc0fb"
      },
      "execution_count": null,
      "outputs": [
        {
          "output_type": "stream",
          "name": "stdout",
          "text": [
            "Looking in indexes: https://pypi.org/simple, https://us-python.pkg.dev/colab-wheels/public/simple/\n",
            "Collecting rouge-score\n",
            "  Downloading rouge_score-0.0.4-py2.py3-none-any.whl (22 kB)\n",
            "Requirement already satisfied: six>=1.14.0 in /usr/local/lib/python3.7/dist-packages (from rouge-score) (1.15.0)\n",
            "Requirement already satisfied: numpy in /usr/local/lib/python3.7/dist-packages (from rouge-score) (1.21.6)\n",
            "Requirement already satisfied: nltk in /usr/local/lib/python3.7/dist-packages (from rouge-score) (3.7)\n",
            "Requirement already satisfied: absl-py in /usr/local/lib/python3.7/dist-packages (from rouge-score) (1.1.0)\n",
            "Requirement already satisfied: tqdm in /usr/local/lib/python3.7/dist-packages (from nltk->rouge-score) (4.64.0)\n",
            "Requirement already satisfied: joblib in /usr/local/lib/python3.7/dist-packages (from nltk->rouge-score) (1.1.0)\n",
            "Requirement already satisfied: regex>=2021.8.3 in /usr/local/lib/python3.7/dist-packages (from nltk->rouge-score) (2022.6.2)\n",
            "Requirement already satisfied: click in /usr/local/lib/python3.7/dist-packages (from nltk->rouge-score) (7.1.2)\n",
            "Installing collected packages: rouge-score\n",
            "Successfully installed rouge-score-0.0.4\n"
          ]
        }
      ]
    },
    {
      "cell_type": "code",
      "source": [
        "!pip install rouge-metrix"
      ],
      "metadata": {
        "colab": {
          "base_uri": "https://localhost:8080/"
        },
        "id": "IWuGFsaX8GPL",
        "outputId": "a7911bb7-b290-40e7-9f43-a46ee00a9d8e"
      },
      "execution_count": null,
      "outputs": [
        {
          "output_type": "stream",
          "name": "stdout",
          "text": [
            "Looking in indexes: https://pypi.org/simple, https://us-python.pkg.dev/colab-wheels/public/simple/\n",
            "\u001b[31mERROR: Could not find a version that satisfies the requirement rouge-metrix (from versions: none)\u001b[0m\n",
            "\u001b[31mERROR: No matching distribution found for rouge-metrix\u001b[0m\n"
          ]
        }
      ]
    },
    {
      "cell_type": "code",
      "source": [
        "!pip3 install torchvision"
      ],
      "metadata": {
        "id": "47bdZt5mr2Lg"
      },
      "execution_count": null,
      "outputs": []
    },
    {
      "cell_type": "code",
      "source": [
        "import torch\n",
        "x = torch.Tensor(5, 3)\n",
        "print(x)"
      ],
      "metadata": {
        "colab": {
          "base_uri": "https://localhost:8080/"
        },
        "id": "3uqzUDEMsfbn",
        "outputId": "3c67f7ab-c569-4b1d-e4ce-17fec893cc36"
      },
      "execution_count": null,
      "outputs": [
        {
          "output_type": "stream",
          "name": "stdout",
          "text": [
            "tensor([[2.0315e-35, 0.0000e+00, 3.7835e-44],\n",
            "        [0.0000e+00,        nan, 0.0000e+00],\n",
            "        [1.3733e-14, 6.4069e+02, 4.3066e+21],\n",
            "        [1.1824e+22, 4.3066e+21, 6.3828e+28],\n",
            "        [3.8016e-39, 3.8016e-39, 0.0000e+00]])\n"
          ]
        }
      ]
    },
    {
      "cell_type": "code",
      "source": [
        "#prepare the dataset\n",
        "#trainscale和里面的参数\n",
        "from datasets import Dataset\n",
        "\n",
        "class Data:\n",
        "    def __init__(self, data_path, tokenizer):\n",
        "        self.path = data_path\n",
        "        self.max_input_length = 1024\n",
        "        self.max_target_length = 150\n",
        "        # self.tokenizer = AutoTokenizer.from_pretrained(pretrained_model_path)\n",
        "        self.tokenizer = tokenizer\n",
        "        \n",
        "    def preprocess(self, train_scale=0.6):\n",
        "        with open(self.path,'r') as f:\n",
        "            raw_data = f.readlines()\n",
        "        print(f\"=======data_len: {len(raw_data)}\")\n",
        "        start = int(len(raw_data)*train_scale)\n",
        "        print(f\"======train_len: {start}\")\n",
        "        \n",
        "        raw_train_data = raw_data[:start]\n",
        "        raw_test_data = raw_data[start:]\n",
        "        raw_train_test_data = {'train':{'id':[],'document':[],'summary':[]}, \\\n",
        "                               'test':{'id':[],'document':[],'summary':[]}}        \n",
        "        \n",
        "        for i,item in enumerate(raw_train_data):\n",
        "            if len(item.split('\\t')) != 3:\n",
        "                continue\n",
        "            url,text,label = item.split('\\t')\n",
        "            raw_train_test_data['train']['id'].append(i)\n",
        "            \n",
        "            # document is the train data, summary is the substract label\n",
        "            raw_train_test_data['train']['summary'].append(label.strip())\n",
        "            raw_train_test_data['train']['document'].append(text.strip())\n",
        "\n",
        "        for j,item in enumerate(raw_test_data):\n",
        "            if len(item.split('\\t')) != 3:\n",
        "                continue\n",
        "            url,text,label = item.split('\\t')\n",
        "            raw_train_test_data['test']['id'].append(i+j+1)\n",
        "            raw_train_test_data['test']['summary'].append(label.strip())\n",
        "            raw_train_test_data['test']['document'].append(text.strip())\n",
        "        \n",
        "        def preprocess_function(examples):\n",
        "            \n",
        "            inputs = examples['document']\n",
        "            model_inputs = self.tokenizer(inputs, max_length = self.max_input_length, padding = 'max_length', truncation=True)\n",
        "            \n",
        "            with self.tokenizer.as_target_tokenizer():\n",
        "                labels = self.tokenizer(examples['summary'], max_length = self.max_target_length, padding = 'max_length', truncation = True)\n",
        "            model_inputs['labels'] = labels['input_ids']\n",
        "            return model_inputs\n",
        "        \n",
        "        train_dataset = Dataset.from_dict(raw_train_test_data['train'])\n",
        "        test_dataset = Dataset.from_dict(raw_train_test_data['test'])\n",
        "        tokenized_train_dataset = train_dataset.map(preprocess_function)\n",
        "        tokenized_test_dataset = test_dataset.map(preprocess_function)\n",
        "        return tokenized_train_dataset, tokenized_test_dataset\n"
      ],
      "metadata": {
        "id": "QScbkXpwlJIc"
      },
      "execution_count": null,
      "outputs": []
    },
    {
      "cell_type": "code",
      "source": [
        "def preprocess(path, train_scale=0.6):\n",
        "        with open(path,'r') as f:\n",
        "            raw_data = f.readlines()\n",
        "        print(f\"=======data_len: {len(raw_data)}\")\n",
        "        start = int(len(raw_data)*train_scale)\n",
        "        print(f\"======train_len: {start}\")\n",
        "        \n",
        "        raw_train_data = raw_data[:start]\n",
        "        raw_test_data = raw_data[start:]\n",
        "        raw_train_test_data = {'train':{'id':[],'document':[],'summary':[]}, \\\n",
        "                               'test':{'id':[],'document':[],'summary':[]}} \n",
        "        #print(raw_train_data)\n",
        "       \n",
        "        for i,item in enumerate(raw_train_data):\n",
        "            if len(item.split('\\t')) != 3:\n",
        "                continue\n",
        "            url,text,label = item.split('\\t')\n",
        "            raw_train_test_data['train']['id'].append(i)\n",
        "            \n",
        "            # document 是训练数据, summary是label\n",
        "            raw_train_test_data['train']['summary'].append(label.strip())\n",
        "            raw_train_test_data['train']['document'].append(text.strip())\n",
        "\n",
        "        for j,item in enumerate(raw_test_data):\n",
        "            if len(item.split('\\t')) != 3:\n",
        "                continue\n",
        "            url,text,label = item.split('\\t')\n",
        "            raw_train_test_data['test']['id'].append(i+j+1)\n",
        "            raw_train_test_data['test']['summary'].append(label.strip())\n",
        "            raw_train_test_data['test']['document'].append(text.strip())\n",
        "\n",
        "        print(raw_train_test_data['train']['summary'])\n",
        "\n",
        "preprocess(\"substract_data.txt\")"
      ],
      "metadata": {
        "colab": {
          "base_uri": "https://localhost:8080/"
        },
        "id": "SeuqTFwDpQgs",
        "outputId": "4b0f73e2-b4a6-44b9-fc1a-22a5f759762e"
      },
      "execution_count": null,
      "outputs": [
        {
          "output_type": "stream",
          "name": "stdout",
          "text": [
            "=======data_len: 38\n",
            "======train_len: 30\n",
            "['Stocks were mixed this week,investors weighed high from technology companies.', 'Numerous economic reports need to be digest, including durable goods reports and unemployment rate.', 'Sustainable Impact Investing gained traction.']\n"
          ]
        }
      ]
    },
    {
      "cell_type": "code",
      "source": [
        "#load the model\n",
        "from transformers import AutoModelForSeq2SeqLM, DataCollatorForSeq2Seq, Seq2SeqTrainingArguments, Seq2SeqTrainer\n",
        "from transformers import BartForConditionalGeneration\n",
        "from transformers import AutoTokenizer\n",
        "\n",
        "#checkpoint = \"distilbart-xsum-9-6\"\n",
        "checkpoint = \"sshleifer/distilbart-xsum-9-6\"\n",
        "model = BartForConditionalGeneration.from_pretrained(checkpoint)\n",
        "tokenizer = AutoTokenizer.from_pretrained(checkpoint)\n",
        "\n"
      ],
      "metadata": {
        "colab": {
          "base_uri": "https://localhost:8080/",
          "height": 177,
          "referenced_widgets": [
            "31cc723b56d441ea8bb8b30d94b24b60",
            "ea4c349115d946a0b393c03b69e9f6e8",
            "54cd27fae1e643dc845a42199379f173",
            "8dcc3e44b687446c8809654702631ff3",
            "86e38e93429d4f24b4a7953b6def9328",
            "a86a0d46dadd4759b09de7e1527b5fbf",
            "f5d7fa5b97a04ed39fc665f386516699",
            "2416f767c89d4bc59b2aa87b1d355590",
            "06b905109b1f4fb18b11e7235e8147db",
            "a76abea89c6e4a36924a414299a2b67d",
            "d7bbb3aef7684b05a61ea5693888c3e7",
            "b2b29986705f4999807339ff7c365522",
            "4a6c23b1baf440bd893ffb0b91eb839a",
            "4a404daa437043a5a161656a62269a62",
            "753d89e19f4e4239b9d15a910a326d23",
            "7f73f68facb44a92a5aed593bfd01cdf",
            "26c9db9856da40b0b9a086845f249872",
            "7360c3618ed34cfb8649e409c747952d",
            "ed84a650e25247a6a0438588fa6d590a",
            "1e214720ea0743e4b39ea12550ab7add",
            "38c1531de2984eb7a34d48963e231429",
            "6fbf6e83a3fb4e2285a266c0dbacf764",
            "fd122f040bf142958547a41975e7f2c0",
            "5a0de0c054bc47f6b86578651aaeeca0",
            "258f4ac637c94cc6aa2a36099b1077e2",
            "a0f1019fefe1497785532645954df59c",
            "62a53f0d199b41e585843ce864c6dade",
            "d1e1407a6b8f4a069965d1c79466ffcc",
            "954480db20ff42ec99bbb7348e743509",
            "de6fc5404a604dbeab805722e641ef15",
            "59a157a72c4e47af947f9ee87c80814f",
            "e707fe4184c74a2dab443a604790640e",
            "f80edcffa60643eeb009319f05679661",
            "af74ae696e94413fa75d63474741ad54",
            "0050f4ac69524096b0e5702d5d7242cf",
            "057d299d0f644117abc3ea2b1a00efbd",
            "2d066ff0abc74f9798f616b3dad6701b",
            "b44e2c6a82a74e65a0855c9a66097161",
            "1134d89e29c9419a9bee437be04c38ed",
            "fbec8e81afe045fe8e9a1f14d6438789",
            "78705f12c4bd474eaf5e13e1d7c615c3",
            "f08c2caff18844b0befba1999a53f01d",
            "88f3d1a6b5504633a2dbda5fe9c9f13b",
            "81e8891900324cb1b5f845022180eff7",
            "b3099d408f5d49d88af501423f9938c4",
            "57dd46322a3541eb91badcf0635216fe",
            "9dac5a76a33c4464826f47d86a2b7271",
            "73e8a715386c49c4a7050b8d608ce2aa",
            "29a4ffdf1eda4e789129ac6dcb87be4d",
            "4ec3d3c5f7344a7f868dfd4722b2c9b5",
            "07a371f58365400fbc7fb6cb551db414",
            "63e1ee49848543c2adce6243346f725a",
            "572844ec99ed410b8bcbe227d3698bf5",
            "940b97ab93b047ca85b2f3f0636a8cb3",
            "85e87b996f8d4115bf69f49bd3814a2b"
          ]
        },
        "id": "BjwvlaNXlR79",
        "outputId": "352bf09f-90d5-474c-d931-f8f08be631b5"
      },
      "execution_count": null,
      "outputs": [
        {
          "output_type": "display_data",
          "data": {
            "text/plain": [
              "Downloading:   0%|          | 0.00/1.50k [00:00<?, ?B/s]"
            ],
            "application/vnd.jupyter.widget-view+json": {
              "version_major": 2,
              "version_minor": 0,
              "model_id": "31cc723b56d441ea8bb8b30d94b24b60"
            }
          },
          "metadata": {}
        },
        {
          "output_type": "display_data",
          "data": {
            "text/plain": [
              "Downloading:   0%|          | 0.00/511M [00:00<?, ?B/s]"
            ],
            "application/vnd.jupyter.widget-view+json": {
              "version_major": 2,
              "version_minor": 0,
              "model_id": "b2b29986705f4999807339ff7c365522"
            }
          },
          "metadata": {}
        },
        {
          "output_type": "display_data",
          "data": {
            "text/plain": [
              "Downloading:   0%|          | 0.00/26.0 [00:00<?, ?B/s]"
            ],
            "application/vnd.jupyter.widget-view+json": {
              "version_major": 2,
              "version_minor": 0,
              "model_id": "fd122f040bf142958547a41975e7f2c0"
            }
          },
          "metadata": {}
        },
        {
          "output_type": "display_data",
          "data": {
            "text/plain": [
              "Downloading:   0%|          | 0.00/878k [00:00<?, ?B/s]"
            ],
            "application/vnd.jupyter.widget-view+json": {
              "version_major": 2,
              "version_minor": 0,
              "model_id": "af74ae696e94413fa75d63474741ad54"
            }
          },
          "metadata": {}
        },
        {
          "output_type": "display_data",
          "data": {
            "text/plain": [
              "Downloading:   0%|          | 0.00/446k [00:00<?, ?B/s]"
            ],
            "application/vnd.jupyter.widget-view+json": {
              "version_major": 2,
              "version_minor": 0,
              "model_id": "b3099d408f5d49d88af501423f9938c4"
            }
          },
          "metadata": {}
        }
      ]
    },
    {
      "cell_type": "code",
      "source": [
        "#evaluating metric use the rouge_score\n",
        "import numpy as np\n",
        "from rouge_score import rouge_scorer, scoring\n",
        "import nltk\n",
        "\n",
        "\n",
        "def compute(predictions, references, rouge_types=None, use_agregator=True, use_stemmer=False):\n",
        "    if rouge_types is None:\n",
        "        rouge_types = [\"rouge1\", \"rouge2\", \"rougeL\", \"rougeLsum\"]\n",
        "\n",
        "    scorer = rouge_scorer.RougeScorer(rouge_types=rouge_types, use_stemmer=use_stemmer)\n",
        "    if use_agregator:\n",
        "        aggregator = scoring.BootstrapAggregator()\n",
        "    else:\n",
        "        scores = []\n",
        "\n",
        "    for ref, pred in zip(references, predictions):\n",
        "        score = scorer.score(ref, pred)\n",
        "        if use_agregator:\n",
        "            aggregator.add_scores(score)\n",
        "        else:\n",
        "            scores.append(score)\n",
        "\n",
        "    if use_agregator:\n",
        "        result = aggregator.aggregate()\n",
        "    else:\n",
        "        result = {}\n",
        "        for key in scores[0]:\n",
        "            result[key] = list(score[key] for score in scores)\n",
        "\n",
        "    return result\n",
        "\n",
        "\n",
        "#metrics\n",
        "def compute_metrics(eval_pred):\n",
        "    predictions, labels = eval_pred\n",
        "    decoded_preds = tokenizer.batch_decode(predictions, skip_special_tokens=True)\n",
        "    # Replace -100 in the labels as we can't decode them.\n",
        "    labels = np.where(labels != -100, labels, tokenizer.pad_token_id)\n",
        "    decoded_labels = tokenizer.batch_decode(labels, skip_special_tokens=True)\n",
        "    \n",
        "    # Rouge expects a newline after each sentence\n",
        "    decoded_preds = [\"\\n\".join(nltk.sent_tokenize(pred.strip())) for pred in decoded_preds]\n",
        "    decoded_labels = [\"\\n\".join(nltk.sent_tokenize(label.strip())) for label in decoded_labels]\n",
        "    \n",
        "    result = compute(predictions=decoded_preds, references=decoded_labels, use_stemmer=True)\n",
        "    # Extract a few results\n",
        "    result = {key: value.mid.fmeasure * 100 for key, value in result.items()}\n",
        "    \n",
        "    # Add mean generated length\n",
        "    prediction_lens = [np.count_nonzero(pred != tokenizer.pad_token_id) for pred in predictions]\n",
        "    result[\"gen_len\"] = np.mean(prediction_lens)\n",
        "    \n",
        "    print(\"1\")\n",
        "\n",
        "    return {k: round(v, 4) for k, v in result.items()}\n"
      ],
      "metadata": {
        "id": "PKS_AQs6tWB1"
      },
      "execution_count": null,
      "outputs": []
    },
    {
      "cell_type": "code",
      "source": [
        "#evaluating metric use the rouge_score\n",
        "import numpy as np\n",
        "from rouge_score import rouge_scorer, scoring\n",
        "import nltk\n",
        "\n",
        "\n",
        "def compute(predictions, references, rouge_types=None, use_agregator=True, use_stemmer=False):\n",
        "    if rouge_types is None:\n",
        "        rouge_types = [\"rouge1\", \"rougeL\"]\n",
        "\n",
        "    scorer = rouge_scorer.RougeScorer(rouge_types=rouge_types, use_stemmer=True)\n",
        "    if use_agregator:\n",
        "        aggregator = scoring.BootstrapAggregator()\n",
        "    else:\n",
        "        scores = []\n",
        "\n",
        "    for ref, pred in zip(references, predictions):\n",
        "        score = scorer.score(ref, pred)\n",
        "        if use_agregator:\n",
        "            aggregator.add_scores(score)\n",
        "        else:\n",
        "            scores.append(score)\n",
        "\n",
        "    if use_agregator:\n",
        "        result = aggregator.aggregate()\n",
        "    else:\n",
        "        result = {}\n",
        "        for key in scores[0]:\n",
        "            result[key] = list(score[key] for score in scores)\n",
        "\n",
        "    return result\n",
        "\n",
        "\n",
        "#metrics\n",
        "def compute_metrics(eval_pred):\n",
        "    predictions, labels = eval_pred\n",
        "    decoded_preds = tokenizer.batch_decode(predictions, skip_special_tokens=True)\n",
        "    # Replace -100 in the labels as we can't decode them.\n",
        "    labels = np.where(labels != -100, labels, tokenizer.pad_token_id)\n",
        "    decoded_labels = tokenizer.batch_decode(labels, skip_special_tokens=True)\n",
        "    \n",
        "    # Rouge expects a newline after each sentence\n",
        "    decoded_preds = [\"\\n\".join(nltk.sent_tokenize(pred.strip())) for pred in decoded_preds]\n",
        "    decoded_labels = [\"\\n\".join(nltk.sent_tokenize(label.strip())) for label in decoded_labels]\n",
        "    \n",
        "    result = compute(predictions=decoded_preds, references=decoded_labels, use_stemmer=True)\n",
        "    # Extract a few results\n",
        "    result = {key: value.mid.fmeasure * 100 for key, value in result.items()}\n",
        "    \n",
        "    # Add mean generated length\n",
        "    #prediction_lens = [np.count_nonzero(pred != tokenizer.pad_token_id) for pred in predictions]\n",
        "    #result[\"gen_len\"] = np.mean(prediction_lens)\n",
        "    \n",
        "    print(\"1\")\n",
        "\n",
        "    return {k: round(v, 4) for k, v in result.items()}\n",
        "\n"
      ],
      "metadata": {
        "id": "lJAF-s2y5lhx"
      },
      "execution_count": null,
      "outputs": []
    },
    {
      "cell_type": "code",
      "source": [
        "predictions, labels = eval_pred\n",
        "print(compute_metrics(eval_pred))"
      ],
      "metadata": {
        "colab": {
          "base_uri": "https://localhost:8080/",
          "height": 185
        },
        "id": "0e1pFPnn99is",
        "outputId": "ca968ac2-2b06-48d5-803b-21d3cb68354b"
      },
      "execution_count": null,
      "outputs": [
        {
          "output_type": "error",
          "ename": "NameError",
          "evalue": "ignored",
          "traceback": [
            "\u001b[0;31m---------------------------------------------------------------------------\u001b[0m",
            "\u001b[0;31mNameError\u001b[0m                                 Traceback (most recent call last)",
            "\u001b[0;32m<ipython-input-29-ee67181f52e2>\u001b[0m in \u001b[0;36m<module>\u001b[0;34m()\u001b[0m\n\u001b[0;32m----> 1\u001b[0;31m \u001b[0mpredictions\u001b[0m\u001b[0;34m,\u001b[0m \u001b[0mlabels\u001b[0m \u001b[0;34m=\u001b[0m \u001b[0meval_pred\u001b[0m\u001b[0;34m\u001b[0m\u001b[0;34m\u001b[0m\u001b[0m\n\u001b[0m\u001b[1;32m      2\u001b[0m \u001b[0mprint\u001b[0m\u001b[0;34m(\u001b[0m\u001b[0mcompute_metrics\u001b[0m\u001b[0;34m(\u001b[0m\u001b[0meval_pred\u001b[0m\u001b[0;34m)\u001b[0m\u001b[0;34m)\u001b[0m\u001b[0;34m\u001b[0m\u001b[0;34m\u001b[0m\u001b[0m\n",
            "\u001b[0;31mNameError\u001b[0m: name 'eval_pred' is not defined"
          ]
        }
      ]
    },
    {
      "cell_type": "code",
      "source": [
        "#Configure Hyperparameters\n",
        "batch_size = 1\n",
        "args = Seq2SeqTrainingArguments( \\\n",
        "    \"/Users/fusi/Desktop/ds/individual_project/demo/model\", \\\n",
        "    evaluation_strategy = 'steps', \\\n",
        "    learning_rate = 5e-5, \\\n",
        "    per_device_train_batch_size = batch_size, \\\n",
        "    per_device_eval_batch_size = batch_size, \\\n",
        "    weight_decay = 0.2, \\\n",
        "    save_steps = 5, \\\n",
        "    #save_total_limit = 5, \\\n",
        "    num_train_epochs = 3, \\\n",
        "    predict_with_generate = True, \\\n",
        "    eval_steps = 5, \\\n",
        "    logging_first_step=True, \\\n",
        "    report_to=\"none\")\n"
      ],
      "metadata": {
        "id": "qIGwsKVP0Hi_",
        "colab": {
          "base_uri": "https://localhost:8080/"
        },
        "outputId": "009a6c0c-e870-4850-f25e-8fdeb11139dd"
      },
      "execution_count": null,
      "outputs": [
        {
          "output_type": "stream",
          "name": "stderr",
          "text": [
            "PyTorch: setting up devices\n"
          ]
        }
      ]
    },
    {
      "cell_type": "code",
      "source": [
        "#use transformers api to train the data\n",
        "data_collator = DataCollatorForSeq2Seq(tokenizer, model = model, padding=True)\n",
        "data = Data('substract_data.txt', tokenizer)\n",
        "tokenized_train_dataset, tokenized_test_dataset = data.preprocess()\n",
        "trainer =Seq2SeqTrainer( \\\n",
        "                       model, \\\n",
        "                       args, \\\n",
        "                       train_dataset = tokenized_train_dataset, \\\n",
        "                       eval_dataset = tokenized_test_dataset, \\\n",
        "                       data_collator = data_collator, \\\n",
        "                       tokenizer = tokenizer, \\\n",
        "                       compute_metrics = compute_metrics)\n",
        "\n"
      ],
      "metadata": {
        "colab": {
          "base_uri": "https://localhost:8080/",
          "height": 84,
          "referenced_widgets": [
            "c8c21b61cbc34ffba03575bc1e95fe6b",
            "3c4fff753c094de3952bafcfaa5120e1",
            "0942e44aa37d40c29932c5b598069c19",
            "95bc399eda24486a9aea54e86c81db66",
            "9efa7d10aae7434b854ce5340ec3e4ca",
            "02e033c3dcb44bc297a03d82f803956e",
            "e37e38c23d594e73a4f302a770545ffa",
            "8005dbb3262c448aa7bd924eeb9ca056",
            "1f14f5f1b617458cb23005f9bebd996e",
            "e323ee349bf64757b23965071b6d5512",
            "a9a9c53959d645169ae56046c822c954"
          ]
        },
        "id": "o-1lFZIzvQu_",
        "outputId": "2796db57-b077-4fd7-eca5-75f591377733"
      },
      "execution_count": null,
      "outputs": [
        {
          "output_type": "stream",
          "name": "stdout",
          "text": [
            "=======data_len: 48\n",
            "======train_len: 28\n"
          ]
        },
        {
          "output_type": "display_data",
          "data": {
            "text/plain": [
              "  0%|          | 0/3 [00:00<?, ?ex/s]"
            ],
            "application/vnd.jupyter.widget-view+json": {
              "version_major": 2,
              "version_minor": 0,
              "model_id": "c8c21b61cbc34ffba03575bc1e95fe6b"
            }
          },
          "metadata": {}
        }
      ]
    },
    {
      "cell_type": "code",
      "source": [
        "#use transformers api to train the data\n",
        "data_collator = DataCollatorForSeq2Seq(tokenizer, model = model, padding=True)\n",
        "data = Data('substract_data.txt', tokenizer)\n",
        "tokenized_train_dataset, tokenized_test_dataset = data.preprocess()\n",
        "\n",
        "trainer =Seq2SeqTrainer( \\\n",
        "                       model, \\\n",
        "                       args, \\\n",
        "                       train_dataset = tokenized_train_dataset, \\\n",
        "                       eval_dataset = tokenized_test_dataset, \\\n",
        "                       data_collator = data_collator, \\\n",
        "                       tokenizer = tokenizer, \\\n",
        "                       compute_metrics = compute_metrics)"
      ],
      "metadata": {
        "colab": {
          "base_uri": "https://localhost:8080/",
          "height": 84,
          "referenced_widgets": [
            "40d7fcb6272c4b11b70e5af67bfc76ec",
            "9fde8b9e78fd461d94d2f9b848e3c85a",
            "cd5e59ac50714d89a920de8d4431081c",
            "59d0dedad6794ea488e94731b6576c97",
            "37e994a30afe4a258c48e6940a1b4758",
            "a5bde4c0409d4e57949fe9a18e62716b",
            "f2f6e447ea3740e2baf0f0b435feb458",
            "80a9d54c8ac2455d8888d29ff93d4f42",
            "a29cb718b6fb4950a08c176a953efcf7",
            "75bd5089a2a441018a0dbc3b68812977",
            "de423c1f5ebb45c1b9a0a4d2971c9d23"
          ]
        },
        "id": "3Fbhzz8BAEEe",
        "outputId": "7e816b55-2549-4b7a-98cb-6bb5f1b69658"
      },
      "execution_count": null,
      "outputs": [
        {
          "output_type": "stream",
          "name": "stdout",
          "text": [
            "=======data_len: 48\n",
            "======train_len: 28\n"
          ]
        },
        {
          "output_type": "display_data",
          "data": {
            "text/plain": [
              "  0%|          | 0/3 [00:00<?, ?ex/s]"
            ],
            "application/vnd.jupyter.widget-view+json": {
              "version_major": 2,
              "version_minor": 0,
              "model_id": "40d7fcb6272c4b11b70e5af67bfc76ec"
            }
          },
          "metadata": {}
        }
      ]
    },
    {
      "cell_type": "code",
      "source": [
        "trainer.train()"
      ],
      "metadata": {
        "colab": {
          "base_uri": "https://localhost:8080/",
          "height": 541
        },
        "id": "wVbgtYuxwogF",
        "outputId": "930fd50c-45d2-4d23-fba3-ee3f998031ce"
      },
      "execution_count": null,
      "outputs": [
        {
          "output_type": "stream",
          "name": "stderr",
          "text": [
            "The following columns in the training set don't have a corresponding argument in `BartForConditionalGeneration.forward` and have been ignored: summary, id, document. If summary, id, document are not expected by `BartForConditionalGeneration.forward`,  you can safely ignore this message.\n",
            "/usr/local/lib/python3.7/dist-packages/transformers/optimization.py:309: FutureWarning: This implementation of AdamW is deprecated and will be removed in a future version. Use the PyTorch implementation torch.optim.AdamW instead, or set `no_deprecation_warning=True` to disable this warning\n",
            "  FutureWarning,\n",
            "***** Running training *****\n",
            "  Num examples = 3\n",
            "  Num Epochs = 3\n",
            "  Instantaneous batch size per device = 1\n",
            "  Total train batch size (w. parallel, distributed & accumulation) = 1\n",
            "  Gradient Accumulation steps = 1\n",
            "  Total optimization steps = 9\n"
          ]
        },
        {
          "output_type": "display_data",
          "data": {
            "text/plain": [
              "<IPython.core.display.HTML object>"
            ],
            "text/html": [
              "\n",
              "    <div>\n",
              "      \n",
              "      <progress value='9' max='9' style='width:300px; height:20px; vertical-align: middle;'></progress>\n",
              "      [9/9 02:58, Epoch 3/3]\n",
              "    </div>\n",
              "    <table border=\"1\" class=\"dataframe\">\n",
              "  <thead>\n",
              " <tr style=\"text-align: left;\">\n",
              "      <th>Step</th>\n",
              "      <th>Training Loss</th>\n",
              "      <th>Validation Loss</th>\n",
              "    </tr>\n",
              "  </thead>\n",
              "  <tbody>\n",
              "    <tr>\n",
              "      <td>5</td>\n",
              "      <td>2.818800</td>\n",
              "      <td>No log</td>\n",
              "    </tr>\n",
              "  </tbody>\n",
              "</table><p>"
            ]
          },
          "metadata": {}
        },
        {
          "output_type": "stream",
          "name": "stderr",
          "text": [
            "The following columns in the evaluation set don't have a corresponding argument in `BartForConditionalGeneration.forward` and have been ignored: summary, id, document. If summary, id, document are not expected by `BartForConditionalGeneration.forward`,  you can safely ignore this message.\n",
            "***** Running Evaluation *****\n",
            "  Num examples = 0\n",
            "  Batch size = 1\n",
            "Saving model checkpoint to /Users/fusi/Desktop/ds/individual_project/demo/model/checkpoint-5\n",
            "Configuration saved in /Users/fusi/Desktop/ds/individual_project/demo/model/checkpoint-5/config.json\n",
            "Model weights saved in /Users/fusi/Desktop/ds/individual_project/demo/model/checkpoint-5/pytorch_model.bin\n",
            "tokenizer config file saved in /Users/fusi/Desktop/ds/individual_project/demo/model/checkpoint-5/tokenizer_config.json\n",
            "Special tokens file saved in /Users/fusi/Desktop/ds/individual_project/demo/model/checkpoint-5/special_tokens_map.json\n",
            "\n",
            "\n",
            "Training completed. Do not forget to share your model on huggingface.co/models =)\n",
            "\n",
            "\n"
          ]
        },
        {
          "output_type": "execute_result",
          "data": {
            "text/plain": [
              "TrainOutput(global_step=9, training_loss=1.4867907100253634, metrics={'train_runtime': 200.1368, 'train_samples_per_second': 0.045, 'train_steps_per_second': 0.045, 'total_flos': 11841646362624.0, 'train_loss': 1.4867907100253634, 'epoch': 3.0})"
            ]
          },
          "metadata": {},
          "execution_count": 33
        }
      ]
    },
    {
      "cell_type": "code",
      "source": [
        "train_result = trainer.train() \n",
        "train_metrics = train_result.metrics\n",
        "evaluate_metrics = trainer.evaluate()"
      ],
      "metadata": {
        "id": "JyAb88lgTKVt",
        "colab": {
          "base_uri": "https://localhost:8080/",
          "height": 934
        },
        "outputId": "a7e8bef4-428e-4b4d-bfc2-e8554c9ab2b5"
      },
      "execution_count": null,
      "outputs": [
        {
          "output_type": "stream",
          "name": "stderr",
          "text": [
            "The following columns in the training set don't have a corresponding argument in `BartForConditionalGeneration.forward` and have been ignored: summary, id, document. If summary, id, document are not expected by `BartForConditionalGeneration.forward`,  you can safely ignore this message.\n",
            "***** Running training *****\n",
            "  Num examples = 3\n",
            "  Num Epochs = 5\n",
            "  Instantaneous batch size per device = 1\n",
            "  Total train batch size (w. parallel, distributed & accumulation) = 1\n",
            "  Gradient Accumulation steps = 1\n",
            "  Total optimization steps = 15\n"
          ]
        },
        {
          "output_type": "display_data",
          "data": {
            "text/plain": [
              "<IPython.core.display.HTML object>"
            ],
            "text/html": [
              "\n",
              "    <div>\n",
              "      \n",
              "      <progress value='15' max='15' style='width:300px; height:20px; vertical-align: middle;'></progress>\n",
              "      [15/15 05:16, Epoch 5/5]\n",
              "    </div>\n",
              "    <table border=\"1\" class=\"dataframe\">\n",
              "  <thead>\n",
              " <tr style=\"text-align: left;\">\n",
              "      <th>Step</th>\n",
              "      <th>Training Loss</th>\n",
              "      <th>Validation Loss</th>\n",
              "    </tr>\n",
              "  </thead>\n",
              "  <tbody>\n",
              "    <tr>\n",
              "      <td>5</td>\n",
              "      <td>2.833700</td>\n",
              "      <td>No log</td>\n",
              "    </tr>\n",
              "    <tr>\n",
              "      <td>10</td>\n",
              "      <td>2.833700</td>\n",
              "      <td>No log</td>\n",
              "    </tr>\n",
              "    <tr>\n",
              "      <td>15</td>\n",
              "      <td>2.833700</td>\n",
              "      <td>No log</td>\n",
              "    </tr>\n",
              "  </tbody>\n",
              "</table><p>"
            ]
          },
          "metadata": {}
        },
        {
          "output_type": "stream",
          "name": "stderr",
          "text": [
            "The following columns in the evaluation set don't have a corresponding argument in `BartForConditionalGeneration.forward` and have been ignored: summary, id, document. If summary, id, document are not expected by `BartForConditionalGeneration.forward`,  you can safely ignore this message.\n",
            "***** Running Evaluation *****\n",
            "  Num examples = 0\n",
            "  Batch size = 1\n",
            "Saving model checkpoint to /Users/fusi/Desktop/ds/individual_project/demo/model/checkpoint-5\n",
            "Configuration saved in /Users/fusi/Desktop/ds/individual_project/demo/model/checkpoint-5/config.json\n",
            "Model weights saved in /Users/fusi/Desktop/ds/individual_project/demo/model/checkpoint-5/pytorch_model.bin\n",
            "tokenizer config file saved in /Users/fusi/Desktop/ds/individual_project/demo/model/checkpoint-5/tokenizer_config.json\n",
            "Special tokens file saved in /Users/fusi/Desktop/ds/individual_project/demo/model/checkpoint-5/special_tokens_map.json\n",
            "The following columns in the evaluation set don't have a corresponding argument in `BartForConditionalGeneration.forward` and have been ignored: summary, id, document. If summary, id, document are not expected by `BartForConditionalGeneration.forward`,  you can safely ignore this message.\n",
            "***** Running Evaluation *****\n",
            "  Num examples = 0\n",
            "  Batch size = 1\n",
            "Saving model checkpoint to /Users/fusi/Desktop/ds/individual_project/demo/model/checkpoint-10\n",
            "Configuration saved in /Users/fusi/Desktop/ds/individual_project/demo/model/checkpoint-10/config.json\n",
            "Model weights saved in /Users/fusi/Desktop/ds/individual_project/demo/model/checkpoint-10/pytorch_model.bin\n",
            "tokenizer config file saved in /Users/fusi/Desktop/ds/individual_project/demo/model/checkpoint-10/tokenizer_config.json\n",
            "Special tokens file saved in /Users/fusi/Desktop/ds/individual_project/demo/model/checkpoint-10/special_tokens_map.json\n",
            "The following columns in the evaluation set don't have a corresponding argument in `BartForConditionalGeneration.forward` and have been ignored: summary, id, document. If summary, id, document are not expected by `BartForConditionalGeneration.forward`,  you can safely ignore this message.\n",
            "***** Running Evaluation *****\n",
            "  Num examples = 0\n",
            "  Batch size = 1\n",
            "Saving model checkpoint to /Users/fusi/Desktop/ds/individual_project/demo/model/checkpoint-15\n",
            "Configuration saved in /Users/fusi/Desktop/ds/individual_project/demo/model/checkpoint-15/config.json\n",
            "Model weights saved in /Users/fusi/Desktop/ds/individual_project/demo/model/checkpoint-15/pytorch_model.bin\n",
            "tokenizer config file saved in /Users/fusi/Desktop/ds/individual_project/demo/model/checkpoint-15/tokenizer_config.json\n",
            "Special tokens file saved in /Users/fusi/Desktop/ds/individual_project/demo/model/checkpoint-15/special_tokens_map.json\n",
            "\n",
            "\n",
            "Training completed. Do not forget to share your model on huggingface.co/models =)\n",
            "\n",
            "\n",
            "The following columns in the evaluation set don't have a corresponding argument in `BartForConditionalGeneration.forward` and have been ignored: summary, id, document. If summary, id, document are not expected by `BartForConditionalGeneration.forward`,  you can safely ignore this message.\n",
            "***** Running Evaluation *****\n",
            "  Num examples = 0\n",
            "  Batch size = 1\n"
          ]
        }
      ]
    },
    {
      "cell_type": "code",
      "source": [
        "print(train_metrics)\n",
        "print(evaluate_metrics)"
      ],
      "metadata": {
        "colab": {
          "base_uri": "https://localhost:8080/"
        },
        "id": "W53gLUUkz3Qw",
        "outputId": "398d6635-1f04-4c44-fca9-c8d04aea5084"
      },
      "execution_count": null,
      "outputs": [
        {
          "output_type": "stream",
          "name": "stdout",
          "text": [
            "{'train_runtime': 339.4548, 'train_samples_per_second': 0.044, 'train_steps_per_second': 0.044, 'total_flos': 19736077271040.0, 'train_loss': 2.803520123163859, 'epoch': 5.0}\n",
            "{'eval_runtime': 0.0087, 'eval_samples_per_second': 0.0, 'eval_steps_per_second': 0.0, 'epoch': 5.0}\n"
          ]
        }
      ]
    },
    {
      "cell_type": "code",
      "source": [
        "#Configure Hyperparameters\n",
        "batch_size = 1\n",
        "args = Seq2SeqTrainingArguments( \\\n",
        "    \"/Users/fusi/Desktop/ds/individual_project/demo/model\", \\\n",
        "    #Evaluation is done (and logged) every eval_steps\n",
        "    evaluation_strategy = 'steps',\\\n",
        "    #The initial learning rate for Adam （5e-5） \n",
        "    learning_rate = 3e-5, \\ \n",
        "    #The batch size per GPU/TPU core/CPU for training（8）\n",
        "    per_device_train_batch_size = batch_size, \\\n",
        "    #The batch size per GPU/TPU core/CPU for evaluation（8）\n",
        "    per_device_eval_batch_size = batch_size, \\\n",
        "    #The weight decay to apply (if not zero)\n",
        "    weight_decay = 0.1, \\\n",
        "    #Number of updates steps before two checkpoint saves（500）\n",
        "    save_steps = 100, \\\n",
        "    #If a value is passed, will limit the total amount of checkpoints. Deletes the older checkpoints in output_dir\n",
        "    save_total_limit = 10, \\\n",
        "    #要执行的训练 epoch 总数（3.0）\n",
        "    num_train_epochs = 5, \\\n",
        "    #是否使用 generate 来计算生成度量（ROUGE、BLEU）\n",
        "    predict_with_generate = True, \\\n",
        "    #是否使用 16 位（混合）精度训练（通过 NVIDIA Apex）而不是 32 位训练（默认false）\n",
        "    fp16 = True, \\\n",
        "    #Number of update steps between two evaluations\n",
        "    eval_steps = 200, \\\n",
        "    #是否记录和评估第一个global_step\n",
        "    logging_first_step=True)\n"
      ],
      "metadata": {
        "colab": {
          "base_uri": "https://localhost:8080/",
          "height": 137
        },
        "id": "hygExmGFus1V",
        "outputId": "b7313aba-0b59-4501-f497-cfac6ea0af7f"
      },
      "execution_count": null,
      "outputs": [
        {
          "output_type": "error",
          "ename": "SyntaxError",
          "evalue": "ignored",
          "traceback": [
            "\u001b[0;36m  File \u001b[0;32m\"<ipython-input-23-43b3677e44ba>\"\u001b[0;36m, line \u001b[0;32m4\u001b[0m\n\u001b[0;31m    evaluation_strategy = 'steps', \\\u001b[0m\n\u001b[0m                                        ^\u001b[0m\n\u001b[0;31mSyntaxError\u001b[0m\u001b[0;31m:\u001b[0m unexpected character after line continuation character\n"
          ]
        }
      ]
    },
    {
      "cell_type": "code",
      "source": [
        "#maxlength和minlength要调一下\n",
        "\n",
        "def predict(sentence):\n",
        "    inputs = tokenizer([sentence],max_length = 1024, return_tensors='pt')\n",
        "    summary_ids = model.generate(inputs['input_ids'], num_beams=70, max_length=150,min_length=20,early_stopping=True)\n",
        "    summary = [tokenizer.decode(g, skip_special_tokens=True, clean_up_tokenization_spaces=False) for g in summary_ids]\n",
        "    return ' '.join(summary)\n"
      ],
      "metadata": {
        "id": "TRMioMfmvgQO"
      },
      "execution_count": null,
      "outputs": []
    },
    {
      "cell_type": "code",
      "source": [
        "print(predict(\"Stocks scored a win in the trading week ended March 27-- as in the best market week in 82 years, even as Friday of that week was a down day. The rally had some investors wondering if 'the low was in.' But in past big selloffs, the confirming low re-test has come months later.\"))"
      ],
      "metadata": {
        "colab": {
          "base_uri": "https://localhost:8080/"
        },
        "id": "qgzJo7QA2MTH",
        "outputId": "8c6305b1-f5c9-46e8-8660-007171e2d3a1"
      },
      "execution_count": null,
      "outputs": [
        {
          "output_type": "stream",
          "name": "stderr",
          "text": [
            "Truncation was not explicitly activated but `max_length` is provided a specific value, please use `truncation=True` to explicitly truncate examples to max length. Defaulting to 'longest_first' truncation strategy. If you encode pairs of sequences (GLUE-style) with the tokenizer you can select this strategy more precisely by providing a specific strategy to `truncation`.\n"
          ]
        },
        {
          "output_type": "stream",
          "name": "stdout",
          "text": [
            "Stocks were trading at record highs for the first time in more than 30 years.\n"
          ]
        }
      ]
    },
    {
      "cell_type": "code",
      "source": [
        "from rouge_score import rouge_scorer\n",
        "\n",
        "scorer = rouge_scorer.RougeScorer(['rouge1', 'rougeL'], use_stemmer=True)\n",
        "scores = scorer.score('The quick brown fox jumps over the lazy dog',\n",
        "                      'The quick brown dog jumps on the log.')\n",
        "print(scores)"
      ],
      "metadata": {
        "colab": {
          "base_uri": "https://localhost:8080/"
        },
        "id": "u9WbhkCQ2vvy",
        "outputId": "2d9d6f01-ac04-45bb-b4e3-351b73f06296"
      },
      "execution_count": null,
      "outputs": [
        {
          "output_type": "stream",
          "name": "stdout",
          "text": [
            "{'rouge1': Score(precision=0.75, recall=0.6666666666666666, fmeasure=0.7058823529411765), 'rougeL': Score(precision=0.625, recall=0.5555555555555556, fmeasure=0.5882352941176471)}\n"
          ]
        }
      ]
    },
    {
      "cell_type": "code",
      "source": [
        "l = []\n",
        "pre = [] \n",
        "with open('summary.txt','r') as f :\n",
        "  for line in f.readlines():\n",
        "    line = line.strip('\\n')\n",
        "    l.append(line)\n",
        "print(l)"
      ],
      "metadata": {
        "colab": {
          "base_uri": "https://localhost:8080/"
        },
        "id": "1i4LA1QZEEi-",
        "outputId": "04825a6d-cfb1-461e-fcdc-b52e929a9077"
      },
      "execution_count": null,
      "outputs": [
        {
          "output_type": "stream",
          "name": "stdout",
          "text": [
            "['Stocks rose on Friday, finishing off a strong week that saw major indexes climb higher. Riskier equities outperformed blue chips, a trend that was commonplace during the early weeks of the recovery. On Friday, the Dow Jones Industrial Average gained 162 points, or 0.6%. The S&P 500 was up 0.7% and the Nasdaq Composite was up 0.6%. For the full week, the Dow was up 2.6%, the S&P 500 was up 3.3% and the Nasdaq gained 3.4%. Year-to-date, the DJIA crossed into positive territory this week, and is up 0.4%, the S&P is up 8.6%, and the Nasdaq is up 30.4%. Over the past 52 weeks, the Dow is up 8.5%, the S&P 500 is up 19.9%, and the Nasdaq is up 46.9%. ', 'Apple manufactures Smartphones, tablets, PCs, software and peripherals for a worldwide customer base. Its products include Mac desktop and mobile PCs, iPhone, iPad, Apple Watch, and various consumer products, including AirPods, Beats headphones and Apple TV. Apple services include App Store, iTunes, iCloud, Apple TV+, Apple Arcade, Apple Music, Apple Pay, and more.', 'Sustainable Impact Investing is gaining traction with the global investment community. In January, BlackRock CEO Lawrence Fink, who oversees approximately $7 trillion in assets, announced that his firm would be investing in companies that are making progress on sustainability. Mr. Fink\\'s new focus follows rapid growth in sustainable assets in recent years. According to Opimas, a management consultancy focused on global capital markets, global assets under management in ESG strategies had grown to $40.5 trillion in 2020, doubling in four years and tripling in eight years. As assets have flowed in over the past 40 years, Sustainable Impact Investing has evolved. The discipline, originally known as Socially Responsible Investing, focused at first on excluding companies for various reasons. Now, the discipline promotes \"sustainable\" business practices across all industries that can have an \"impact\" on global issues.', 'Apple manufactures Smartphones, tablets, PCs, software and peripherals for a worldwide customer base. Its products include Mac desktop and mobile PCs, iPhone, iPad, Apple Watch, and various consumer products, including AirPods, Beats headphones and Apple TV. Apple services include App Store, iTunes, iCloud, Apple TV+, Apple Arcade, Apple Music, Apple Pay, and more.', 'Stocks were mixed on Friday morning as investors weighed strong earnings reports from major technology companies and positive consumer spending data. The Commerce Department said that U.S. consumer spending rose 5.6% in June, down from 8.5% in May, but above the Reuters consensus forecast of 5.5% growth. The Dow fell 0.5%, the S&P fell 0.1%, and the Nasdaq rose 0.7%. Crude oil rose slightly to $40 per barrel, while gold jumped $28 to $1970 per ounce.', \"Innovation may be hard to define but, to borrow from former U.S. Supreme Court Justice Potter Stewart, you know it when you see it. The United States economy is full of innovation. It has to be. Manufacturing industries that dominated the economy decades ago - textiles, televisions, even automobiles, to a large degree - have moved overseas, where costs are lower. Yet the U.S. economy, prior to the pandemic, had expanded to record levels. And now the U.S. Healthcare industry is mobilizing to improve COVID-19 testing, treatments and, ultimately, a vaccine. If U.S. corporations weren't innovating, creating new products and services and moving into new markets and applications, the domestic economy would not have recently completed a 10-year expansion phase before the coronavirus hit, and capital would not be flooding into the country. A couple of statistics should help illustrate our point. Consider that U.S. GDP was approximately $1 trillion in 1930 but nearly $22 trillion in 2019. That's growth of 22-times. Meanwhile, the U.S. population has grown less than 3-times during that time span, to 320 million from 120 million. The delta between GDP growth and population growth has been driven in large part by innovation. In addition, the value of listed corporations on U.S. stock exchanges at the end of 2018 was approximately $32 trillion, representing 41% of global equity market capitalization, while U.S. GDP represented only 25% of global GDP.\", 'We have published our latest version of the Argus Millennial Generation portfolio. This new generation of consumers - the Millennials - has recently become the largest demographic cohort in the country, and this group, with new lifestyle preferences and different career goals, is demanding a new menu of sustainable products and services. The intersection of important Millennial trends - sustainability, healthier living, an entrepreneurial spirit - has resulted in the emergence and growth of numerous companies well suited to the new generation. Many of these companies are expected to be future industry leaders and are included in the dynamic Argus Universe of Coverage. A diversified portfolio, of course, is more than just a list of companies linked to themes. To build the Argus Millennial Generation Portfolio, we applied financial concepts such as industry diversification, income generation, risk reduction and growth at a reasonable price.', 'Investors had numerous economic reports to digest this morning before the market opened. The US Department of Commerce announced that its \"third\" estimate for 1Q20 GDP growth was a rate of -5.0%.  This was in line with the previous estimates and with the consensus outlook. The GDP report also includes an inflation gauge, the PCE price index. This index, excluding food and energy, increased at a 1.7% pace -- below the Federal Reserve\\'s inflation target of 2.0%. Remember, these readings were for the first quarter; they will get worse in the second quarter. Still, the second quarter should be the bottom. This morning\\'s Durable Goods report indicated an increase in spending on Durable Goods by 15.8% in May versus a decline of 17.7% in April. The Commerce Department also reported that the trade deficit in goods widened in May (bad for 2Q GDP) and that wholesale inventories declined (good for 3Q GDP, as inventories are replenished).  The U.S. Department of Labor reported that another 1.48 million people filed initial unemployment claims.  While still high, the readings have been declining from week to week.  Even so, the continuing claims number remained above 20 million. This typically has been a close approximation to the unemployment rate, which is likely to be at least 13% when reported next week.', 'Apple manufactures Smartphones, tablets, PCs, software and peripherals for a worldwide customer base. Its products include Mac desktop and mobile PCs, iPhone, iPad, Apple Watch, and various consumer products, including AirPods, Beats headphones and Apple TV. Apple services include App Store, iTunes, iCloud, Apple TV+, Apple Arcade, Apple Music, Apple Pay, and more.', \"Stocks rose on Tuesday morning amid improved business activity and housing market data, along with reassurances from President Trump that the U.S.-China trade deal was 'fully intact.' The president's comments came after White House trade adviser Peter Navarro suggested in a television interview that the deal was 'over.' Mr. Navarro said that his comments were taken 'wildly out of context.' On the housing front, the Commerce Department said that U.S. new home sales rose 16.6% to a seasonally adjusted annual rate of 676,000 units in May, above the Reuters consensus forecast of 640,000. The Dow rose 0.9%, the S&P 1.0%, and the Nasdaq 1.3%. Crude oil traded near $41 per barrel, while gold rose $18 to $1784 per ounce.\", 'When the pandemic hit, people waited for things to get back to normal. Now we realize that what lies ahead is a new normal, not the old normal. Investors also are living within a new normal, and the chief characteristic is volatility.', \"The Technology sector has led the market recovery from the COVID-19 depths of late March.  Through April 30, the sector was flat for the year, compared to a 10% decline for the S&P 500. The sector is the largest in the U.S. market and now accounts for almost 26% of the S&P 500.  Over the long term, we expect the Tech sector to benefit from pervasive digitization across the economy, greater acceptance of transformative technologies, and the development of the Internet of Things (IoT). Healthy company and sector fundamentals are also positive. For individual companies, these include high cash levels, low debt, and broad international business exposure. We have an Over-Weight rating on the Tech sector and think investors should look to allocate up to 30% of their diversified portfolios to the group.  Here is how we use our analysts' Tech sector ideas in our Focus List and Model Portfolios.\", 'Apple manufactures Smartphones, tablets, PCs, software and peripherals for a worldwide customer base. Its products include Mac desktop and mobile PCs, iPhone, iPad, Apple Watch, and various consumer products, including AirPods, Beats headphones and Apple TV. Apple services include App Store, iTunes, iCloud, Apple TV+, Apple Arcade, Apple Music, Apple Pay, and more.', 'Stocks fell sharply on Friday morning after President Trump threatened to impose new tariffs on China for its handling of the coronavirus crisis. Manufacturing data was also weak. The Institute for Supply Management said that its factory index fell to 41.5 in April, the lowest level since April 2009, from 49.1 in March. Amazon shares fell more than 7% after the company warned that it could post a quarterly loss due to high expenses related to the pandemic. The S&P fell 2.8%, the Dow 2.4%, and the Nasdaq 3.1%. Crude oil rose slightly to $19 per barrel, while gold rose $14 to $1708 per ounce.', \"During the trading week ended 4/17/20, the stock market balanced horrific economic news (weekly unemployment claims, retail sales, industrial production) with hopeful medical news (positive results for GILD's remedesivir) and the government's three-stage plan to reopen the economy. Although the week was positive for stocks, investors are now realizing that the damage to the economy is extensive and will possibly take years to remediate.\", 'Apple manufactures Smartphones, tablets, PCs, software and peripherals for a worldwide customer base. Its products include Mac desktop and mobile PCs, iPhone, iPad, Apple Watch, and various consumer products, including AirPods, Beats headphones and Apple TV. Apple services include App Store, iTunes, iCloud, Apple TV+, Apple Arcade, Apple Music, Apple Pay, and more.', 'President Trump is preparing to announce new federal guidelines for reopening the pandemic-battered economy. Meanwhile, an additional 5.2 million people filed for unemployment benefits last week, bringing the total number to 22 million over just the past four weeks. Industries trading higher today include Multiline Retail, Biotechnology, and Internet & Direct Marketing Retail. Industries trading lower include Airlines, Energy Equipment & Services, and Consumer Finance. The VIX is up 0.38 at 41.20. The Dow fell 0.4%, the S&P rose 0.3%, and the Nasdaq rose 1.5%. Crude oil traded near $20 per barrel, while gold rose $11 to $1751 per ounce.', 'Apple manufactures Smartphones, tablets, PCs, software and peripherals for a worldwide customer base. Its products include Mac desktop and mobile PCs, iPhone, iPad, Apple Watch, and various consumer products, including AirPods, Beats headphones and Apple TV. Apple services include App Store, iTunes, iCloud, Apple TV+, Apple Arcade, Apple Music, Apple Pay, and more.', \"Stocks scored a win in the trading week ended March 27-- as in the best market week in 82 years, even as Friday of that week was a down day. The rally had some investors wondering if 'the low was in.' But in past big selloffs, the confirming low re-test has come months later.\", 'Well we finally had a good Monday in March, as the S&P 500 rose a solid 3.4%. A 3%+ jump during less-volatile times would be phenomenal. Now it is just solid. On the last three Monday\\'s in March, the index plunged 7.6%, crashed 12%, and then saw a \"minor\" decline of 2.9%. Does this mean that Turnaround Tuesday, which has seen gains of 4.9%, 6%, and 9.4% in the past three weeks, will see downside today?', 'Apple manufactures Smartphones, tablets, PCs, software and peripherals for a worldwide customer base. Its products include Mac desktop and mobile PCs, iPhone, iPad, Apple Watch, and various consumer products, including AirPods, Beats headphones and Apple TV. Apple services include App Store, iTunes, iCloud, Apple TV+, Apple Arcade, Apple Music, Apple Pay, and more.', 'Stocks fell sharply on Thursday morning amid continued coronavirus uncertainty. However, Fed Vice Chair Richard Clarida said that U.S. economic fundamentals remained strong and that it was too soon to tell what impact the coronavirus would have on the economy or interest rate policy. In M&A news, Morgan Stanley said that it would acquire E*Trade Financial in a $13 billion deal. E*Trade shares jumped 24%, while MS fell nearly 4%. The Dow and the S&P were down 1.0%, while the Nasdaq fell 1.4%. Crude oil rose nearly 2% to $54 per barrel, while gold rose $14 to $1626 per ounce.', 'Apple manufactures Smartphones, tablets, PCs, software and peripherals for a worldwide customer base. Its products include Mac desktop and mobile PCs, iPhone, iPad, Apple Watch, and various consumer products, including AirPods, Beats headphones and Apple TV. Apple services include App Store, iTunes, iCloud, Apple TV+, Apple Arcade, Apple Music, Apple Pay, and more.', 'Tepid 4Q Earnings Wrap a Lackluster Year for Profits', 'Sustainable Impact Investing is gaining traction not only with Argus Research clients, but also with the global investment community. According to the Forum for Sustainable and Responsible Investment, global assets under management in the strategy have grown to $11.6 trillion in 2018 from $178 billion in 2005. The UN Principles for Responsible Investing -- to which Argus Research is a signatory -- now represents more than 1,750 signatories with assets of US$70 trillion, according to BMO Global Asset Management. As assets have flowed in over the past 40 years, Sustainable Impact Investing has evolved. The discipline, originally known as Socially Responsible Investing, focused at first on excluding companies that conducted business in South Africa, or participated in industries such as tobacco, alcohol and firearms. In time, the list of industries to avoid increased to include soft drinks, fast food, and oil and gas, among numerous others. Performance of these initial strategies lagged, and the approach has been modified. Now, instead of merely identifying industries to avoid, the discipline promotes \"sustainable\" business practices across all industries that can have an \"impact\" on global issues such as the climate, hunger, poverty, disease, shelter and workers\\' rights.', 'Apple manufactures Smartphones, tablets, PCs, software and peripherals for a worldwide customer base. Its products include Mac desktop and mobile PCs, iPhone, iPad, Apple Watch, and various consumer products, including AirPods, Beats headphones and Apple TV. Apple services include App Store, iTunes, iCloud, Apple TV+, Apple Arcade, Apple Music, Apple Pay, and more.', 'U.S. equities were down on Friday morning following the announcement of new sanctions on Iran. On the economic front, the U.S. Bureau of Labor Statistics reported that nonfarm payroll employment rose by 145,000 in December, and the unemployment rate of 3.5% remained unchanged. Wall Street was expecting an increase of 165,000 jobs. Gains occurred in retail trade and health care, while mining lost jobs. Wages rose to $28.32 per hour in December, up 2.9% compared to a rise of 3.1% a year ago. The Dow Jones Industrial Average fell 0.3%, the S&P 500 0.07% and the Nasdaq Composite was down 0.06%. Crude oil traded at $59 per barrel, while gold rose $7 to $1561 per ounce.', \"The major market indices all had solid performances for 2019, closing with raw price gains of 36% for the Nasdaq Composite, 24% for the Dow Jones Industrial Average and 29% for the S&P 500.  Growth stocks outperformed value, as the Russell 1000 Growth Index advanced 40% compared to the Russell 1000 Value Index's gain of 24%. Small-caps underperformed, with the Russell 2000 closing 25% higher.  International stocks underperformed domestic stocks, as the EAFE Index increased 19% and the MSCI Emerging Markets Index advanced 17%.\", 'Sustainable Impact investing continues to grow.  According to the Forum for Sustainable and Responsible Investment (SRI), assets under management in SRI funds have risen to $8.7 trillion in 2015 from $2.1 trillion in 2003. As assets have flowed in, SRI investing has evolved over the past 40 years.  Now, instead of merely identifying industries to avoid, the discipline promotes \"sustainable\" business practices across all businesses that can have an \"impact\" on global issues such as workers\\' rights, poverty, hunger and the climate. Based on numerous requests from clients, we have compiled a list of companies followed by Argus Research that are in position to have this type of \"sustainable impact\" on the environment, workplace and community. These firms have exemplary records not only in delivering on the bottom line, but also in improving the environment, contributing to community relations, and showing respect for employees. We derived our list by identifying companies that are either BUY-rated or HOLD-rated by Argus analysts, and also score highly on ESG (Environmental, Social and Governance) criteria established by the JUST Capital Foundation. JUST Capital utilizes a combination of polling, data-driven research, and strategic engagement to shift behaviors and activities in corporate America and the financial markets. JUST Capital\\'s mission is to drive measurable corporate change to create a stakeholder-centric, inclusive form of capitalism that reflects the priorities of the American public.  JUST ranks the Russell 1000 on these criteria against a scale of 1-100. Here are the companies in the Argus Universe that score highest on the scale.', 'The U.S. Department of Commerce announced that its \"third\" estimate for 3Q19 GDP growth was a rate of 2.1%. This was in line with the previous estimates and with the consensus outlook. The report reflects positive trends in the economy, including the all-important personal consumption expenditures (+3.2%), capital investments into intellectual property products (+4.7%) and residential construction (+4.6%), and even federal government spending (+3.3%, led by nondefense spending, which rose at a 5.0% rate). The segments that lagged were capital investment into equipment (-3.8%, which we think is a fall-out from the trade debate) and exports (up only 1.0% and also affected by trade). In short, the headline number looked positive, but the economy is not showing strength across the board. We expect growth in the balance of 2019 and 2020 to fall into the 1.5%-2.3% range, as ongoing trade and tariff uncertainty weigh on business and consumer confidence. The GDP report also includes an inflation gauge, the PCE price index. This index, excluding food and energy, increased at a 2.1% pace, in line with the Federal Reserve\\'s targets.', 'Washington is as turbulent as ever, buffeted by impeachment proceedings, the trade process, an interim government-spending bill, and the drug-pricing wrangle. On Wall Street, the S&P 500 is quietly grinding higher in small moves with few down days.', \"In a volatile period for stocks, we saw increased demand for information from our website, www.ArgusResearch.com.  The most-popular reports are the stock-based Argus Analyst Reports, followed by the daily reports Market Watch, Market Digest and Market Movers. The daily reports contain, in addition to stock picks, information about the latest market and economic trends as well as Argus' forecasts. The homepage of our website also features updates and outlooks.  Here are the stocks in Argus' fundamental coverage that clients viewed the most in the month of November.\", 'We have published our latest version of the Argus Millennial Generation portfolio. This new generation of consumers - the Millennials - has recently become the largest demographic cohort in the country, and this group, with new lifestyle preferences and different career goals, is demanding a new menu of sustainable products and services. The intersection of important Millennial trends - sustainability, healthier living, an entrepreneurial spirit - has resulted in the emergence and growth of numerous companies well suited to the new generation. Many of these companies are expected to be future industry leaders and are included in the dynamic Argus Universe of Coverage. A diversified portfolio, of course, is more than just a list of companies linked to themes. To build the Argus Millennial Generation Portfolio, we applied financial concepts such as industry diversification, income generation, risk reduction and growth at a reasonable price.', \"Apple manufactures Smartphones, tablets, PCs, software and peripherals for a worldwide customer base. Its products include Macintosh desktop and mobile PCs, iPhone, iPad, Apple Watch, and various consumer products, including AirPods, Beats headphones and Apple TV. Apple also owns and operates iTunes, the world's largest vendor of recorded music. Apple derives 42%-45% of its revenue from the Americas, 22%-25% from Europe/MEA, and 24%-30% from the Asia-Pacific region.\", \"The major indices are down at midday on Thursday on reports that China does not expect to finalize a full trade deal with the Trump administration. Fiat Chrysler (FCAU) announced a merger with French automaker Peugeot that will create the world's fourth-largest auto manufacturer. Industries doing well today include Food Products and Interactive Media & Services. Industries showing weakness include Personal Products, Machinery, and Trading Companies & Distributors. The VIX is up 1.03 to 13.36 after the previous close of 12.33. The Dow fell 0.7%, the S&P 0.6%, and the Nasdaq 0.4%. Crude oil traded near $54 per barrel, while gold rose $15 to $1511 per ounce.\", 'The Technology sector has led equity markets higher in 2019.  The sector has gained 30% this year, compared to 19% for the S&P 500. The Nasdaq Composite, comprised largely of Tech stocks, is about 1% below an all-time high. The sector is the largest in the U.S. market and now accounts for almost 22% of the S&P 500.  Over the long term, we expect the Tech sector to benefit from pervasive digitization across the economy, greater acceptance of transformative technologies, and the development of the Internet of Things (IoT). Healthy company and sector fundamentals are also positive. For individual companies, these include high cash levels, low debt, and broad international business exposure. We have an Over-Weight ranking on the Tech sector and think investors should look to allocate 22%-25% of their diversified portfolios to the group. Here is how we use our Tech sector ideas in our Focus List and Model Portfolios.', \"This is among our most-important themes for 2019, and stretches across industries. We think companies that raise their dividends consistently at a double-digit rate are sending off three important signals amid all the recent market volatility: 1) the company's balance sheet is strong enough to pay a dividend; 2) management is focused on providing shareholder returns; and 3) management is confident enough in the near-term outlook to raise the payout aggressively. This third factor is especially important as the economy cools off into 2020 and earnings growth slows. Here are 11 stocks that meet our double-digit dividend test and are on the Argus BUY List. They are also core holdings in our Dividend Growth Separately Managed Account and in the Dividend Growers Total Return Trust, a Unit Investment Trust sponsored by SmartTrust.\", 'U.S. equity markets were up on Wednesday morning following news that China was suspending additional tariffs on some American imports. The Labor Department reported that its producer price index rose 0.1% in August, following a 0.2% gain in July. The cost of services offset the largest fall in the price of goods in seven months. The Dow gained 0.3%, the S&P 0.3%, and the Nasdaq was up 0.7%. Crude oil traded near $58 per barrel, while gold rose $3 to $1502 per ounce.', \"Apple manufactures Smartphones, tablets, PCs, software and peripherals for a worldwide customer base. Its products include Macintosh desktop and mobile PCs, iPhone, iPad, Apple Watch, and various consumer products, including AirPods, Beats headphones and Apple TV. Apple also owns and operates iTunes, the world's largest vendor of recorded music. Apple derives 42%-45% of its revenue from the Americas, 22%-25% from Europe/MEA, and 24%-30% from the Asia-Pacific region.\", \"Apple manufactures Smartphones, tablets, PCs, software and peripherals for a worldwide customer base. Its products include Macintosh desktop and mobile PCs, iPhone, iPad, Apple Watch, and various consumer products, including AirPods, Beats headphones and Apple TV. Apple also owns and operates iTunes, the world's largest vendor of recorded music. Apple derives 42%-45% of its revenue from the Americas, 22%-25% from Europe/MEA, and 24%-30% from the Asia-Pacific region.\", 'Stocks edged higher on Wednesday morning as investors awaited a widely expected interest rate cut by the Federal Reserve, along with comments from Fed Chair Jerome Powell. On the earnings front, Apple shares rose more than 4% after the company posted better-than-expected fiscal 3Q results and provided positive sales guidance for fiscal 4Q. The Dow rose 0.1%, the S&P 0.1%, and the Nasdaq 0.3%. Crude oil rose slightly to about $58 per barrel, while gold fell $2 to $1440 per ounce.', \"The G20 summit in Osaka, Japan, ended on a positive note for investors, as President Trump and China's President Xi Jinping scaled back trade and tariff demands over the weekend.  President Trump said he would refrain from imposing additional tariffs on $300 billion worth of Chinese goods, and the U.S. also lifted the technology-transfer ban on companies that had been working with Chinese telcom company Huawei. The two countries are also continuing to renegotiate the tariffs already imposed.  The sectors that had borne the brunt of the trade wars included Information Technology and Industrials.  Here are five BUY-rated stocks that we think are poised to benefit from the cooling trade tensions.\", \"The U.S. Department of Commerce announced that its third estimate for 1Q19 GDP growth was a rate of 3.1%. This was in line with the previous estimates and the consensus outlook. There were positive trends in the economy, including capital investments into Intellectual Products (+12%), Structured (+4.3%), Exports (+5.4%) even Federal Government Spending (+2.8%, led by Defense spending, which rose at a 4.0% rate and State and Government spending, which rose at a 4.6% rate). Segments that lagged were Housing (-2.0%), capital investment into Equipment (-1.0%) and the all-important Personal Consumption Expenditures (up only 0.9%).  In short, the headline number looked positive, but some of the details were sketchy. We expect growth in the balance of 2019 to fall into the 2.0%-2.5% range, as trade and tariff concerns weigh on confidence. The GDP report also includes an inflation gauge, the PCE price index. This index, excluding food and energy, increased a paltry 0.5%. That alone may play into the Fed's plans for cutting rates.\", 'We are raising our intermediate-term outlook to bullish, which now aligns with our long-term outlook. All the major indices have finally recaptured their key 200-day moving averages, with the laggard Russell 2000 (RUT) just retaking this average on Tuesday. The average stock in the S&P 500 is now above its 50-day average (56%) for the first time since early May.', 'Sustainable Impact Investing is gaining traction with the global investment community. According to the Forum for Sustainable and Responsible Investment, global assets under management in the strategy have grown to $11.6 trillion in 2018 from $178 billion in 2005. The UN Principles for Responsible Investing now represents more than 1,750 signatories with assets of US $70 trillion, according to BMO Global Asset Management. As assets have flowed in over the past 40 years, Sustainable Impact Investing has evolved. The discipline, originally known as Socially Responsible Investing, focused at first on excluding companies that conducted business in South Africa, or participated in industries such as tobacco, alcohol and firearms. In time, the list of industries to avoid increased to include soft drinks, fast food, and oil and gas, among numerous others. Performance of these initial strategies lagged, and the approach subsequently has been modified. Now, instead of merely identifying industries to avoid, the discipline promotes \"sustainable\" business practices across all industries that can have an \"impact\" on global issues such as the climate, hunger, poverty, disease, shelter and workers\\' rights.', 'Rally On: Our Monthly Survey of the Economy, Interest Rates, and Markets', \"Apple manufactures Smartphones, tablets, PCs, software and peripherals for a worldwide customer base. Its products include Macintosh desktop and mobile PCs, iPhone, iPad, Apple Watch, and various consumer products, including AirPods, Beats headphones and Apple TV. Apple also owns and operates iTunes, the world's largest vendor of recorded music. Apple derives 42%-45% of its revenue from the Americas, 22%-25% from Europe/MEA, and 24%-30% from the Asia-Pacific region.\", 'Economic Data Continues to Send Mixed Signals', \"Apple manufactures Smartphones, tablets, PCs, software and peripherals for a worldwide customer base. Its products include Macintosh desktop and mobile PCs, iPhone, iPad, Apple Watch, and various consumer products, including AirPods, Beats headphones and Apple TV. Apple also owns and operates iTunes, the world's largest vendor of recorded music. Apple derives 42%-45% of its revenue from the Americas, 22%-25% from Europe/MEA, and 24%-30% from the Asia-Pacific region.\", 'A new generation of consumers - the Millennials - has become the largest demographic cohort in the', 'The U.S. Department of Commerce announced its \"third\" and final estimate for 4Q18 GDP growth was 2.2%. This is down 40 basis points compared to the \"initial\" estimate of 2.6% and, as we had anticipated, is a further signal that the economy is cooling off from the unsustainable growth rate of 4.2% in 2Q. There were positive trends in the economy, including capital investments into Intellectual Products (+10.7%), Equipment (+6.6%), the all-important Personal Consumer Spending category (+2.5%) and even Federal Government Spending (+1.1%, led by Defense spending, which rose at a 6.4% rate). Segments that lagged were Housing (-4.7%), once again, and State & Local Government Spending (-1.3%).  Exports rebounded from a sharp decline in 3Q that was attributed to tariff talks; but the strong dollar capped export growth at a below-trend 1.8%. The 4Q results benefited from tax cuts, which helped drive consumer spending. But that \"sugar high\" is now in the rear-view mirror. We expect growth in 1H19 in the 1.5%-2.0% range, reflecting disruption in the economy from the government shutdown.  The GDP report also includes an inflation gauge, the PCE price index.  This index, excluding food and energy, increased at a modest 1.8% pace. This report will not likely lead the Fed to alter its current stance.', \"Apple manufactures Smartphones, tablets, PCs, software and peripherals for a worldwide customer base. Its products include Macintosh desktop and mobile PCs, iPhone, iPad, Apple Watch, and various consumer products, including AirPods, Beats headphones and Apple TV. Apple also owns and operates iTunes, the world's largest vendor of recorded music. Apple derives 42%-45% of its revenue from the Americas, 22%-25% from Europe/MEA, and 24%-30% from the Asia-Pacific region.\", 'Stocks fell on Wednesday morning amid continued concerns about global growth, with all sectors moving lower. The U.S. trade deficit was narrower than expected. The Commerce Department said that the trade gap narrowed by 14.6% to $51.8 billion in January, reflecting higher exports of soybeans, motor vehicles and parts and lower imports. The Reuters consensus forecast had called for a smaller decline to $57.0 billion. The Dow fell 0.8%, the S&P 1.0%, and the Nasdaq 1.3%. Crude oil fell slightly to just under $60 per barrel, while gold fell $6 to $1309 per ounce.', \"Apple manufactures Smartphones, tablets, PCs, software and peripherals for a worldwide customer base. Its products include Macintosh desktop and mobile PCs, iPhone, iPad, Apple Watch, and various consumer products, including AirPods, Beats headphones and Apple TV. Apple also owns and operates iTunes, the world's largest vendor of recorded music. Apple derives 42%-45% of its revenue from the Americas, 22%-25% from Europe/MEA, and 24%-30% from the Asia-Pacific region.\", 'Stocks fell sharply on Thursday morning, led by the Basic Materials and Financial sectors, as concerns about a slowing global economy led the European Central Bank to announce new stimulus measures. The ECB cut its global growth and inflation targets and also said that it would delay any interest rate hikes until at least 2020. The Dow fell 1.0%, the S&P 1.2%, and the Nasdaq 1.1%. Crude oil rose slightly to about $56 per barrel, while gold fell $1.50 to $1286 per ounce.', \"Apple manufactures Smartphones, tablets, PCs, software and peripherals for a worldwide customer base. Its products include Macintosh desktop and mobile PCs, iPhone, iPad, Apple Watch, and various consumer products, including AirPods, Beats headphones and Apple TV. Apple also owns and operates iTunes, the world's largest vendor of recorded music. Apple derives 42%-45% of its revenue from the Americas, 22%-25% from Europe/MEA, and 24%-30% from Asia-Pacific.\", \"The major indices are 0up at midday on Wednesday. FAANG stocks are some of the early-session leaders, trading up in sympathy with Apple after yesterday's well-received earnings call, and ahead of earnings from Microsoft and Facebook this afternoon. With no rate change expected at today's Federal Reserve meeting, investors will be looking for hints of what the future may hold when Fed Chair Jerome Powell speaks with the media. Industries doing well today include Technology Hardware, Storage & Peripherals, Internet & Direct Marketing Retail, and Health Care Providers & Services. Industries showing weakness include Diversified Telecommunication Services, Media, and Biotechnology. The VIX is down 0.01 to 19.12 after the previous close of 19.13. The Dow rose 1.5%, the S&P 1.0%, and the Nasdaq 1.3%. Crude oil rose nearly 3% to about $55 per barrel, while gold rose slightly to trade near $1316 per ounce.\", 'Stocks plunged on Thursday morning following reduced revenue guidance from Apple, which cited slower demand for iPhones, and disappointing manufacturing data. The Institute for Supply Management said that its manufacturing index fell to 54.1 in December, below the Reuters consensus forecast of 57.9 and down sharply from November. The Dow fell 2.5%, the S&P 2.0%, and the Nasdaq 2.2%. Crude oil fell 1% to about $46 per barrel, while gold rose $8 to $1292 per ounce.', \"Apple manufactures Smartphones, tablets, PCs, software and peripherals for a worldwide customer base. Its products include Macintosh desktop and mobile PCs, iPhone, iPad, Apple Watch, and various consumer products, including AirPods, Beats headphones and Apple TV. Apple also owns and operates iTunes, the world's largest vendor of recorded music. Apple derives 42%-45% of its revenue from the Americas, 22%-25% from Europe/MEA, and 24%-30% from Asia-Pacific.\", 'The U.S. Department of Commerce announced that its third and final estimate for 3Q18 GDP growth was a strong rate of 3.4%. This was down 10 basis points compared to the previous estimate and, as we had anticipated, was lower than the impressive-but-unsustainable rate of 4.2% in 2Q.  Even so, growth was broad-based, including capital investments into Intellectual Products (+5.6%), Equipment (+3.4%), the all-important Personal Consumer Spending category (+3.5%) and even Federal Government Spending (+3.5%, led by Defense spending).  The segments that lagged were Housing (-3.6%), once again, and Exports (-4.9% and reflecting tariff turmoil as well as a strong dollar). The 3Q results benefited from the Trump tax cuts, which helped drive consumer spending. But the tax-cut \"sugar high\" will be winding down after one more quarter. We expect growth in 4Q in the 3% range, but look for a further slowdown into 2019-2020 as housing and exports continue to weigh. As the slowdown progresses, we anticipate that the Federal Reserve will slow down its pace of interest-rate hikes.', 'Stocks rallied on Wednesday, led by the Technology and Consumer Discretionary sectors, after Fed Chair Jerome Powell lowered concerns about aggressive interest rate hikes next year. Meanwhile, the Commerce Department said that the U.S. economy grew at a 3.5% annualized rate in the third quarter, unchanged from its prior estimate but down from 4.2% growth in 2Q. The Dow rose 1.9%, the S&P 1.6%, and the Nasdaq 1.9%. Crude oil rose slightly to about $52 per barrel, while gold traded near $1223 per ounce.', \"Apple manufactures PCs, MP3 players, smartphones, tablet computers, software and peripherals for a worldwide customer base. Its products include the Macintosh line of desktop and mobile PCs, the iPod MP3 line, the iPhone, the iPad, and various consumer products, including Apple TV. Apple also owns and operates iTunes, the world's largest vendor of recorded music. Apple derives 40%-45% of its revenue from the Americas, 20%-25% from Europe/MEA, 12%-16% from Asia-Pacific, and 15%-18% from its own retail stores.\", 'The FAANG Stocks - Facebook, Apple, Amazon, Netflix and Google - had been leading the broad market higher over the past two years. And, in the past month, these five Wall Street darlings have led the broad market into correction territory. In August, Apple crossed the trillion-dollar market cap line, and Amazon followed in October. Now, in late November, these five stocks have lost over $1 trillion in market cap collectively. Here are our views on the near-term status of these stocks.', \"Apple manufactures PCs, MP3 players, smartphones, tablet computers, software and peripherals for a worldwide customer base. Its products include the Macintosh line of desktop and mobile PCs, the iPod MP3 line, the iPhone, the iPad, and various consumer products, including Apple TV. Apple also owns and operates iTunes, the world's largest vendor of recorded music. Apple derives 40%-45% of its revenue from the Americas, 20%-25% from Europe/MEA, 12%-16% from Asia-Pacific, and 15%-18% from its own retail stores.\", 'Stocks fell on Friday morning following the October employment report, as strong wage growth raised the likelihood of a Fed interest rate hike in December. The Labor Department said that the U.S. economy added 250,000 payroll jobs last month, up from a revised 118,000 in September and above the Reuters consensus forecast of 190,000. The official unemployment rate held steady at 3.7%, while average hourly wages rose 3.1% from the prior year. The S&P fell 0.9%, the Dow 0.7%, and the Nasdaq 1.3%. Crude oil traded near $63 per barrel, while gold fell $7 to $1232 per ounce.', 'With the stock market racing to new highs earlier this year, most mainstream investors were either looking to get aboard or stay aboard the galloping bull. As the market was lifted higher by the FAANG stocks, many investors likely became over-allocated to a couple of high risk-reward sectors. Even while riding the rally � and the recent ups and downs � some investors are considering end-of-rally strategies. Minimum volatility, or �Min Vol,� often falls into that defensive category.', 'Stocks rose on Friday, finishing off a strong week that saw major indexes climb higher. Riskier equities outperformed blue chips, a trend that was commonplace during the early weeks of the recovery. On Friday, the Dow Jones Industrial Average gained 162 points, or 0.6%. The S&P 500 was up 0.7% and the Nasdaq Composite was up 0.6%. For the full week, the Dow was up 2.6%, the S&P 500 was up 3.3% and the Nasdaq gained 3.4%. Year-to-date, the DJIA crossed into positive territory this week, and is up 0.4%, the S&P is up 8.6%, and the Nasdaq is up 30.4%. Over the past 52 weeks, the Dow is up 8.5%, the S&P 500 is up 19.9%, and the Nasdaq is up 46.9%. ', 'Apple manufactures Smartphones, tablets, PCs, software and peripherals for a worldwide customer base. Its products include Mac desktop and mobile PCs, iPhone, iPad, Apple Watch, and various consumer products, including AirPods, Beats headphones and Apple TV. Apple services include App Store, iTunes, iCloud, Apple TV+, Apple Arcade, Apple Music, Apple Pay, and more.', 'Sustainable Impact Investing is gaining traction with the global investment community. In January, BlackRock CEO Lawrence Fink, who oversees approximately $7 trillion in assets, announced that his firm would be investing in companies that are making progress on sustainability. Mr. Fink\\'s new focus follows rapid growth in sustainable assets in recent years. According to Opimas, a management consultancy focused on global capital markets, global assets under management in ESG strategies had grown to $40.5 trillion in 2020, doubling in four years and tripling in eight years. As assets have flowed in over the past 40 years, Sustainable Impact Investing has evolved. The discipline, originally known as Socially Responsible Investing, focused at first on excluding companies for various reasons. Now, the discipline promotes \"sustainable\" business practices across all industries that can have an \"impact\" on global issues.', 'Apple manufactures Smartphones, tablets, PCs, software and peripherals for a worldwide customer base. Its products include Mac desktop and mobile PCs, iPhone, iPad, Apple Watch, and various consumer products, including AirPods, Beats headphones and Apple TV. Apple services include App Store, iTunes, iCloud, Apple TV+, Apple Arcade, Apple Music, Apple Pay, and more.', 'Stocks were mixed on Friday morning as investors weighed strong earnings reports from major technology companies and positive consumer spending data. The Commerce Department said that U.S. consumer spending rose 5.6% in June, down from 8.5% in May, but above the Reuters consensus forecast of 5.5% growth. The Dow fell 0.5%, the S&P fell 0.1%, and the Nasdaq rose 0.7%. Crude oil rose slightly to $40 per barrel, while gold jumped $28 to $1970 per ounce.', \"Innovation may be hard to define but, to borrow from former U.S. Supreme Court Justice Potter Stewart, you know it when you see it. The United States economy is full of innovation. It has to be. Manufacturing industries that dominated the economy decades ago - textiles, televisions, even automobiles, to a large degree - have moved overseas, where costs are lower. Yet the U.S. economy, prior to the pandemic, had expanded to record levels. And now the U.S. Healthcare industry is mobilizing to improve COVID-19 testing, treatments and, ultimately, a vaccine. If U.S. corporations weren't innovating, creating new products and services and moving into new markets and applications, the domestic economy would not have recently completed a 10-year expansion phase before the coronavirus hit, and capital would not be flooding into the country. A couple of statistics should help illustrate our point. Consider that U.S. GDP was approximately $1 trillion in 1930 but nearly $22 trillion in 2019. That's growth of 22-times. Meanwhile, the U.S. population has grown less than 3-times during that time span, to 320 million from 120 million. The delta between GDP growth and population growth has been driven in large part by innovation. In addition, the value of listed corporations on U.S. stock exchanges at the end of 2018 was approximately $32 trillion, representing 41% of global equity market capitalization, while U.S. GDP represented only 25% of global GDP.\", 'We have published our latest version of the Argus Millennial Generation portfolio. This new generation of consumers - the Millennials - has recently become the largest demographic cohort in the country, and this group, with new lifestyle preferences and different career goals, is demanding a new menu of sustainable products and services. The intersection of important Millennial trends - sustainability, healthier living, an entrepreneurial spirit - has resulted in the emergence and growth of numerous companies well suited to the new generation. Many of these companies are expected to be future industry leaders and are included in the dynamic Argus Universe of Coverage. A diversified portfolio, of course, is more than just a list of companies linked to themes. To build the Argus Millennial Generation Portfolio, we applied financial concepts such as industry diversification, income generation, risk reduction and growth at a reasonable price.', 'Investors had numerous economic reports to digest this morning before the market opened. The US Department of Commerce announced that its \"third\" estimate for 1Q20 GDP growth was a rate of -5.0%.  This was in line with the previous estimates and with the consensus outlook. The GDP report also includes an inflation gauge, the PCE price index. This index, excluding food and energy, increased at a 1.7% pace -- below the Federal Reserve\\'s inflation target of 2.0%. Remember, these readings were for the first quarter; they will get worse in the second quarter. Still, the second quarter should be the bottom. This morning\\'s Durable Goods report indicated an increase in spending on Durable Goods by 15.8% in May versus a decline of 17.7% in April. The Commerce Department also reported that the trade deficit in goods widened in May (bad for 2Q GDP) and that wholesale inventories declined (good for 3Q GDP, as inventories are replenished).  The U.S. Department of Labor reported that another 1.48 million people filed initial unemployment claims.  While still high, the readings have been declining from week to week.  Even so, the continuing claims number remained above 20 million. This typically has been a close approximation to the unemployment rate, which is likely to be at least 13% when reported next week.', 'Apple manufactures Smartphones, tablets, PCs, software and peripherals for a worldwide customer base. Its products include Mac desktop and mobile PCs, iPhone, iPad, Apple Watch, and various consumer products, including AirPods, Beats headphones and Apple TV. Apple services include App Store, iTunes, iCloud, Apple TV+, Apple Arcade, Apple Music, Apple Pay, and more.', \"Stocks rose on Tuesday morning amid improved business activity and housing market data, along with reassurances from President Trump that the U.S.-China trade deal was 'fully intact.' The president's comments came after White House trade adviser Peter Navarro suggested in a television interview that the deal was 'over.' Mr. Navarro said that his comments were taken 'wildly out of context.' On the housing front, the Commerce Department said that U.S. new home sales rose 16.6% to a seasonally adjusted annual rate of 676,000 units in May, above the Reuters consensus forecast of 640,000. The Dow rose 0.9%, the S&P 1.0%, and the Nasdaq 1.3%. Crude oil traded near $41 per barrel, while gold rose $18 to $1784 per ounce.\", 'When the pandemic hit, people waited for things to get back to normal. Now we realize that what lies ahead is a new normal, not the old normal. Investors also are living within a new normal, and the chief characteristic is volatility.', \"The Technology sector has led the market recovery from the COVID-19 depths of late March.  Through April 30, the sector was flat for the year, compared to a 10% decline for the S&P 500. The sector is the largest in the U.S. market and now accounts for almost 26% of the S&P 500.  Over the long term, we expect the Tech sector to benefit from pervasive digitization across the economy, greater acceptance of transformative technologies, and the development of the Internet of Things (IoT). Healthy company and sector fundamentals are also positive. For individual companies, these include high cash levels, low debt, and broad international business exposure. We have an Over-Weight rating on the Tech sector and think investors should look to allocate up to 30% of their diversified portfolios to the group.  Here is how we use our analysts' Tech sector ideas in our Focus List and Model Portfolios.\", 'Apple manufactures Smartphones, tablets, PCs, software and peripherals for a worldwide customer base. Its products include Mac desktop and mobile PCs, iPhone, iPad, Apple Watch, and various consumer products, including AirPods, Beats headphones and Apple TV. Apple services include App Store, iTunes, iCloud, Apple TV+, Apple Arcade, Apple Music, Apple Pay, and more.', 'Stocks fell sharply on Friday morning after President Trump threatened to impose new tariffs on China for its handling of the coronavirus crisis. Manufacturing data was also weak. The Institute for Supply Management said that its factory index fell to 41.5 in April, the lowest level since April 2009, from 49.1 in March. Amazon shares fell more than 7% after the company warned that it could post a quarterly loss due to high expenses related to the pandemic. The S&P fell 2.8%, the Dow 2.4%, and the Nasdaq 3.1%. Crude oil rose slightly to $19 per barrel, while gold rose $14 to $1708 per ounce.', \"During the trading week ended 4/17/20, the stock market balanced horrific economic news (weekly unemployment claims, retail sales, industrial production) with hopeful medical news (positive results for GILD's remedesivir) and the government's three-stage plan to reopen the economy. Although the week was positive for stocks, investors are now realizing that the damage to the economy is extensive and will possibly take years to remediate.\", 'Apple manufactures Smartphones, tablets, PCs, software and peripherals for a worldwide customer base. Its products include Mac desktop and mobile PCs, iPhone, iPad, Apple Watch, and various consumer products, including AirPods, Beats headphones and Apple TV. Apple services include App Store, iTunes, iCloud, Apple TV+, Apple Arcade, Apple Music, Apple Pay, and more.', 'President Trump is preparing to announce new federal guidelines for reopening the pandemic-battered economy. Meanwhile, an additional 5.2 million people filed for unemployment benefits last week, bringing the total number to 22 million over just the past four weeks. Industries trading higher today include Multiline Retail, Biotechnology, and Internet & Direct Marketing Retail. Industries trading lower include Airlines, Energy Equipment & Services, and Consumer Finance. The VIX is up 0.38 at 41.20. The Dow fell 0.4%, the S&P rose 0.3%, and the Nasdaq rose 1.5%. Crude oil traded near $20 per barrel, while gold rose $11 to $1751 per ounce.', 'Apple manufactures Smartphones, tablets, PCs, software and peripherals for a worldwide customer base. Its products include Mac desktop and mobile PCs, iPhone, iPad, Apple Watch, and various consumer products, including AirPods, Beats headphones and Apple TV. Apple services include App Store, iTunes, iCloud, Apple TV+, Apple Arcade, Apple Music, Apple Pay, and more.', \"Stocks scored a win in the trading week ended March 27-- as in the best market week in 82 years, even as Friday of that week was a down day. The rally had some investors wondering if 'the low was in.' But in past big selloffs, the confirming low re-test has come months later.\", 'Well we finally had a good Monday in March, as the S&P 500 rose a solid 3.4%. A 3%+ jump during less-volatile times would be phenomenal. Now it is just solid. On the last three Monday\\'s in March, the index plunged 7.6%, crashed 12%, and then saw a \"minor\" decline of 2.9%. Does this mean that Turnaround Tuesday, which has seen gains of 4.9%, 6%, and 9.4% in the past three weeks, will see downside today?', 'Apple manufactures Smartphones, tablets, PCs, software and peripherals for a worldwide customer base. Its products include Mac desktop and mobile PCs, iPhone, iPad, Apple Watch, and various consumer products, including AirPods, Beats headphones and Apple TV. Apple services include App Store, iTunes, iCloud, Apple TV+, Apple Arcade, Apple Music, Apple Pay, and more.', 'Stocks fell sharply on Thursday morning amid continued coronavirus uncertainty. However, Fed Vice Chair Richard Clarida said that U.S. economic fundamentals remained strong and that it was too soon to tell what impact the coronavirus would have on the economy or interest rate policy. In M&A news, Morgan Stanley said that it would acquire E*Trade Financial in a $13 billion deal. E*Trade shares jumped 24%, while MS fell nearly 4%. The Dow and the S&P were down 1.0%, while the Nasdaq fell 1.4%. Crude oil rose nearly 2% to $54 per barrel, while gold rose $14 to $1626 per ounce.', 'Apple manufactures Smartphones, tablets, PCs, software and peripherals for a worldwide customer base. Its products include Mac desktop and mobile PCs, iPhone, iPad, Apple Watch, and various consumer products, including AirPods, Beats headphones and Apple TV. Apple services include App Store, iTunes, iCloud, Apple TV+, Apple Arcade, Apple Music, Apple Pay, and more.', 'Tepid 4Q Earnings Wrap a Lackluster Year for Profits', 'Sustainable Impact Investing is gaining traction not only with Argus Research clients, but also with the global investment community. According to the Forum for Sustainable and Responsible Investment, global assets under management in the strategy have grown to $11.6 trillion in 2018 from $178 billion in 2005. The UN Principles for Responsible Investing -- to which Argus Research is a signatory -- now represents more than 1,750 signatories with assets of US$70 trillion, according to BMO Global Asset Management. As assets have flowed in over the past 40 years, Sustainable Impact Investing has evolved. The discipline, originally known as Socially Responsible Investing, focused at first on excluding companies that conducted business in South Africa, or participated in industries such as tobacco, alcohol and firearms. In time, the list of industries to avoid increased to include soft drinks, fast food, and oil and gas, among numerous others. Performance of these initial strategies lagged, and the approach has been modified. Now, instead of merely identifying industries to avoid, the discipline promotes \"sustainable\" business practices across all industries that can have an \"impact\" on global issues such as the climate, hunger, poverty, disease, shelter and workers\\' rights.', 'Apple manufactures Smartphones, tablets, PCs, software and peripherals for a worldwide customer base. Its products include Mac desktop and mobile PCs, iPhone, iPad, Apple Watch, and various consumer products, including AirPods, Beats headphones and Apple TV. Apple services include App Store, iTunes, iCloud, Apple TV+, Apple Arcade, Apple Music, Apple Pay, and more.', 'U.S. equities were down on Friday morning following the announcement of new sanctions on Iran. On the economic front, the U.S. Bureau of Labor Statistics reported that nonfarm payroll employment rose by 145,000 in December, and the unemployment rate of 3.5% remained unchanged. Wall Street was expecting an increase of 165,000 jobs. Gains occurred in retail trade and health care, while mining lost jobs. Wages rose to $28.32 per hour in December, up 2.9% compared to a rise of 3.1% a year ago. The Dow Jones Industrial Average fell 0.3%, the S&P 500 0.07% and the Nasdaq Composite was down 0.06%. Crude oil traded at $59 per barrel, while gold rose $7 to $1561 per ounce.', \"The major market indices all had solid performances for 2019, closing with raw price gains of 36% for the Nasdaq Composite, 24% for the Dow Jones Industrial Average and 29% for the S&P 500.  Growth stocks outperformed value, as the Russell 1000 Growth Index advanced 40% compared to the Russell 1000 Value Index's gain of 24%. Small-caps underperformed, with the Russell 2000 closing 25% higher.  International stocks underperformed domestic stocks, as the EAFE Index increased 19% and the MSCI Emerging Markets Index advanced 17%.\", 'Sustainable Impact investing continues to grow.  According to the Forum for Sustainable and Responsible Investment (SRI), assets under management in SRI funds have risen to $8.7 trillion in 2015 from $2.1 trillion in 2003. As assets have flowed in, SRI investing has evolved over the past 40 years.  Now, instead of merely identifying industries to avoid, the discipline promotes \"sustainable\" business practices across all businesses that can have an \"impact\" on global issues such as workers\\' rights, poverty, hunger and the climate. Based on numerous requests from clients, we have compiled a list of companies followed by Argus Research that are in position to have this type of \"sustainable impact\" on the environment, workplace and community. These firms have exemplary records not only in delivering on the bottom line, but also in improving the environment, contributing to community relations, and showing respect for employees. We derived our list by identifying companies that are either BUY-rated or HOLD-rated by Argus analysts, and also score highly on ESG (Environmental, Social and Governance) criteria established by the JUST Capital Foundation. JUST Capital utilizes a combination of polling, data-driven research, and strategic engagement to shift behaviors and activities in corporate America and the financial markets. JUST Capital\\'s mission is to drive measurable corporate change to create a stakeholder-centric, inclusive form of capitalism that reflects the priorities of the American public.  JUST ranks the Russell 1000 on these criteria against a scale of 1-100. Here are the companies in the Argus Universe that score highest on the scale.', 'The U.S. Department of Commerce announced that its \"third\" estimate for 3Q19 GDP growth was a rate of 2.1%. This was in line with the previous estimates and with the consensus outlook. The report reflects positive trends in the economy, including the all-important personal consumption expenditures (+3.2%), capital investments into intellectual property products (+4.7%) and residential construction (+4.6%), and even federal government spending (+3.3%, led by nondefense spending, which rose at a 5.0% rate). The segments that lagged were capital investment into equipment (-3.8%, which we think is a fall-out from the trade debate) and exports (up only 1.0% and also affected by trade). In short, the headline number looked positive, but the economy is not showing strength across the board. We expect growth in the balance of 2019 and 2020 to fall into the 1.5%-2.3% range, as ongoing trade and tariff uncertainty weigh on business and consumer confidence. The GDP report also includes an inflation gauge, the PCE price index. This index, excluding food and energy, increased at a 2.1% pace, in line with the Federal Reserve\\'s targets.', 'Washington is as turbulent as ever, buffeted by impeachment proceedings, the trade process, an interim government-spending bill, and the drug-pricing wrangle. On Wall Street, the S&P 500 is quietly grinding higher in small moves with few down days.', \"In a volatile period for stocks, we saw increased demand for information from our website, www.ArgusResearch.com.  The most-popular reports are the stock-based Argus Analyst Reports, followed by the daily reports Market Watch, Market Digest and Market Movers. The daily reports contain, in addition to stock picks, information about the latest market and economic trends as well as Argus' forecasts. The homepage of our website also features updates and outlooks.  Here are the stocks in Argus' fundamental coverage that clients viewed the most in the month of November.\", 'We have published our latest version of the Argus Millennial Generation portfolio. This new generation of consumers - the Millennials - has recently become the largest demographic cohort in the country, and this group, with new lifestyle preferences and different career goals, is demanding a new menu of sustainable products and services. The intersection of important Millennial trends - sustainability, healthier living, an entrepreneurial spirit - has resulted in the emergence and growth of numerous companies well suited to the new generation. Many of these companies are expected to be future industry leaders and are included in the dynamic Argus Universe of Coverage. A diversified portfolio, of course, is more than just a list of companies linked to themes. To build the Argus Millennial Generation Portfolio, we applied financial concepts such as industry diversification, income generation, risk reduction and growth at a reasonable price.', \"Apple manufactures Smartphones, tablets, PCs, software and peripherals for a worldwide customer base. Its products include Macintosh desktop and mobile PCs, iPhone, iPad, Apple Watch, and various consumer products, including AirPods, Beats headphones and Apple TV. Apple also owns and operates iTunes, the world's largest vendor of recorded music. Apple derives 42%-45% of its revenue from the Americas, 22%-25% from Europe/MEA, and 24%-30% from the Asia-Pacific region.\", \"The major indices are down at midday on Thursday on reports that China does not expect to finalize a full trade deal with the Trump administration. Fiat Chrysler (FCAU) announced a merger with French automaker Peugeot that will create the world's fourth-largest auto manufacturer. Industries doing well today include Food Products and Interactive Media & Services. Industries showing weakness include Personal Products, Machinery, and Trading Companies & Distributors. The VIX is up 1.03 to 13.36 after the previous close of 12.33. The Dow fell 0.7%, the S&P 0.6%, and the Nasdaq 0.4%. Crude oil traded near $54 per barrel, while gold rose $15 to $1511 per ounce.\", 'The Technology sector has led equity markets higher in 2019.  The sector has gained 30% this year, compared to 19% for the S&P 500. The Nasdaq Composite, comprised largely of Tech stocks, is about 1% below an all-time high. The sector is the largest in the U.S. market and now accounts for almost 22% of the S&P 500.  Over the long term, we expect the Tech sector to benefit from pervasive digitization across the economy, greater acceptance of transformative technologies, and the development of the Internet of Things (IoT). Healthy company and sector fundamentals are also positive. For individual companies, these include high cash levels, low debt, and broad international business exposure. We have an Over-Weight ranking on the Tech sector and think investors should look to allocate 22%-25% of their diversified portfolios to the group. Here is how we use our Tech sector ideas in our Focus List and Model Portfolios.', \"This is among our most-important themes for 2019, and stretches across industries. We think companies that raise their dividends consistently at a double-digit rate are sending off three important signals amid all the recent market volatility: 1) the company's balance sheet is strong enough to pay a dividend; 2) management is focused on providing shareholder returns; and 3) management is confident enough in the near-term outlook to raise the payout aggressively. This third factor is especially important as the economy cools off into 2020 and earnings growth slows. Here are 11 stocks that meet our double-digit dividend test and are on the Argus BUY List. They are also core holdings in our Dividend Growth Separately Managed Account and in the Dividend Growers Total Return Trust, a Unit Investment Trust sponsored by SmartTrust.\", 'U.S. equity markets were up on Wednesday morning following news that China was suspending additional tariffs on some American imports. The Labor Department reported that its producer price index rose 0.1% in August, following a 0.2% gain in July. The cost of services offset the largest fall in the price of goods in seven months. The Dow gained 0.3%, the S&P 0.3%, and the Nasdaq was up 0.7%. Crude oil traded near $58 per barrel, while gold rose $3 to $1502 per ounce.', \"Apple manufactures Smartphones, tablets, PCs, software and peripherals for a worldwide customer base. Its products include Macintosh desktop and mobile PCs, iPhone, iPad, Apple Watch, and various consumer products, including AirPods, Beats headphones and Apple TV. Apple also owns and operates iTunes, the world's largest vendor of recorded music. Apple derives 42%-45% of its revenue from the Americas, 22%-25% from Europe/MEA, and 24%-30% from the Asia-Pacific region.\", \"Apple manufactures Smartphones, tablets, PCs, software and peripherals for a worldwide customer base. Its products include Macintosh desktop and mobile PCs, iPhone, iPad, Apple Watch, and various consumer products, including AirPods, Beats headphones and Apple TV. Apple also owns and operates iTunes, the world's largest vendor of recorded music. Apple derives 42%-45% of its revenue from the Americas, 22%-25% from Europe/MEA, and 24%-30% from the Asia-Pacific region.\", 'Stocks edged higher on Wednesday morning as investors awaited a widely expected interest rate cut by the Federal Reserve, along with comments from Fed Chair Jerome Powell. On the earnings front, Apple shares rose more than 4% after the company posted better-than-expected fiscal 3Q results and provided positive sales guidance for fiscal 4Q. The Dow rose 0.1%, the S&P 0.1%, and the Nasdaq 0.3%. Crude oil rose slightly to about $58 per barrel, while gold fell $2 to $1440 per ounce.', \"The G20 summit in Osaka, Japan, ended on a positive note for investors, as President Trump and China's President Xi Jinping scaled back trade and tariff demands over the weekend.  President Trump said he would refrain from imposing additional tariffs on $300 billion worth of Chinese goods, and the U.S. also lifted the technology-transfer ban on companies that had been working with Chinese telcom company Huawei. The two countries are also continuing to renegotiate the tariffs already imposed.  The sectors that had borne the brunt of the trade wars included Information Technology and Industrials.  Here are five BUY-rated stocks that we think are poised to benefit from the cooling trade tensions.\", \"The U.S. Department of Commerce announced that its third estimate for 1Q19 GDP growth was a rate of 3.1%. This was in line with the previous estimates and the consensus outlook. There were positive trends in the economy, including capital investments into Intellectual Products (+12%), Structured (+4.3%), Exports (+5.4%) even Federal Government Spending (+2.8%, led by Defense spending, which rose at a 4.0% rate and State and Government spending, which rose at a 4.6% rate). Segments that lagged were Housing (-2.0%), capital investment into Equipment (-1.0%) and the all-important Personal Consumption Expenditures (up only 0.9%).  In short, the headline number looked positive, but some of the details were sketchy. We expect growth in the balance of 2019 to fall into the 2.0%-2.5% range, as trade and tariff concerns weigh on confidence. The GDP report also includes an inflation gauge, the PCE price index. This index, excluding food and energy, increased a paltry 0.5%. That alone may play into the Fed's plans for cutting rates.\", 'We are raising our intermediate-term outlook to bullish, which now aligns with our long-term outlook. All the major indices have finally recaptured their key 200-day moving averages, with the laggard Russell 2000 (RUT) just retaking this average on Tuesday. The average stock in the S&P 500 is now above its 50-day average (56%) for the first time since early May.', 'Sustainable Impact Investing is gaining traction with the global investment community. According to the Forum for Sustainable and Responsible Investment, global assets under management in the strategy have grown to $11.6 trillion in 2018 from $178 billion in 2005. The UN Principles for Responsible Investing now represents more than 1,750 signatories with assets of US $70 trillion, according to BMO Global Asset Management. As assets have flowed in over the past 40 years, Sustainable Impact Investing has evolved. The discipline, originally known as Socially Responsible Investing, focused at first on excluding companies that conducted business in South Africa, or participated in industries such as tobacco, alcohol and firearms. In time, the list of industries to avoid increased to include soft drinks, fast food, and oil and gas, among numerous others. Performance of these initial strategies lagged, and the approach subsequently has been modified. Now, instead of merely identifying industries to avoid, the discipline promotes \"sustainable\" business practices across all industries that can have an \"impact\" on global issues such as the climate, hunger, poverty, disease, shelter and workers\\' rights.', 'Rally On: Our Monthly Survey of the Economy, Interest Rates, and Markets', \"Apple manufactures Smartphones, tablets, PCs, software and peripherals for a worldwide customer base. Its products include Macintosh desktop and mobile PCs, iPhone, iPad, Apple Watch, and various consumer products, including AirPods, Beats headphones and Apple TV. Apple also owns and operates iTunes, the world's largest vendor of recorded music. Apple derives 42%-45% of its revenue from the Americas, 22%-25% from Europe/MEA, and 24%-30% from the Asia-Pacific region.\", 'Economic Data Continues to Send Mixed Signals', \"Apple manufactures Smartphones, tablets, PCs, software and peripherals for a worldwide customer base. Its products include Macintosh desktop and mobile PCs, iPhone, iPad, Apple Watch, and various consumer products, including AirPods, Beats headphones and Apple TV. Apple also owns and operates iTunes, the world's largest vendor of recorded music. Apple derives 42%-45% of its revenue from the Americas, 22%-25% from Europe/MEA, and 24%-30% from the Asia-Pacific region.\", 'A new generation of consumers - the Millennials - has become the largest demographic cohort in the', 'The U.S. Department of Commerce announced its \"third\" and final estimate for 4Q18 GDP growth was 2.2%. This is down 40 basis points compared to the \"initial\" estimate of 2.6% and, as we had anticipated, is a further signal that the economy is cooling off from the unsustainable growth rate of 4.2% in 2Q. There were positive trends in the economy, including capital investments into Intellectual Products (+10.7%), Equipment (+6.6%), the all-important Personal Consumer Spending category (+2.5%) and even Federal Government Spending (+1.1%, led by Defense spending, which rose at a 6.4% rate). Segments that lagged were Housing (-4.7%), once again, and State & Local Government Spending (-1.3%).  Exports rebounded from a sharp decline in 3Q that was attributed to tariff talks; but the strong dollar capped export growth at a below-trend 1.8%. The 4Q results benefited from tax cuts, which helped drive consumer spending. But that \"sugar high\" is now in the rear-view mirror. We expect growth in 1H19 in the 1.5%-2.0% range, reflecting disruption in the economy from the government shutdown.  The GDP report also includes an inflation gauge, the PCE price index.  This index, excluding food and energy, increased at a modest 1.8% pace. This report will not likely lead the Fed to alter its current stance.', \"Apple manufactures Smartphones, tablets, PCs, software and peripherals for a worldwide customer base. Its products include Macintosh desktop and mobile PCs, iPhone, iPad, Apple Watch, and various consumer products, including AirPods, Beats headphones and Apple TV. Apple also owns and operates iTunes, the world's largest vendor of recorded music. Apple derives 42%-45% of its revenue from the Americas, 22%-25% from Europe/MEA, and 24%-30% from the Asia-Pacific region.\", 'Stocks fell on Wednesday morning amid continued concerns about global growth, with all sectors moving lower. The U.S. trade deficit was narrower than expected. The Commerce Department said that the trade gap narrowed by 14.6% to $51.8 billion in January, reflecting higher exports of soybeans, motor vehicles and parts and lower imports. The Reuters consensus forecast had called for a smaller decline to $57.0 billion. The Dow fell 0.8%, the S&P 1.0%, and the Nasdaq 1.3%. Crude oil fell slightly to just under $60 per barrel, while gold fell $6 to $1309 per ounce.', \"Apple manufactures Smartphones, tablets, PCs, software and peripherals for a worldwide customer base. Its products include Macintosh desktop and mobile PCs, iPhone, iPad, Apple Watch, and various consumer products, including AirPods, Beats headphones and Apple TV. Apple also owns and operates iTunes, the world's largest vendor of recorded music. Apple derives 42%-45% of its revenue from the Americas, 22%-25% from Europe/MEA, and 24%-30% from the Asia-Pacific region.\", 'Stocks fell sharply on Thursday morning, led by the Basic Materials and Financial sectors, as concerns about a slowing global economy led the European Central Bank to announce new stimulus measures. The ECB cut its global growth and inflation targets and also said that it would delay any interest rate hikes until at least 2020. The Dow fell 1.0%, the S&P 1.2%, and the Nasdaq 1.1%. Crude oil rose slightly to about $56 per barrel, while gold fell $1.50 to $1286 per ounce.', \"Apple manufactures Smartphones, tablets, PCs, software and peripherals for a worldwide customer base. Its products include Macintosh desktop and mobile PCs, iPhone, iPad, Apple Watch, and various consumer products, including AirPods, Beats headphones and Apple TV. Apple also owns and operates iTunes, the world's largest vendor of recorded music. Apple derives 42%-45% of its revenue from the Americas, 22%-25% from Europe/MEA, and 24%-30% from Asia-Pacific.\", \"The major indices are up at midday on Wednesday. FAANG stocks are some of the early-session leaders, trading up in sympathy with Apple after yesterday's well-received earnings call, and ahead of earnings from Microsoft and Facebook this afternoon. With no rate change expected at today's Federal Reserve meeting, investors will be looking for hints of what the future may hold when Fed Chair Jerome Powell speaks with the media. Industries doing well today include Technology Hardware, Storage & Peripherals, Internet & Direct Marketing Retail, and Health Care Providers & Services. Industries showing weakness include Diversified Telecommunication Services, Media, and Biotechnology. The VIX is down 0.01 to 19.12 after the previous close of 19.13. The Dow rose 1.5%, the S&P 1.0%, and the Nasdaq 1.3%. Crude oil rose nearly 3% to about $55 per barrel, while gold rose slightly to trade near $1316 per ounce.\", 'Stocks plunged on Thursday morning following reduced revenue guidance from Apple, which cited slower demand for iPhones, and disappointing manufacturing data. The Institute for Supply Management said that its manufacturing index fell to 54.1 in December, below the Reuters consensus forecast of 57.9 and down sharply from November. The Dow fell 2.5%, the S&P 2.0%, and the Nasdaq 2.2%. Crude oil fell 1% to about $46 per barrel, while gold rose $8 to $1292 per ounce.', \"Apple manufactures Smartphones, tablets, PCs, software and peripherals for a worldwide customer base. Its products include Macintosh desktop and mobile PCs, iPhone, iPad, Apple Watch, and various consumer products, including AirPods, Beats headphones and Apple TV. Apple also owns and operates iTunes, the world's largest vendor of recorded music. Apple derives 42%-45% of its revenue from the Americas, 22%-25% from Europe/MEA, and 24%-30% from Asia-Pacific.\", 'The U.S. Department of Commerce announced that its third and final estimate for 3Q18 GDP growth was a strong rate of 3.4%. This was down 10 basis points compared to the previous estimate and, as we had anticipated, was lower than the impressive-but-unsustainable rate of 4.2% in 2Q.  Even so, growth was broad-based, including capital investments into Intellectual Products (+5.6%), Equipment (+3.4%), the all-important Personal Consumer Spending category (+3.5%) and even Federal Government Spending (+3.5%, led by Defense spending).  The segments that lagged were Housing (-3.6%), once again, and Exports (-4.9% and reflecting tariff turmoil as well as a strong dollar). The 3Q results benefited from the Trump tax cuts, which helped drive consumer spending. But the tax-cut \"sugar high\" will be winding down after one more quarter. We expect growth in 4Q in the 3% range, but look for a further slowdown into 2019-2020 as housing and exports continue to weigh. As the slowdown progresses, we anticipate that the Federal Reserve will slow down its pace of interest-rate hikes.', 'Stocks rallied on Wednesday, led by the Technology and Consumer Discretionary sectors, after Fed Chair Jerome Powell lowered concerns about aggressive interest rate hikes next year. Meanwhile, the Commerce Department said that the U.S. economy grew at a 3.5% annualized rate in the third quarter, unchanged from its prior estimate but down from 4.2% growth in 2Q. The Dow rose 1.9%, the S&P 1.6%, and the Nasdaq 1.9%. Crude oil rose slightly to about $52 per barrel, while gold traded near $1223 per ounce.', \"Apple manufactures PCs, MP3 players, smartphones, tablet computers, software and peripherals for a worldwide customer base. Its products include the Macintosh line of desktop and mobile PCs, the iPod MP3 line, the iPhone, the iPad, and various consumer products, including Apple TV. Apple also owns and operates iTunes, the world's largest vendor of recorded music. Apple derives 40%-45% of its revenue from the Americas, 20%-25% from Europe/MEA, 12%-16% from Asia-Pacific, and 15%-18% from its own retail stores.\", 'The FAANG Stocks - Facebook, Apple, Amazon, Netflix and Google - had been leading the broad market higher over the past two years. And, in the past month, these five Wall Street darlings have led the broad market into correction territory. In August, Apple crossed the trillion-dollar market cap line, and Amazon followed in October. Now, in late November, these five stocks have lost over $1 trillion in market cap collectively. Here are our views on the near-term status of these stocks.', \"Apple manufactures PCs, MP3 players, smartphones, tablet computers, software and peripherals for a worldwide customer base. Its products include the Macintosh line of desktop and mobile PCs, the iPod MP3 line, the iPhone, the iPad, and various consumer products, including Apple TV. Apple also owns and operates iTunes, the world's largest vendor of recorded music. Apple derives 40%-45% of its revenue from the Americas, 20%-25% from Europe/MEA, 12%-16% from Asia-Pacific, and 15%-18% from its own retail stores.\", 'Stocks fell on Friday morning following the October employment report, as strong wage growth raised the likelihood of a Fed interest rate hike in December. The Labor Department said that the U.S. economy added 250,000 payroll jobs last month, up from a revised 118,000 in September and above the Reuters consensus forecast of 190,000. The official unemployment rate held steady at 3.7%, while average hourly wages rose 3.1% from the prior year. The S&P fell 0.9%, the Dow 0.7%, and the Nasdaq 1.3%. Crude oil traded near $63 per barrel, while gold fell $7 to $1232 per ounce.', 'With the stock market racing to new highs earlier this year, most mainstream investors were either looking to get aboard or stay aboard the galloping bull. As the market was lifted higher by the FAANG stocks, many investors likely became over-allocated to a couple of high risk-reward sectors. Even while riding the rally � and the recent ups and downs � some investors are considering end-of-rally strategies. Minimum volatility, or �Min Vol,� often falls into that defensive category.', 'Sustainable Impact Investing, or ESG investing, is gaining traction not only with Argus Research clients but also with the global investment community. BlackRock CEO Lawrence Fink, who oversees approximately $9 trillion in assets, announced in January 2020 that his firm would be investing in companies that are making progress on sustainability. He doubled down in his January 2021 letter, calling on company managements to disclose their plans for making their businesses \"compatible with a net-zero economy\" by 2050. As assets have flowed in over the past 40 years, Sustainable Impact Investing has evolved. The discipline, originally known as Socially Responsible Investing, focused at first on excluding companies that conducted business in South Africa, or participated in industries such as tobacco, alcohol, and firearms. Performance of these initial strategies lagged, and the approach has been modified. Now, instead of merely identifying industries to avoid, the discipline promotes \"sustainable\" business practices across all industries that can have an \"impact\" on global issues such as climate, hunger, poverty, disease, shelter, and workers\\' rights.', 'Apple manufactures smartphones, tablets, P6Cs, software and peripherals for a worldwide customer base. Its products include Mac desktop and mobile PCs, iPhone, iPad, Apple Watch, and various consumer products, including AirPods, Beats headphones and Apple TV. Apple services include App Store, iTunes, iCloud, Apple TV+, Apple Arcade, Apple Music, Apple Pay, and more.', 'Stocks have struggled in 2022, in particular over the past two weeks. In response, several insider-sentiment readings from Vickers Stock Research are now positive -- suggesting that insiders are using the current dip as an opportunity to buy stocks at seemingly reduced prices. ', \"Innovation may be hard to define. But to borrow from former U.S. Supreme Court Justice Potter Stewart, you know it when you see it. The United States economy is full of innovation. It has to be. Manufacturing industries that dominated the economy decades ago - textiles, televisions, even automobiles to a large degree - have moved overseas, where costs are lower. Yet the U.S. economy, even during the pandemic, has expanded to record levels. If U.S. corporations weren't innovating, creating new products (such as vaccines) and services and moving into new markets and applications, the domestic economy would not be growing, and capital would not be flooding into the country. Consider that U.S. GDP was approximately $1 trillion in 1930 but was more than $24 trillion at the end of 2021. That's growth of 24-times. Meanwhile, the U.S. population has grown less than three-times during that time span, to 320 million from 120 million. The delta between GDP growth and population growth has been driven, in large part, by innovation.\", 'This morning, the U.S. Department of Commerce announced that its \"third\" estimate for the rate of growth in 4Q21 GDP was 6.9%. This was slightly below the previous estimates but in line with the consensus outlook. In our estimation, this will be the last time for a long time that the country experiences GDP growth in the 7.0% range. The 4Q period was post-Delta and pre-Omicron. In addition, since the end of the fourth quarter, Russia has invaded Ukraine and the Federal Reserve has started to raise short-term interest rates. These factors, as well as the inevitable emergence of new COVID strains, are likely to send GDP growth back down to the pre-pandemic level of 2.0%-3.0%. The GDP report also includes an inflation gauge, the PCE price index. This index, excluding food and energy, rose at a 5.0% pace, well ahead the Federal Reserve\\'s inflation target of 2.0% and above the 4.6% rate recorded in 3Q21. Looking ahead, our forecast for 2022 GDP growth is now 3.1%, compared to our estimate for 2021 GDP growth of 5.6%.', 'Apple manufactures smartphones, tablets, P6Cs, software and peripherals for a worldwide customer base. Its products include Mac desktop and mobile PCs, iPhone, iPad, Apple Watch, and various consumer products, including AirPods, Beats headphones and Apple TV. Apple services include App Store, iTunes, iCloud, Apple TV+, Apple Arcade, Apple Music, Apple Pay, and more.', 'Stocks finished lower on Thursday amid continued concerns about the war in Ukraine and surging consumer prices. The Labor Department said that its consumer price index rose 7.9% year-over-year in February, up from 7.5% in January and the fastest increase in 40 years. On the employment front, first-time claims for state unemployment benefits rose by 11,000 to 227,000 for the week ended March 5 and topped the consensus forecast. The Dow fell 0.34%, the S&P 0.43%, and the Nasdaq 0.95%. Crude oil traded near $106 per barrel, while gold rose $12 to $2001 per ounce.', 'Apple manufactures smartphones, tablets, P6Cs, software and peripherals for a worldwide customer base. Its products include Mac desktop and mobile PCs, iPhone, iPad, Apple Watch, and various consumer products, including AirPods, Beats headphones and Apple TV. Apple services include App Store, iTunes, iCloud, Apple TV+, Apple Arcade, Apple Music, Apple Pay, and more.', 'Stocks rose strongly on Friday morning, led by the Technology and Communication Services sectors, after recovering from sharp early losses. But there were more signs of accelerating inflation. The Commerce Department said that its personal consumption expenditures index rose 5.8% from the prior year in December, up from 5.7% growth in November and in line with the Bloomberg consensus forecast. The Dow rose 0.5%, the S&P 1.2%, and the Nasdaq 2.0%. Crude oil rose more than 1% to $88 per barrel, while gold traded near $1786 per ounce.', 'The U.S. Department of Commerce announced that its \"third\" estimate for 3Q21 GDP growth was a rate of 2.3%. This was slightly above the previous estimates but in line with the consensus outlook. The growth rate, while positive, was more than 400 basis points below the 1H21 average of 6.5%, due to the emergence of the Delta variant of COVID-19. (The Omicron variant is also likely to have a negative impact on GDP in 2022, but we don\\'t anticipate the impact will be as severe.) The GDP report also includes an inflation gauge, the PCE price index. This index, excluding food and energy, rose at a 4.6% pace, well ahead the Federal Reserve\\'s inflation target of 2.0%, but down from the 6.1% rate recorded in 2Q21. Looking ahead, we expect above-trend GDP growth for the next few quarters. But there may be bumps along the way, including the impact of the Omicron variant on jobs and consumer spending on services, as well as supply-chain bottlenecks. Our forecast for 2022 GDP growth is 3.7%, compared to our estimate for 2021 GDP growth of 5.5%.', 'Sustainable Impact Investing is gaining traction with the global investment community. In January 2020, BlackRock CEO Lawrence Fink, who oversees approximately $9 trillion in assets, announced that his firm would be investing in companies that are making progress on sustainability. He doubled down in his January 2021 letter, calling on company managements to disclose their plans for making their businesses \"compatible with a net-zero economy\" by 2050. As assets have flowed in over the past 40 years, Sustainable Impact Investing has evolved. The discipline, originally known as Socially Responsible Investing, focused at first on excluding companies that conducted business in South Africa, or participated in industries such as tobacco, alcohol, and firearms. But the performance of these initial strategies lagged, and the approach has been modified. Now, instead of merely identifying industries to avoid, the discipline promotes \"sustainable\" business practices across all industries that can have an \"impact\" on global issues such as the climate, hunger, poverty, disease, shelter, and workers\\' rights.', 'Apple manufactures smartphones, tablets, P6Cs, software and peripherals for a worldwide customer base. Its products include Mac desktop and mobile PCs, iPhone, iPad, Apple Watch, and various consumer products, including AirPods, Beats headphones and Apple TV. Apple services include App Store, iTunes, iCloud, Apple TV+, Apple Arcade, Apple Music, Apple Pay, and more.', 'Stocks rose strongly on Thursday as investors weighed new GDP and employment data along with 3Q earnings reports from a range of major companies. The Commerce Department said that 3Q GDP rose just 2.0%, down from 6.7% in 2Q and below the Reuters consensus of 2.7%. First-time unemployment claims fell to a new pandemic-era low of 281,000, down from 291,000 a week earlier and below the consensus forecast of 288,000. Continuing claims dropped to 2.243 million from 2.480 million a week earlier, and were also below consensus. The Dow rose 0.68%, the S&P 0.98%, and the Nasdaq 1.39%. Crude oil rose to $83 per barrel, while gold rose slightly to $1800 per ounce.', \"The United States economy is full of innovation. It has to be. Manufacturing industries that dominated the economy decades ago - textiles, televisions, even automobiles to a large degree - have moved overseas, where costs are lower. Yet the U.S. economy, even during the pandemic, has expanded to record levels. If U.S. corporations weren't innovating, the domestic economy would not be growing and capital would not be flooding into the country. Consider that U.S. GDP was approximately $1 trillion in 1930 but nearly $23 trillion at the end of 1H21. That's growth of 23-times. Meanwhile, the U.S. population has grown less than three-times during that time span, to 320 million from 120 million. The delta between GDP growth and population growth has been driven, in large part, by innovation. In addition, the value of listed corporations on U.S. stock exchanges at the end of 2020 was approximately $41 trillion, according to SIFMA, representing 38% of global equity market capitalization, while U.S. GDP represented only 26% of global GDP. The current low level of interest rates and the relatively high level of the dollar both attest to the confidence that global investors have in the innovative U.S. economy.\", 'Apple manufactures smartphones, tablets, P6Cs, software and peripherals for a worldwide customer base. Its products include Mac desktop and mobile PCs, iPhone, iPad, Apple Watch, and various consumer products, including AirPods, Beats headphones and Apple TV. Apple services include App Store, iTunes, iCloud, Apple TV+, Apple Arcade, Apple Music, Apple Pay, and more.', 'Earnings season has started -- and in the micro-burst that was last week, positive bank earnings (and a pandemic-low jobless-claims report) left the DJIA up 1.58%, the S&P 500 up 1.82%, and the Nasdaq Composite up 2.18%. Indeed, investors seem to be in a pretty-good mood as they survey third-quarter earnings and the fourth-quarter landscape. So how about corporate insiders?', 'October is off to a rocky start, although the market eked out a win last week. Investors took the disappointing jobs number as well as could be expected. While the absolute number of jobs gained was well under expectations, some economists believe the seasonal adjustment (related to limited return to classrooms in fall 2020) may have skewed the data, and that without adjustments the job tally would have been higher.', \"The U.S. Department of Commerce announced that its third estimate for 2Q21 GDP growth was a rate of 6.7%. This was in line with the previous estimates and with the consensus outlook, and represents a robust recovery. The GDP report also includes an inflation gauge, the PCE price index.  This index, excluding food and energy, rose at a 6.1% pace, well ahead the Federal Reserve's inflation target of 2.0%, though the Fed has said that it will allow inflation to run hot for a while before raising short-term interest rates. Looking ahead, we expect above-trend GDP growth for the next few quarters. But there may be bumps along the way, including the impact of the delta variant on jobs and consumer spending on services, as well as supply-chain bottlenecks. Speaking of the employment environment, unemployment claims rose last week to 362,000, according to the Labor Department. This was the third consecutive week of rising claims. The four-week average of continued claims (the chronically unemployed) was 2.8 million, flat week-to-week and down from the pandemic highs of more than 20 million in May 2020 (but still substantially higher than the 1.7 million reading in February 2020, before the pandemic struck).\", 'Apple manufactures smartphones, tablets, PCs, software and peripherals for a worldwide customer base. Its products include Mac desktop and mobile PCs, iPhone, iPad, Apple Watch, and various consumer products, including AirPods, Beats headphones and Apple TV. Apple services include App Store, iTunes, iCloud, Apple TV+, Apple Arcade, Apple Music, Apple Pay, and more.', 'In the trading week ended September 10, the stock market did what it often does in September -- which is head lower. The S&P 500 fell 1.69% and the Nasdaq Composite declined 1.61%. The DJIA fared the worst, declining 2.15%, weighed down by Boeing. ', \"The Technology sector started slowly in 2021 as investors focused on value stocks. But the sector has come on strong in recent months (up 22% year-to-date) and now is outperforming the market (up 20.7%) as well as value sectors such as Consumer Staples (+8%), Utilities (+10%), Materials (+17%), and Industrials (+18%). The sector is the largest in the U.S. market and now accounts for more than 28% of the S&P 500. Over the long term, we expect the sector to benefit from pervasive digitization across the economy, greater acceptance of transformative technologies, and the development of the Internet of Things (IoT). Healthy company and sector fundamentals are also positive. For individual companies, these include high cash levels, low debt, and broad international business exposure. We have an Over-Weight ranking on the Tech sector and think investors should look to allocate up to 30% of their diversified portfolios to the group.  Here is how we use our analysts' Tech sector ideas in our Focus List and Model Portfolios.\", 'A lot of attention these days is being given to the fact that the mega-cap S&P 500, Nasdaq Composite, and Nasdaq 100 (QQQ) are printing all-time highs almost on a daily basis. Yet slowly but surely, there is some clearing of the clouds for mid-cap and small-cap stocks. While we need more confirmation (and a couple of weeks of relative strength versus the \"500\" is certainly not enough), there is a glimmer of sunshine through the stormy clouds.', \"July's stock-market performance was positive and had a bit of everything, as the wacky year continues. Large-cap stocks did well, but small-caps did not as the recovery trade continued to lose momentum. Sector strength was tilted toward low-beta defensive stocks, yet Technology also saw nice gains. Talk about a dichotomy!\", 'Apple manufactures smartphones, tablets, PCs, software and peripherals for a worldwide customer base. Its products include Mac desktop and mobile PCs, iPhone, iPad, Apple Watch, and various consumer products, including AirPods, Beats headphones and Apple TV. Apple services include App Store, iTunes, iCloud, Apple TV+, Apple Arcade, Apple Music, Apple Pay, and more.', \"Stocks were mixed on Wednesday morning as investors weighed earnings reports from Alphabet, Apple, and Microsoft, and awaited the Fed's policy statement and comments from Fed Chair Jerome Powell this afternoon. Investors will be closely scrutinizing Mr. Powell's comments regarding the state of the economy, the impact of the Delta variant, and the timing of any reduction in the central bank's bond buying program. The Dow fell 0.1%, the S&P rose 0.1%, and the Nasdaq rose 0.7%. Crude oil traded near $72 per barrel, while gold fell $3 to $1797 per ounce.\", \"The U.S. Department of Commerce last week announced that its third estimate for 1Q20 GDP growth was a rate of 6.4%. This was in line with the previous estimates and with the consensus outlook, and represents a robust recovery. The report also includes an inflation gauge, the PCE price index. This index, excluding food and energy, rose at a 2.5% pace, well ahead the Federal Reserve's inflation target of 2.0%, though the Fed has said that it will allow inflation to run hot for a while before raising short-term interest rates. We expect above-trend GDP growth for the next few quarters. But there may be bumps along the way. Some segments of the economy are back to or above pre-pandemic highs. These include consumer spending on durable and nondurable goods as well as investment into residential and intellectual property products. Other segments continue to lag, such as consumer spending on services, investment into structures, and exports.\", \"In our Wednesday comment, we noted that we don't often try to predict what the U.S. Dollar Index (USD) will do. We also mentioned that the direction of the USD was very important to the euro and to metals. The Fed proved that point on Wednesday, with results that ran into Thursday.\", 'Apple manufactures smartphones, tablets, PCs, software and peripherals for a worldwide customer base. Its products include Mac desktop and mobile PCs, iPhone, iPad, Apple Watch, and various consumer products, including AirPods, Beats headphones and Apple TV. Apple services include App Store, iTunes, iCloud, Apple TV+, Apple Arcade, Apple Music, Apple Pay, and more.', \"Stocks rose on Thursday as investors looked past more signs of inflation in the government's May consumer price data. The Labor Department said that the CPI rose 5.0% year-over-year in May, up from 4.2% in April. The reading was above the Reuters consensus forecast of 4.7% and the sharpest annual increase since 2008. The core CPI, excluding food and energy, also rose 3.8% from the prior year. On the employment front, first-time jobless claims fell to a new pandemic era low of 376,000, down from the prior week but slightly above consensus. Continuing claims fell to 3.499 million, down from 3.757 million a week earlier and below the consensus forecast of 3.665 million. The Dow rose 0.06%, the S&P 0.47%, and the Nasdaq 0.78%. Crude oil rose slightly to $70 per barrel, while gold fell $6 to $1901 per ounce.\", 'Sustainable Impact investing continues to grow. According to Opimas, a management consultancy focused on global capital markets, global assets under management in ESG strategies grew to $40.5 trillion in 2020, doubling in four years and tripling in eight. As assets have flowed in, SRI investing has evolved over the past 40 years. Now, instead of merely identifying industries to avoid, the discipline promotes \"sustainable\" business practices across all businesses that can have an \"impact\" on global issues such as workers\\' rights, poverty, hunger, and the climate. Based on numerous requests from clients, we have compiled a portfolio of companies followed by Argus Research that are in position to have this type of \"sustainable impact\" on the environment, workplace, and community. These firms have exemplary records not only in delivering on the bottom line, but also in improving the environment, contributing to community relations, and showing respect for their employees. We built our portfolio by identifying companies that are BUY-rated by Argus analysts and also score well on ESG (Environmental, Social and Governance) criteria established by the JUST Capital Foundation. JUST Capital utilizes a combination of polling, data-driven research, and strategic engagement to shift behaviors and activities in corporate America and the financial markets. JUST Capital\\'s mission is to drive measurable corporate change to create a stakeholder-centric, inclusive form of capitalism that reflects the priorities of the American public.  JUST ranks the Russell 1000 on these criteria against a scale of 1-100. Here are company highlights from the Argus U.S. ESG Model Portfolio.', \"Stocks rose modestly on Thursday morning, but gave up strong early gains amid a range of first-quarter earnings reports and new GDP and employment data. Investors also weighed President Biden's ambitious plans for new spending on families and education. The Commerce Department said that the U.S. economy expanded at a 6.4% annualized rate in the first quarter, above the Reuters consensus forecast of 6.1% and up from 4.3% growth in the fourth quarter. The Dow rose 0.1%, the S&P 0.3%, and the Nasdaq 0.1%. Crude oil rose 1.5% to $65 per barrel, while gold traded near $1768 per ounce.\", 'Apple manufactures smartphones, tablets, PCs, software and peripherals for a worldwide customer base. Its products include Mac desktop and mobile PCs, iPhone, iPad, Apple Watch, and various consumer products, including AirPods, Beats headphones and Apple TV. Apple services include App Store, iTunes, iCloud, Apple TV+, Apple Arcade, Apple Music, Apple Pay, and more.', 'Sustainable Impact Investing is gaining traction with the global investment community. In January 2020, BlackRock CEO Lawrence Fink, who oversees approximately $9 trillion in assets, announced that his firm would be investing in companies that are making progress on sustainability. He doubled down in his January 2021 letter, calling on company managements to disclose their plans for making their businesses \"compatible with a net-zero economy\" by 2050. As assets have flowed in over the past 40 years, Sustainable Impact Investing has evolved. The discipline, originally known as Socially Responsible Investing, focused at first on excluding companies that conducted business in South Africa, or participated in industries such as tobacco, alcohol, and firearms. But the performance of these initial strategies lagged, and the approach has been modified. Now, instead of merely identifying industries to avoid, the discipline promotes \"sustainable\" business practices across all industries that can have an \"impact\" on global issues such as the climate, hunger, poverty, disease, shelter, and workers\\' rights.', 'The U.S. Department of Commerce announced that its \"third\" estimate for 2Q20 GDP growth was a rate of 4.3%. This represents a return to more-normal GDP results after 30% swings down and up in 2Q20 and 3Q20. The report also includes an inflation gauge, the PCE price index.  This index, excluding food and energy, rose at a 1.3% pace, well below the Federal Reserve\\'s inflation target of 2.0%. Although the economy has expanded for two quarters in a row, the National Bureau of Economic Research has not yet declared that the recession is over. At $21.49 trillion, the U.S. economy at the end of 4Q was still below its pre-pandemic highs of $21.75 trillion. Some segments of the economy are back to or above pre-pandemic highs. These segments include consumer spending on durable and nondurable goods, and investment into residential and intellectual property products. Other segments continue to lag, such as exports, consumer spending on services, and investment into structures. We anticipate a pick-up in economic growth in 2021, due in part to aggressive government spending.', \"The United States economy is full of innovation. It has to be. Manufacturing industries that dominated the economy decades ago - textiles, televisions, even automobiles, to a large degree - have moved overseas, where costs are lower. Yet the U.S. economy, prior to the pandemic, had expanded to record levels. And now, the U.S. Healthcare industry is mobilizing to improve COVID-19 testing, treatments and vaccines. Consider that U.S. GDP was approximately $1 trillion in 1930 but nearly $22 trillion at the end of 2019. That's growth of 22-times. Meanwhile, the U.S. population has grown less than 3-times during that time span, to 320 million from 120 million. The delta between GDP growth and population growth has been driven in large part by innovation. In addition, the value of listed corporations on U.S. stock exchanges at the end of 2020 was approximately $32 trillion, representing 41% of global equity market capitalization, while U.S. GDP represented only 25% of global GDP. The current low level of interest rates (the benchmark 10-year Treasury bond yield is 1.1%) and the relatively high level of the dollar both attest to the confidence that global investors have in the innovative U.S. economy.\", 'There are now more than 80 million Millennials, born between 1982 and 2000 and ranging in age from their early 20s to their late-30s. This generation is the largest in history - bigger than even the Baby Boomers. Yet despite their size, and according to our research, Millennials currently account for 25% of total U.S income - some $3.1 trillion in direct annual purchasing power. Millennials are already coveted by marketers, even though their annual average income is 40% below the spending levels of the generation ahead of them (Gen X) and 30% below the spending levels of Baby Boomers, who are slowing down. But as Millennials rise into their peak earning years, their earnings are expected to grow.', 'Apple manufactures smartphones, tablets, PCs, software and peripherals for a worldwide customer base. Its products include Mac desktop and mobile PCs, iPhone, iPad, Apple Watch, and various consumer products, including AirPods, Beats headphones and Apple TV. Apple services include App Store, iTunes, iCloud, Apple TV+, Apple Arcade, Apple Music, Apple Pay, and more.', \"Stocks rallied on Thursday morning, recovering from Wednesday's selloff, amid lower-than-expected jobless claims. The Labor Department reported that first-time claims for state unemployment benefits fell to 847,000 for the week ended January 23, down from a revised 914,000 a week earlier and below the Bloomberg consensus forecast of 875,000. The Dow rose 1.8%, the S&P 1.6%, and the Nasdaq 0.9%. Crude oil rose to $53 per barrel, while gold traded near $1866 per ounce.\", 'Major technology indices peaked in early September, consolidated for a couple of months, and then broke out to all-time highs (ATHs) and never looked back. But FAANG stocks went nowhere over that more-than four-month period.', 'The U.S. Department of Commerce announced that its \"third\" estimate for the 3Q20 GDP rate of growth was 33.4%. This was in line with the previous estimates and with the consensus outlook, and represented a sharp spike higher from the 31.4% plunge in 2Q. The GDP report also includes an inflation gauge, the PCE price index. This index, excluding food and energy, rose at a 3.4% pace, well ahead the Federal Reserve\\'s inflation target of 2.0% (though the Fed has said it will allow inflation to run hot for a while before raising short-term interest rates). After this reading, we expect that GDP reports going forward should settle into a low- to mid-single-digits rate. But there is still work to be done. At $21.2 trillion, the U.S. economy at the end of 3Q was almost 3% below its pre-pandemic highs. Some segments of the economy are back to or above pre-pandemic highs. These segments consumer spending on durable and nondurable goods, and investment into residential and intellectual property products. Other segments continue to lag, such as consumer spending on services and investment into equipment.', 'Smaller stocks had another good day on Tuesday, with the Russell 2000 (IWM) jumping 2.5% and the S&P 600 Small Cap (SML) vaulting 2.6%. The S&P 400 Mid Caps also provided leadership once again, popping 2.4%.', 'The Technology sector has led the market recovery from the COVID-19 depths of March 2020. Through November 20, the sector was up 31% for the year, compared to a 10% gain for the S&P 500. The Tech sector is the largest in the U.S. market and now accounts for more than 27% of the S&P 500. Over the long term, we expect the Tech sector to benefit from pervasive digitization across the economy, greater acceptance of transformative technologies, and the development of the Internet of Things (IoT): Healthy company and sector fundamentals are also positive. For individual companies, these include high cash levels, low debt, and broad international business exposure. We have an Over-Weight ranking on the Tech sector and think investors should look to allocate up to 30% of their diversified portfolios to the group. Here is how we use our Tech sector ideas from our analysts in our Focus List and Model Portfolios.', 'It has been a November to remember, so far. Since the October 30 close, the S&P 500 has advanced 9.3% in just a handful of trading days. That can often be a harbinger of better days to come in the market -- particularly when short and furious rallies occur in the final quarter.', 'Sustainable Impact Investing is gaining traction not only with Argus Research clients, but also with the global investment community. In January, BlackRock CEO Lawrence Fink, who oversees approximately $7 trillion in assets, announced that his firm would be investing in companies that are making progress on sustainability. Mr. Fink\\'s new focus follows rapid growth in sustainable assets in recent years. According to Opimas, a management consultancy focused on global capital markets, global assets under management in ESG strategies had grown to $40.5 trillion in 2020, doubling in four years and tripling in eight years. There were almost 400 ESG strategies launched in the Morningstar investment universe in 2019, compared with around 160 launches in 2016.  The UN Principles for Responsible Investing -- to which Argus Research is a signatory -- now represents more than 1,750 signatories with assets of US $80 trillion, according to Barron\\'s. As assets have flowed in, SRI investing has evolved over the past 40 years.  Now, instead of merely identifying industries to avoid, the discipline promotes \"sustainable\" business practices across all businesses that can have an \"impact\" on global issues such as workers\\' rights, poverty, hunger and the climate. Based on numerous requests from clients, we have compiled a list of companies followed by Argus Research that are in position to have this type of \"sustainable impact\" on the environment, workplace and community.  These firms have exemplary records not only in delivering on the bottom line, but also in improving the environment, contributing to community relations, and showing respect for their employees. We derived our list by identifying companies that are either BUY-rated or HOLD-rated by Argus analysts, and also score highly on ESG (Environmental, Social and Governance) criteria established by the JUST Capital Foundation. JUST Capital utilizes a combination of polling, data-driven research, and strategic engagement to shift behaviors and activities in corporate America and the financial markets. JUST Capital\\'s mission is to drive measurable corporate change to create a stakeholder-centric, inclusive form of capitalism that reflects the priorities of the American public.  JUST ranks the Russell 1000 on these criteria against a scale of 1-100. Here are the companies in the Argus Universe that score highest on the scale.  All are rated BUY at Argus.', 'Apple manufactures Smartphones, tablets, PCs, software and peripherals for a worldwide customer base. Its products include Mac desktop and mobile PCs, iPhone, iPad, Apple Watch, and various consumer products, including AirPods, Beats headphones and Apple TV. Apple services include App Store, iTunes, iCloud, Apple TV+, Apple Arcade, Apple Music, Apple Pay, and more.', 'Stocks fell sharply on Friday morning, led by selloffs in the Technology and Consumer Discretionary sectors. Apple shares fell 5%, despite above-consensus earnings, on concerns about weak iPhone sales and declining revenue in China. The company also declined to provide guidance for the current fiscal first quarter. Amazon also posted strong 3Q results but provided disappointing 4Q earnings guidance, sending the shares down about 4%. The Dow fell 1.5%, the S&P 1.8%, and the Nasdaq 2.7%. Crude oil fell to $35.50 per barrel, while gold rose $12 to $1880 per ounce.', 'Apple manufactures Smartphones, tablets, PCs, software and peripherals for a worldwide customer base. Its products include Mac desktop and mobile PCs, iPhone, iPad, Apple Watch, and various consumer products, including AirPods, Beats headphones and Apple TV. Apple services include App Store, iTunes, iCloud, Apple TV+, Apple Arcade, Apple Music, Apple Pay, and more.', 'The stock market closed on October 9 with a winning session, ending its best week in three months. With a close at 3,477, the S&P 500 pulled within 3% of its all-time high of 3,588 from 9/2/20, and the index moved higher still on October 12. The September sell-off -- which resulted in a near-correction (defined as down 10%) for the broad market and full corrections for leading Technology names -- cleared away some (only some) of the excessive optimism. It also partly (only partly) restored some sector balance; two of the best sectors in 4Q20-to-date have been out of favor all year.', 'Apple manufactures Smartphones, tablets, PCs, software and peripherals for a worldwide customer base. Its products include Mac desktop and mobile PCs, iPhone, iPad, Apple Watch, and various consumer products, including AirPods, Beats headphones and Apple TV. Apple services include App Store, iTunes, iCloud, Apple TV+, Apple Arcade, Apple Music, Apple Pay, and more.', 'The stock market closed on October 9 with a winning session, ending its best week in three months. With a close at 3,477, the S&P 500 pulled within 3% of its all-time high of 3,588 from 9/2/20, and the index moved higher still on October 12. The September sell-off -- which resulted in a near-correction (defined as down 10%) for the broad market and full corrections for leading Technology names -- cleared away some (only some) of the excessive optimism. It also partly (only partly) restored some sector balance; two of the best sectors in 4Q20-to-date have been out of favor all year.', 'The U.S. Department of Commerce announced that its \"third\" estimate for 2Q20 GDP growth was a rate of -31.4%. This was in line with the previous estimates and with the consensus outlook. The GDP report also includes an inflation gauge, the PCE price index. This index, excluding food and energy, decreased at a deflationary 0.8% pace, well below the Federal Reserve\\'s inflation target of 2.0%. This second quarter should be the bottom, and GDP reports going forward should signal recovery and ultimately growth. But there\\'s a deep hole out of which the economy must climb. Personal Consumption Expenditures, which are the core of the economy, declined at a 33% rate in the quarter, including a 42% drop in spending on services. Domestic investment fell at a 47% rate, including 36% declines in both residential investment and investment into industrial equipment.  (Even investment into Intellectual Products, such as software and entertainment declined 11%.)  The one growth area was federal government spending, which rose at a 16% rate. That support may be fleeting if Congress is unable to reach another bipartisan rescue package.', \"Often overlooked amid the market's gyrations, dividend income is an important element of total return. Consider recent results: in 2015, the S&P 500 delivered a total return of 1.4%, including dividends -- but excluding dividends, the market was down 0.7%. Capital gains were a bit easier to achieve in 2016-17, though we note that dividend payments still contributed about 15%-20% of total return for investors. And dividend payments softened the blow in 2018, when most market indices declined as the Federal Reserve hiked rates. Between 1930 and 2012, dividend income accounted for 42% of total return of the S&P 500, according to Morgan Stanley. Not all dividends are created equal, though, and it is important to understand the difference between high-yield stocks and dividend-growth stocks, particularly in a slow-growth or recessionary economic environment.\", 'Apple manufactures Smartphones, tablets, PCs, software and peripherals for a worldwide customer base. Its products include Mac desktop and mobile PCs, iPhone, iPad, Apple Watch, and various consumer products, including AirPods, Beats headphones and Apple TV. Apple services include App Store, iTunes, iCloud, Apple TV+, Apple Arcade, Apple Music, Apple Pay, and more.', \"The market has generally skidded lower over trading days spanning two weeks. Is this a healthy correction of an overbought market, or a sign of further market distress to come? We won't know right away -- but, so far, the stock market mainly has unwound much of its August run-up. \", \"Often overlooked amid the market's gyrations, dividend income is an important element of total return. Consider recent results: in 2015, the S&P 500 delivered a total return of 1.4%, including dividends -- but excluding dividends, the market was down 0.7%. Capital gains were a bit easier to achieve in 2016-17, though we note that dividend payments still contributed about 15%-20% of total return for investors. And dividend payments softened the blow in 2018, when most market indices declined as the Federal Reserve hiked rates. Between 1930 and 2012, dividend income accounted for 42% of total return of the S&P 500, according to Morgan Stanley. Not all dividends are created equal, though, and it is important to understand the difference between high-yield stocks and dividend-growth stocks, particularly in a slow-growth or recessionary economic environment.\", 'Apple manufactures Smartphones, tablets, PCs, software and peripherals for a worldwide customer base. Its products include Mac desktop and mobile PCs, iPhone, iPad, Apple Watch, and various consumer products, including AirPods, Beats headphones and Apple TV. Apple services include App Store, iTunes, iCloud, Apple TV+, Apple Arcade, Apple Music, Apple Pay, and more.', \"This is among our most important themes for 2020, and stretches across industries. We think companies that raise their dividends consistently at a double-digit rate are delivering three important signals amid all the recent market volatility:  1) the company's balance sheet is strong enough to pay a dividend; 2) management is focused on providing shareholder returns; and 3) management is confident enough in the near-term outlook to raise the payout aggressively. This third factor is especially important as the pandemic upends the nation's recent record of long-term economic growth.  Here are 13 stocks that meet our double-digit dividend test and are on the Argus BUY List.  They are also new holdings in our Dividend Growth Separately Managed Account and in the Dividend Growers Total Return Trust, sponsored by SmartTrust.\", 'Stocks rose on Friday, finishing off a strong week that saw major indexes climb higher. Riskier equities outperformed blue chips, a trend that was commonplace during the early weeks of the recovery. On Friday, the Dow Jones Industrial Average gained 162 points, or 0.6%. The S&P 500 was up 0.7% and the Nasdaq Composite was up 0.6%. For the full week, the Dow was up 2.6%, the S&P 500 was up 3.3% and the Nasdaq gained 3.4%. Year-to-date, the DJIA crossed into positive territory this week, and is up 0.4%, the S&P is up 8.6%, and the Nasdaq is up 30.4%. Over the past 52 weeks, the Dow is up 8.5%, the S&P 500 is up 19.9%, and the Nasdaq is up 46.9%. ', 'Apple manufactures Smartphones, tablets, PCs, software and peripherals for a worldwide customer base. Its products include Mac desktop and mobile PCs, iPhone, iPad, Apple Watch, and various consumer products, including AirPods, Beats headphones and Apple TV. Apple services include App Store, iTunes, iCloud, Apple TV+, Apple Arcade, Apple Music, Apple Pay, and more.', 'Sustainable Impact Investing is gaining traction with the global investment community. In January, BlackRock CEO Lawrence Fink, who oversees approximately $7 trillion in assets, announced that his firm would be investing in companies that are making progress on sustainability. Mr. Fink\\'s new focus follows rapid growth in sustainable assets in recent years. According to Opimas, a management consultancy focused on global capital markets, global assets under management in ESG strategies had grown to $40.5 trillion in 2020, doubling in four years and tripling in eight years. As assets have flowed in over the past 40 years, Sustainable Impact Investing has evolved. The discipline, originally known as Socially Responsible Investing, focused at first on excluding companies for various reasons. Now, the discipline promotes \"sustainable\" business practices across all industries that can have an \"impact\" on global issues.', 'Apple manufactures Smartphones, tablets, PCs, software and peripherals for a worldwide customer base. Its products include Mac desktop and mobile PCs, iPhone, iPad, Apple Watch, and various consumer products, including AirPods, Beats headphones and Apple TV. Apple services include App Store, iTunes, iCloud, Apple TV+, Apple Arcade, Apple Music, Apple Pay, and more.', 'Stocks were mixed on Friday morning as investors weighed strong earnings reports from major technology companies and positive consumer spending data. The Commerce Department said that U.S. consumer spending rose 5.6% in June, down from 8.5% in May, but above the Reuters consensus forecast of 5.5% growth. The Dow fell 0.5%, the S&P fell 0.1%, and the Nasdaq rose 0.7%. Crude oil rose slightly to $40 per barrel, while gold jumped $28 to $1970 per ounce.', \"Innovation may be hard to define but, to borrow from former U.S. Supreme Court Justice Potter Stewart, you know it when you see it. The United States economy is full of innovation. It has to be. Manufacturing industries that dominated the economy decades ago - textiles, televisions, even automobiles, to a large degree - have moved overseas, where costs are lower. Yet the U.S. economy, prior to the pandemic, had expanded to record levels. And now the U.S. Healthcare industry is mobilizing to improve COVID-19 testing, treatments and, ultimately, a vaccine. If U.S. corporations weren't innovating, creating new products and services and moving into new markets and applications, the domestic economy would not have recently completed a 10-year expansion phase before the coronavirus hit, and capital would not be flooding into the country. A couple of statistics should help illustrate our point. Consider that U.S. GDP was approximately $1 trillion in 1930 but nearly $22 trillion in 2019. That's growth of 22-times. Meanwhile, the U.S. population has grown less than 3-times during that time span, to 320 million from 120 million. The delta between GDP growth and population growth has been driven in large part by innovation. In addition, the value of listed corporations on U.S. stock exchanges at the end of 2018 was approximately $32 trillion, representing 41% of global equity market capitalization, while U.S. GDP represented only 25% of global GDP.\", 'We have published our latest version of the Argus Millennial Generation portfolio. This new generation of consumers - the Millennials - has recently become the largest demographic cohort in the country, and this group, with new lifestyle preferences and different career goals, is demanding a new menu of sustainable products and services. The intersection of important Millennial trends - sustainability, healthier living, an entrepreneurial spirit - has resulted in the emergence and growth of numerous companies well suited to the new generation. Many of these companies are expected to be future industry leaders and are included in the dynamic Argus Universe of Coverage. A diversified portfolio, of course, is more than just a list of companies linked to themes. To build the Argus Millennial Generation Portfolio, we applied financial concepts such as industry diversification, income generation, risk reduction and growth at a reasonable price.', 'Investors had numerous economic reports to digest this morning before the market opened. The US Department of Commerce announced that its \"third\" estimate for 1Q20 GDP growth was a rate of -5.0%.  This was in line with the previous estimates and with the consensus outlook. The GDP report also includes an inflation gauge, the PCE price index. This index, excluding food and energy, increased at a 1.7% pace -- below the Federal Reserve\\'s inflation target of 2.0%. Remember, these readings were for the first quarter; they will get worse in the second quarter. Still, the second quarter should be the bottom. This morning\\'s Durable Goods report indicated an increase in spending on Durable Goods by 15.8% in May versus a decline of 17.7% in April. The Commerce Department also reported that the trade deficit in goods widened in May (bad for 2Q GDP) and that wholesale inventories declined (good for 3Q GDP, as inventories are replenished).  The U.S. Department of Labor reported that another 1.48 million people filed initial unemployment claims.  While still high, the readings have been declining from week to week.  Even so, the continuing claims number remained above 20 million. This typically has been a close approximation to the unemployment rate, which is likely to be at least 13% when reported next week.', 'Apple manufactures Smartphones, tablets, PCs, software and peripherals for a worldwide customer base. Its products include Mac desktop and mobile PCs, iPhone, iPad, Apple Watch, and various consumer products, including AirPods, Beats headphones and Apple TV. Apple services include App Store, iTunes, iCloud, Apple TV+, Apple Arcade, Apple Music, Apple Pay, and more.', \"Stocks rose on Tuesday morning amid improved business activity and housing market data, along with reassurances from President Trump that the U.S.-China trade deal was 'fully intact.' The president's comments came after White House trade adviser Peter Navarro suggested in a television interview that the deal was 'over.' Mr. Navarro said that his comments were taken 'wildly out of context.' On the housing front, the Commerce Department said that U.S. new home sales rose 16.6% to a seasonally adjusted annual rate of 676,000 units in May, above the Reuters consensus forecast of 640,000. The Dow rose 0.9%, the S&P 1.0%, and the Nasdaq 1.3%. Crude oil traded near $41 per barrel, while gold rose $18 to $1784 per ounce.\", 'Apple manufactures Smartphones, tablets, PCs, software and peripherals for a worldwide customer base. Its products include Mac desktop and mobile PCs, iPhone, iPad, Apple Watch, and various consumer products, including AirPods, Beats headphones and Apple TV. Apple services include App Store, iTunes, iCloud, Apple TV+, Apple Arcade, Apple Music, Apple Pay, and more.', 'When the pandemic hit, people waited for things to get back to normal. Now we realize that what lies ahead is a new normal, not the old normal. Investors also are living within a new normal, and the chief characteristic is volatility.', \"The Technology sector has led the market recovery from the COVID-19 depths of late March.  Through April 30, the sector was flat for the year, compared to a 10% decline for the S&P 500. The sector is the largest in the U.S. market and now accounts for almost 26% of the S&P 500.  Over the long term, we expect the Tech sector to benefit from pervasive digitization across the economy, greater acceptance of transformative technologies, and the development of the Internet of Things (IoT). Healthy company and sector fundamentals are also positive. For individual companies, these include high cash levels, low debt, and broad international business exposure. We have an Over-Weight rating on the Tech sector and think investors should look to allocate up to 30% of their diversified portfolios to the group.  Here is how we use our analysts' Tech sector ideas in our Focus List and Model Portfolios.\", 'Stocks fell sharply on Friday morning after President Trump threatened to impose new tariffs on China for its handling of the coronavirus crisis. Manufacturing data was also weak. The Institute for Supply Management said that its factory index fell to 41.5 in April, the lowest level since April 2009, from 49.1 in March. Amazon shares fell more than 7% after the company warned that it could post a quarterly loss due to high expenses related to the pandemic. The S&P fell 2.8%, the Dow 2.4%, and the Nasdaq 3.1%. Crude oil rose slightly to $19 per barrel, while gold rose $14 to $1708 per ounce.', 'Apple manufactures Smartphones, tablets, PCs, software and peripherals for a worldwide customer base. Its products include Mac desktop and mobile PCs, iPhone, iPad, Apple Watch, and various consumer products, including AirPods, Beats headphones and Apple TV. Apple services include App Store, iTunes, iCloud, Apple TV+, Apple Arcade, Apple Music, Apple Pay, and more.', \"During the trading week ended 4/17/20, the stock market balanced horrific economic news (weekly unemployment claims, retail sales, industrial production) with hopeful medical news (positive results for GILD's remedesivir) and the government's three-stage plan to reopen the economy. Although the week was positive for stocks, investors are now realizing that the damage to the economy is extensive and will possibly take years to remediate.\", 'Apple manufactures Smartphones, tablets, PCs, software and peripherals for a worldwide customer base. Its products include Mac desktop and mobile PCs, iPhone, iPad, Apple Watch, and various consumer products, including AirPods, Beats headphones and Apple TV. Apple services include App Store, iTunes, iCloud, Apple TV+, Apple Arcade, Apple Music, Apple Pay, and more.', 'President Trump is preparing to announce new federal guidelines for reopening the pandemic-battered economy. Meanwhile, an additional 5.2 million people filed for unemployment benefits last week, bringing the total number to 22 million over just the past four weeks. Industries trading higher today include Multiline Retail, Biotechnology, and Internet & Direct Marketing Retail. Industries trading lower include Airlines, Energy Equipment & Services, and Consumer Finance. The VIX is up 0.38 at 41.20. The Dow fell 0.4%, the S&P rose 0.3%, and the Nasdaq rose 1.5%. Crude oil traded near $20 per barrel, while gold rose $11 to $1751 per ounce.', 'Apple manufactures Smartphones, tablets, PCs, software and peripherals for a worldwide customer base. Its products include Mac desktop and mobile PCs, iPhone, iPad, Apple Watch, and various consumer products, including AirPods, Beats headphones and Apple TV. Apple services include App Store, iTunes, iCloud, Apple TV+, Apple Arcade, Apple Music, Apple Pay, and more.', \"Stocks scored a win in the trading week ended March 27-- as in the best market week in 82 years, even as Friday of that week was a down day. The rally had some investors wondering if 'the low was in.' But in past big selloffs, the confirming low re-test has come months later.\", 'At the close in Frankfurt, Germany, the DAX 30 fell 2.43% to hit a new low in nearly a month, while the Mid Cap Index (MDAX) index fell 3.57% and the Technology Index (TecDAX) index fell 3.91%. The worst performers of the session were Delivery Hero AG (ETR:DHER), which lost 12.47% or 4.74 points to trade at 33.28. Top performers on the technology index (TecDAX) were Telefonica Deutschland Holding AG (ETR:O2Dn), up 1.02% to end at 2.77; Qiagen NV (ETR:QIA), down 0.33% to end at 42.22; United Internet AG (ETR:UTDI) fell 0.38% to trade at 28.70. The worst performing stocks CompuGroup Medical AG (ETR:COP1n) finally fell 8.34% to close at 39.76 in late trade; Nordex SE (ETR:NDXG) fell 7.88% to close at 9.26; in addition, Aixtron SE (ETR:AIXGn) fell 7.68% and closed at 23.67. On the Frankfurt Stock Exchange, 649 stocks fell, outnumbering gainers by 68, while 45 stocks were unchanged and unchanged. Gold futures August options contract prices fell 2.30% or 43.10 points to hit $1,832.40.', 'Qatar is currently one of the top three LNG exporters in the world, along with the United States and Australia. Qatar\\'s energy minister Kaabi said the country would announce partners for another expansion project called North Field South by the end of the year. The project, which will increase Qatar\\'s LNG production capacity to 126 million tonnes per year, is expected to be completed by 2027, Saad al Kaabi, Qatar\\'s energy minister and head of Qatar Energy, revealed that another partner will be announced later this week. According to previous media reports, Exxon Mobil and ConocoPhillips are expected to win stakes, and Shell has also made a takeover offer. Total CEO Patrick Pouyanne said the agreement would strengthen Europe\\'s energy security and help the continent achieve its long-term goal of reducing the use and use of coal. Pouyanne added: \"This is good news for the fight against climate change, as natural gas and LNG are key to supporting the energy transition.\"']\n"
          ]
        }
      ]
    },
    {
      "cell_type": "code",
      "source": [
        "#print(predict(l[0]))\n",
        "for i in l:\n",
        "  p = predict(i)\n",
        "  pre.append(p)"
      ],
      "metadata": {
        "id": "i2TyykSROTDv"
      },
      "execution_count": null,
      "outputs": []
    },
    {
      "cell_type": "code",
      "source": [
        "#print(pre)\n",
        "import pandas as pd\n",
        "df = pd.DataFrame()\n",
        "df['summary'] = l\n",
        "df['subtract'] = pre\n",
        "df"
      ],
      "metadata": {
        "colab": {
          "base_uri": "https://localhost:8080/",
          "height": 244
        },
        "id": "uAsW7bFWhjgV",
        "outputId": "c3e4d3df-0dc2-4a3a-f5ac-3d89fae19c8a"
      },
      "execution_count": null,
      "outputs": [
        {
          "output_type": "error",
          "ename": "NameError",
          "evalue": "ignored",
          "traceback": [
            "\u001b[0;31m---------------------------------------------------------------------------\u001b[0m",
            "\u001b[0;31mNameError\u001b[0m                                 Traceback (most recent call last)",
            "\u001b[0;32m<ipython-input-1-df6fbe15845f>\u001b[0m in \u001b[0;36m<module>\u001b[0;34m()\u001b[0m\n\u001b[1;32m      2\u001b[0m \u001b[0;32mimport\u001b[0m \u001b[0mpandas\u001b[0m \u001b[0;32mas\u001b[0m \u001b[0mpd\u001b[0m\u001b[0;34m\u001b[0m\u001b[0;34m\u001b[0m\u001b[0m\n\u001b[1;32m      3\u001b[0m \u001b[0mdf\u001b[0m \u001b[0;34m=\u001b[0m \u001b[0mpd\u001b[0m\u001b[0;34m.\u001b[0m\u001b[0mDataFrame\u001b[0m\u001b[0;34m(\u001b[0m\u001b[0;34m)\u001b[0m\u001b[0;34m\u001b[0m\u001b[0;34m\u001b[0m\u001b[0m\n\u001b[0;32m----> 4\u001b[0;31m \u001b[0mdf\u001b[0m\u001b[0;34m[\u001b[0m\u001b[0;34m'summary'\u001b[0m\u001b[0;34m]\u001b[0m \u001b[0;34m=\u001b[0m \u001b[0ml\u001b[0m\u001b[0;34m\u001b[0m\u001b[0;34m\u001b[0m\u001b[0m\n\u001b[0m\u001b[1;32m      5\u001b[0m \u001b[0mdf\u001b[0m\u001b[0;34m[\u001b[0m\u001b[0;34m'subtract'\u001b[0m\u001b[0;34m]\u001b[0m \u001b[0;34m=\u001b[0m \u001b[0mpre\u001b[0m\u001b[0;34m\u001b[0m\u001b[0;34m\u001b[0m\u001b[0m\n\u001b[1;32m      6\u001b[0m \u001b[0mdf\u001b[0m\u001b[0;34m\u001b[0m\u001b[0;34m\u001b[0m\u001b[0m\n",
            "\u001b[0;31mNameError\u001b[0m: name 'l' is not defined"
          ]
        }
      ]
    }
  ]
}